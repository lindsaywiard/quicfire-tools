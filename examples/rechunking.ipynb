{
 "cells": [
  {
   "cell_type": "code",
   "execution_count": 60,
   "id": "fee353ea48913bdd",
   "metadata": {
    "collapsed": false,
    "ExecuteTime": {
     "end_time": "2023-10-10T19:49:45.088095Z",
     "start_time": "2023-10-10T19:49:45.067837Z"
    }
   },
   "outputs": [],
   "source": [
    "import sys\n",
    "\n",
    "sys.path.append(\"../quicfire_tools\")\n",
    "from quicfire_tools import outputs\n",
    "from quicfire_tools.parameters import SimulationParameters"
   ]
  },
  {
   "cell_type": "code",
   "execution_count": 61,
   "id": "initial_id",
   "metadata": {
    "ExecuteTime": {
     "end_time": "2023-10-10T19:49:45.105332Z",
     "start_time": "2023-10-10T19:49:45.069927Z"
    }
   },
   "outputs": [
    {
     "name": "stderr",
     "output_type": "stream",
     "text": [
      "/var/folders/_z/54qnvh3d5ll86lchz81zm3dr0000gn/T/ipykernel_5175/525902691.py:7: DeprecationWarning: Importing display from IPython.core.display is deprecated since IPython 7.14, please import from IPython display\n",
      "  from IPython.core.display import display, HTML\n"
     ]
    }
   ],
   "source": [
    "import zarr\n",
    "import numpy as np\n",
    "import xarray as xr\n",
    "import dask.array as da\n",
    "from rechunker import rechunk\n",
    "from pathlib import Path\n",
    "from IPython.core.display import display, HTML"
   ]
  },
  {
   "cell_type": "code",
   "execution_count": 62,
   "id": "b1d8f6f257e053b",
   "metadata": {
    "collapsed": false,
    "ExecuteTime": {
     "end_time": "2023-10-10T19:49:45.119922Z",
     "start_time": "2023-10-10T19:49:45.075834Z"
    }
   },
   "outputs": [],
   "source": [
    "DATA_PATH = Path(\"../tests/data\")\n",
    "SIMULATION_PATH = DATA_PATH / \"crazy-canyon-simulation\"\n",
    "OUTPUT_PATH = SIMULATION_PATH / \"Output\"\n",
    "DRAWFIRE_PATH = OUTPUT_PATH / \"drawfire\"\n",
    "\n",
    "# Create simulation parameters object\n",
    "SIM_PARAMS = SimulationParameters(\n",
    "    nx=100,\n",
    "    ny=100,\n",
    "    nz=56,\n",
    "    dx=1,\n",
    "    dy=1,\n",
    "    dz=1,\n",
    "    wind_speed=6.5,\n",
    "    wind_direction=270,\n",
    "    sim_time=600,\n",
    "    auto_kill=0,\n",
    "    num_cpus=4,\n",
    "    fuel_flag=4,\n",
    "    ignition_flag=1,\n",
    "    output_time=100,\n",
    "    topo_flag=0,\n",
    ")"
   ]
  },
  {
   "cell_type": "code",
   "execution_count": 63,
   "id": "6dddacaf2eab2038",
   "metadata": {
    "collapsed": false,
    "ExecuteTime": {
     "end_time": "2023-10-10T19:49:45.120077Z",
     "start_time": "2023-10-10T19:49:45.078817Z"
    }
   },
   "outputs": [],
   "source": [
    "sim_outputs = outputs.SimulationOutputs(OUTPUT_PATH, SIM_PARAMS)"
   ]
  },
  {
   "cell_type": "code",
   "execution_count": 64,
   "id": "13d3bb0f4bd15177",
   "metadata": {
    "collapsed": false,
    "ExecuteTime": {
     "end_time": "2023-10-10T19:49:45.148700Z",
     "start_time": "2023-10-10T19:49:45.084052Z"
    }
   },
   "outputs": [],
   "source": [
    "zarr_simulation_outputs = sim_outputs.to_zarr(DATA_PATH / \"tmp/test.zarr\")"
   ]
  },
  {
   "cell_type": "code",
   "execution_count": 65,
   "id": "f7659b86d5859b16",
   "metadata": {
    "collapsed": false,
    "ExecuteTime": {
     "end_time": "2023-10-10T19:49:45.155759Z",
     "start_time": "2023-10-10T19:49:45.146479Z"
    }
   },
   "outputs": [
    {
     "name": "stdout",
     "output_type": "stream",
     "text": [
      "/\n",
      " ├── fire-energy_to_atmos (2, 100, 100, 57) float64\n",
      " ├── fire-reaction_rate (2, 100, 100, 57) float64\n",
      " ├── fuels-dens (2, 100, 100, 57) float64\n",
      " ├── fuels-moist (2, 100, 100, 57) float64\n",
      " ├── groundfuelheight (1, 100, 100, 1) float64\n",
      " ├── mburnt_integ (2, 100, 100, 1) float64\n",
      " ├── thermaldose (2, 100, 100, 57) float64\n",
      " ├── thermalradiation (2, 100, 100, 57) float64\n",
      " └── windu (2, 100, 100, 57) float64\n"
     ]
    }
   ],
   "source": [
    "print(zarr_simulation_outputs.tree())"
   ]
  },
  {
   "cell_type": "markdown",
   "id": "455ff33034e7caf",
   "metadata": {
    "collapsed": false
   },
   "source": [
    "# Xarray rechunking"
   ]
  },
  {
   "cell_type": "markdown",
   "id": "755e9c58ab1f7654",
   "metadata": {
    "collapsed": false
   },
   "source": [
    "### All arrays in a dataset"
   ]
  },
  {
   "cell_type": "code",
   "execution_count": 66,
   "id": "5af1506169e74c01",
   "metadata": {
    "collapsed": false,
    "ExecuteTime": {
     "end_time": "2023-10-10T19:49:45.161128Z",
     "start_time": "2023-10-10T19:49:45.151808Z"
    }
   },
   "outputs": [],
   "source": [
    "ds_3d = xr.open_zarr(DATA_PATH / \"tmp/test.zarr\", drop_variables=[\"groundfuelheight\", \"mburnt_integ\"], consolidated=False)"
   ]
  },
  {
   "cell_type": "code",
   "execution_count": 67,
   "id": "8f13307ddd520b92",
   "metadata": {
    "collapsed": false,
    "ExecuteTime": {
     "end_time": "2023-10-10T19:49:45.164851Z",
     "start_time": "2023-10-10T19:49:45.161450Z"
    }
   },
   "outputs": [
    {
     "name": "stdout",
     "output_type": "stream",
     "text": [
      "<xarray.Dataset>\n",
      "Dimensions:               (time: 2, ny: 100, nx: 100, nz: 57)\n",
      "Dimensions without coordinates: time, ny, nx, nz\n",
      "Data variables:\n",
      "    fire-energy_to_atmos  (time, ny, nx, nz) float64 dask.array<chunksize=(1, 100, 100, 57), meta=np.ndarray>\n",
      "    fire-reaction_rate    (time, ny, nx, nz) float64 dask.array<chunksize=(1, 100, 100, 57), meta=np.ndarray>\n",
      "    fuels-dens            (time, ny, nx, nz) float64 dask.array<chunksize=(1, 100, 100, 57), meta=np.ndarray>\n",
      "    fuels-moist           (time, ny, nx, nz) float64 dask.array<chunksize=(1, 100, 100, 57), meta=np.ndarray>\n",
      "    thermaldose           (time, ny, nx, nz) float64 dask.array<chunksize=(1, 100, 100, 57), meta=np.ndarray>\n",
      "    thermalradiation      (time, ny, nx, nz) float64 dask.array<chunksize=(1, 100, 100, 57), meta=np.ndarray>\n",
      "    windu                 (time, ny, nx, nz) float64 dask.array<chunksize=(1, 100, 100, 57), meta=np.ndarray>\n"
     ]
    }
   ],
   "source": [
    "print(ds_3d)"
   ]
  },
  {
   "cell_type": "code",
   "execution_count": 68,
   "outputs": [
    {
     "data": {
      "text/plain": "<xarray.DataArray 'fuels-dens' (time: 2, ny: 100, nx: 100, nz: 57)>\ndask.array<open_dataset-fuels-dens, shape=(2, 100, 100, 57), dtype=float64, chunksize=(1, 100, 100, 57), chunktype=numpy.ndarray>\nDimensions without coordinates: time, ny, nx, nz",
      "text/html": "<div><svg style=\"position: absolute; width: 0; height: 0; overflow: hidden\">\n<defs>\n<symbol id=\"icon-database\" viewBox=\"0 0 32 32\">\n<path d=\"M16 0c-8.837 0-16 2.239-16 5v4c0 2.761 7.163 5 16 5s16-2.239 16-5v-4c0-2.761-7.163-5-16-5z\"></path>\n<path d=\"M16 17c-8.837 0-16-2.239-16-5v6c0 2.761 7.163 5 16 5s16-2.239 16-5v-6c0 2.761-7.163 5-16 5z\"></path>\n<path d=\"M16 26c-8.837 0-16-2.239-16-5v6c0 2.761 7.163 5 16 5s16-2.239 16-5v-6c0 2.761-7.163 5-16 5z\"></path>\n</symbol>\n<symbol id=\"icon-file-text2\" viewBox=\"0 0 32 32\">\n<path d=\"M28.681 7.159c-0.694-0.947-1.662-2.053-2.724-3.116s-2.169-2.030-3.116-2.724c-1.612-1.182-2.393-1.319-2.841-1.319h-15.5c-1.378 0-2.5 1.121-2.5 2.5v27c0 1.378 1.122 2.5 2.5 2.5h23c1.378 0 2.5-1.122 2.5-2.5v-19.5c0-0.448-0.137-1.23-1.319-2.841zM24.543 5.457c0.959 0.959 1.712 1.825 2.268 2.543h-4.811v-4.811c0.718 0.556 1.584 1.309 2.543 2.268zM28 29.5c0 0.271-0.229 0.5-0.5 0.5h-23c-0.271 0-0.5-0.229-0.5-0.5v-27c0-0.271 0.229-0.5 0.5-0.5 0 0 15.499-0 15.5 0v7c0 0.552 0.448 1 1 1h7v19.5z\"></path>\n<path d=\"M23 26h-14c-0.552 0-1-0.448-1-1s0.448-1 1-1h14c0.552 0 1 0.448 1 1s-0.448 1-1 1z\"></path>\n<path d=\"M23 22h-14c-0.552 0-1-0.448-1-1s0.448-1 1-1h14c0.552 0 1 0.448 1 1s-0.448 1-1 1z\"></path>\n<path d=\"M23 18h-14c-0.552 0-1-0.448-1-1s0.448-1 1-1h14c0.552 0 1 0.448 1 1s-0.448 1-1 1z\"></path>\n</symbol>\n</defs>\n</svg>\n<style>/* CSS stylesheet for displaying xarray objects in jupyterlab.\n *\n */\n\n:root {\n  --xr-font-color0: var(--jp-content-font-color0, rgba(0, 0, 0, 1));\n  --xr-font-color2: var(--jp-content-font-color2, rgba(0, 0, 0, 0.54));\n  --xr-font-color3: var(--jp-content-font-color3, rgba(0, 0, 0, 0.38));\n  --xr-border-color: var(--jp-border-color2, #e0e0e0);\n  --xr-disabled-color: var(--jp-layout-color3, #bdbdbd);\n  --xr-background-color: var(--jp-layout-color0, white);\n  --xr-background-color-row-even: var(--jp-layout-color1, white);\n  --xr-background-color-row-odd: var(--jp-layout-color2, #eeeeee);\n}\n\nhtml[theme=dark],\nbody[data-theme=dark],\nbody.vscode-dark {\n  --xr-font-color0: rgba(255, 255, 255, 1);\n  --xr-font-color2: rgba(255, 255, 255, 0.54);\n  --xr-font-color3: rgba(255, 255, 255, 0.38);\n  --xr-border-color: #1F1F1F;\n  --xr-disabled-color: #515151;\n  --xr-background-color: #111111;\n  --xr-background-color-row-even: #111111;\n  --xr-background-color-row-odd: #313131;\n}\n\n.xr-wrap {\n  display: block !important;\n  min-width: 300px;\n  max-width: 700px;\n}\n\n.xr-text-repr-fallback {\n  /* fallback to plain text repr when CSS is not injected (untrusted notebook) */\n  display: none;\n}\n\n.xr-header {\n  padding-top: 6px;\n  padding-bottom: 6px;\n  margin-bottom: 4px;\n  border-bottom: solid 1px var(--xr-border-color);\n}\n\n.xr-header > div,\n.xr-header > ul {\n  display: inline;\n  margin-top: 0;\n  margin-bottom: 0;\n}\n\n.xr-obj-type,\n.xr-array-name {\n  margin-left: 2px;\n  margin-right: 10px;\n}\n\n.xr-obj-type {\n  color: var(--xr-font-color2);\n}\n\n.xr-sections {\n  padding-left: 0 !important;\n  display: grid;\n  grid-template-columns: 150px auto auto 1fr 20px 20px;\n}\n\n.xr-section-item {\n  display: contents;\n}\n\n.xr-section-item input {\n  display: none;\n}\n\n.xr-section-item input + label {\n  color: var(--xr-disabled-color);\n}\n\n.xr-section-item input:enabled + label {\n  cursor: pointer;\n  color: var(--xr-font-color2);\n}\n\n.xr-section-item input:enabled + label:hover {\n  color: var(--xr-font-color0);\n}\n\n.xr-section-summary {\n  grid-column: 1;\n  color: var(--xr-font-color2);\n  font-weight: 500;\n}\n\n.xr-section-summary > span {\n  display: inline-block;\n  padding-left: 0.5em;\n}\n\n.xr-section-summary-in:disabled + label {\n  color: var(--xr-font-color2);\n}\n\n.xr-section-summary-in + label:before {\n  display: inline-block;\n  content: '►';\n  font-size: 11px;\n  width: 15px;\n  text-align: center;\n}\n\n.xr-section-summary-in:disabled + label:before {\n  color: var(--xr-disabled-color);\n}\n\n.xr-section-summary-in:checked + label:before {\n  content: '▼';\n}\n\n.xr-section-summary-in:checked + label > span {\n  display: none;\n}\n\n.xr-section-summary,\n.xr-section-inline-details {\n  padding-top: 4px;\n  padding-bottom: 4px;\n}\n\n.xr-section-inline-details {\n  grid-column: 2 / -1;\n}\n\n.xr-section-details {\n  display: none;\n  grid-column: 1 / -1;\n  margin-bottom: 5px;\n}\n\n.xr-section-summary-in:checked ~ .xr-section-details {\n  display: contents;\n}\n\n.xr-array-wrap {\n  grid-column: 1 / -1;\n  display: grid;\n  grid-template-columns: 20px auto;\n}\n\n.xr-array-wrap > label {\n  grid-column: 1;\n  vertical-align: top;\n}\n\n.xr-preview {\n  color: var(--xr-font-color3);\n}\n\n.xr-array-preview,\n.xr-array-data {\n  padding: 0 5px !important;\n  grid-column: 2;\n}\n\n.xr-array-data,\n.xr-array-in:checked ~ .xr-array-preview {\n  display: none;\n}\n\n.xr-array-in:checked ~ .xr-array-data,\n.xr-array-preview {\n  display: inline-block;\n}\n\n.xr-dim-list {\n  display: inline-block !important;\n  list-style: none;\n  padding: 0 !important;\n  margin: 0;\n}\n\n.xr-dim-list li {\n  display: inline-block;\n  padding: 0;\n  margin: 0;\n}\n\n.xr-dim-list:before {\n  content: '(';\n}\n\n.xr-dim-list:after {\n  content: ')';\n}\n\n.xr-dim-list li:not(:last-child):after {\n  content: ',';\n  padding-right: 5px;\n}\n\n.xr-has-index {\n  font-weight: bold;\n}\n\n.xr-var-list,\n.xr-var-item {\n  display: contents;\n}\n\n.xr-var-item > div,\n.xr-var-item label,\n.xr-var-item > .xr-var-name span {\n  background-color: var(--xr-background-color-row-even);\n  margin-bottom: 0;\n}\n\n.xr-var-item > .xr-var-name:hover span {\n  padding-right: 5px;\n}\n\n.xr-var-list > li:nth-child(odd) > div,\n.xr-var-list > li:nth-child(odd) > label,\n.xr-var-list > li:nth-child(odd) > .xr-var-name span {\n  background-color: var(--xr-background-color-row-odd);\n}\n\n.xr-var-name {\n  grid-column: 1;\n}\n\n.xr-var-dims {\n  grid-column: 2;\n}\n\n.xr-var-dtype {\n  grid-column: 3;\n  text-align: right;\n  color: var(--xr-font-color2);\n}\n\n.xr-var-preview {\n  grid-column: 4;\n}\n\n.xr-index-preview {\n  grid-column: 2 / 5;\n  color: var(--xr-font-color2);\n}\n\n.xr-var-name,\n.xr-var-dims,\n.xr-var-dtype,\n.xr-preview,\n.xr-attrs dt {\n  white-space: nowrap;\n  overflow: hidden;\n  text-overflow: ellipsis;\n  padding-right: 10px;\n}\n\n.xr-var-name:hover,\n.xr-var-dims:hover,\n.xr-var-dtype:hover,\n.xr-attrs dt:hover {\n  overflow: visible;\n  width: auto;\n  z-index: 1;\n}\n\n.xr-var-attrs,\n.xr-var-data,\n.xr-index-data {\n  display: none;\n  background-color: var(--xr-background-color) !important;\n  padding-bottom: 5px !important;\n}\n\n.xr-var-attrs-in:checked ~ .xr-var-attrs,\n.xr-var-data-in:checked ~ .xr-var-data,\n.xr-index-data-in:checked ~ .xr-index-data {\n  display: block;\n}\n\n.xr-var-data > table {\n  float: right;\n}\n\n.xr-var-name span,\n.xr-var-data,\n.xr-index-name div,\n.xr-index-data,\n.xr-attrs {\n  padding-left: 25px !important;\n}\n\n.xr-attrs,\n.xr-var-attrs,\n.xr-var-data,\n.xr-index-data {\n  grid-column: 1 / -1;\n}\n\ndl.xr-attrs {\n  padding: 0;\n  margin: 0;\n  display: grid;\n  grid-template-columns: 125px auto;\n}\n\n.xr-attrs dt,\n.xr-attrs dd {\n  padding: 0;\n  margin: 0;\n  float: left;\n  padding-right: 10px;\n  width: auto;\n}\n\n.xr-attrs dt {\n  font-weight: normal;\n  grid-column: 1;\n}\n\n.xr-attrs dt:hover span {\n  display: inline-block;\n  background: var(--xr-background-color);\n  padding-right: 10px;\n}\n\n.xr-attrs dd {\n  grid-column: 2;\n  white-space: pre-wrap;\n  word-break: break-all;\n}\n\n.xr-icon-database,\n.xr-icon-file-text2,\n.xr-no-icon {\n  display: inline-block;\n  vertical-align: middle;\n  width: 1em;\n  height: 1.5em !important;\n  stroke-width: 0;\n  stroke: currentColor;\n  fill: currentColor;\n}\n</style><pre class='xr-text-repr-fallback'>&lt;xarray.DataArray &#x27;fuels-dens&#x27; (time: 2, ny: 100, nx: 100, nz: 57)&gt;\ndask.array&lt;open_dataset-fuels-dens, shape=(2, 100, 100, 57), dtype=float64, chunksize=(1, 100, 100, 57), chunktype=numpy.ndarray&gt;\nDimensions without coordinates: time, ny, nx, nz</pre><div class='xr-wrap' style='display:none'><div class='xr-header'><div class='xr-obj-type'>xarray.DataArray</div><div class='xr-array-name'>'fuels-dens'</div><ul class='xr-dim-list'><li><span>time</span>: 2</li><li><span>ny</span>: 100</li><li><span>nx</span>: 100</li><li><span>nz</span>: 57</li></ul></div><ul class='xr-sections'><li class='xr-section-item'><div class='xr-array-wrap'><input id='section-59515ee8-dc13-409b-8637-f16943dbf0b2' class='xr-array-in' type='checkbox' checked><label for='section-59515ee8-dc13-409b-8637-f16943dbf0b2' title='Show/hide data repr'><svg class='icon xr-icon-database'><use xlink:href='#icon-database'></use></svg></label><div class='xr-array-preview xr-preview'><span>dask.array&lt;chunksize=(1, 100, 100, 57), meta=np.ndarray&gt;</span></div><div class='xr-array-data'><table>\n    <tr>\n        <td>\n            <table style=\"border-collapse: collapse;\">\n                <thead>\n                    <tr>\n                        <td> </td>\n                        <th> Array </th>\n                        <th> Chunk </th>\n                    </tr>\n                </thead>\n                <tbody>\n                    \n                    <tr>\n                        <th> Bytes </th>\n                        <td> 8.70 MiB </td>\n                        <td> 4.35 MiB </td>\n                    </tr>\n                    \n                    <tr>\n                        <th> Shape </th>\n                        <td> (2, 100, 100, 57) </td>\n                        <td> (1, 100, 100, 57) </td>\n                    </tr>\n                    <tr>\n                        <th> Dask graph </th>\n                        <td colspan=\"2\"> 2 chunks in 2 graph layers </td>\n                    </tr>\n                    <tr>\n                        <th> Data type </th>\n                        <td colspan=\"2\"> float64 numpy.ndarray </td>\n                    </tr>\n                </tbody>\n            </table>\n        </td>\n        <td>\n        <svg width=\"386\" height=\"240\" style=\"stroke:rgb(0,0,0);stroke-width:1\" >\n\n  <!-- Horizontal lines -->\n  <line x1=\"0\" y1=\"0\" x2=\"29\" y2=\"0\" style=\"stroke-width:2\" />\n  <line x1=\"0\" y1=\"25\" x2=\"29\" y2=\"25\" style=\"stroke-width:2\" />\n\n  <!-- Vertical lines -->\n  <line x1=\"0\" y1=\"0\" x2=\"0\" y2=\"25\" style=\"stroke-width:2\" />\n  <line x1=\"14\" y1=\"0\" x2=\"14\" y2=\"25\" />\n  <line x1=\"29\" y1=\"0\" x2=\"29\" y2=\"25\" style=\"stroke-width:2\" />\n\n  <!-- Colored Rectangle -->\n  <polygon points=\"0.0,0.0 29.030629010473877,0.0 29.030629010473877,25.412616514582485 0.0,25.412616514582485\" style=\"fill:#ECB172A0;stroke-width:0\"/>\n\n  <!-- Text -->\n  <text x=\"14.515315\" y=\"45.412617\" font-size=\"1.0rem\" font-weight=\"100\" text-anchor=\"middle\" >2</text>\n  <text x=\"49.030629\" y=\"12.706308\" font-size=\"1.0rem\" font-weight=\"100\" text-anchor=\"middle\" transform=\"rotate(0,49.030629,12.706308)\">1</text>\n\n\n  <!-- Horizontal lines -->\n  <line x1=\"99\" y1=\"0\" x2=\"169\" y2=\"70\" style=\"stroke-width:2\" />\n  <line x1=\"99\" y1=\"120\" x2=\"169\" y2=\"190\" style=\"stroke-width:2\" />\n\n  <!-- Vertical lines -->\n  <line x1=\"99\" y1=\"0\" x2=\"99\" y2=\"120\" style=\"stroke-width:2\" />\n  <line x1=\"169\" y1=\"70\" x2=\"169\" y2=\"190\" style=\"stroke-width:2\" />\n\n  <!-- Colored Rectangle -->\n  <polygon points=\"99.0,0.0 169.58823529411765,70.58823529411765 169.58823529411765,190.58823529411765 99.0,120.0\" style=\"fill:#ECB172A0;stroke-width:0\"/>\n\n  <!-- Horizontal lines -->\n  <line x1=\"99\" y1=\"0\" x2=\"167\" y2=\"0\" style=\"stroke-width:2\" />\n  <line x1=\"169\" y1=\"70\" x2=\"237\" y2=\"70\" style=\"stroke-width:2\" />\n\n  <!-- Vertical lines -->\n  <line x1=\"99\" y1=\"0\" x2=\"169\" y2=\"70\" style=\"stroke-width:2\" />\n  <line x1=\"167\" y1=\"0\" x2=\"237\" y2=\"70\" style=\"stroke-width:2\" />\n\n  <!-- Colored Rectangle -->\n  <polygon points=\"99.0,0.0 167.4,0.0 237.98823529411766,70.58823529411765 169.58823529411765,70.58823529411765\" style=\"fill:#ECB172A0;stroke-width:0\"/>\n\n  <!-- Horizontal lines -->\n  <line x1=\"169\" y1=\"70\" x2=\"237\" y2=\"70\" style=\"stroke-width:2\" />\n  <line x1=\"169\" y1=\"190\" x2=\"237\" y2=\"190\" style=\"stroke-width:2\" />\n\n  <!-- Vertical lines -->\n  <line x1=\"169\" y1=\"70\" x2=\"169\" y2=\"190\" style=\"stroke-width:2\" />\n  <line x1=\"237\" y1=\"70\" x2=\"237\" y2=\"190\" style=\"stroke-width:2\" />\n\n  <!-- Colored Rectangle -->\n  <polygon points=\"169.58823529411765,70.58823529411765 237.98823529411766,70.58823529411765 237.98823529411766,190.58823529411765 169.58823529411765,190.58823529411765\" style=\"fill:#ECB172A0;stroke-width:0\"/>\n\n  <!-- Text -->\n  <text x=\"203.788235\" y=\"210.588235\" font-size=\"1.0rem\" font-weight=\"100\" text-anchor=\"middle\" >57</text>\n  <text x=\"257.988235\" y=\"130.588235\" font-size=\"1.0rem\" font-weight=\"100\" text-anchor=\"middle\" transform=\"rotate(-90,257.988235,130.588235)\">100</text>\n  <text x=\"124.294118\" y=\"175.294118\" font-size=\"1.0rem\" font-weight=\"100\" text-anchor=\"middle\" transform=\"rotate(45,124.294118,175.294118)\">100</text>\n</svg>\n        </td>\n    </tr>\n</table></div></div></li><li class='xr-section-item'><input id='section-4d6728a4-b6ce-4003-85d5-2ba5ae2c9504' class='xr-section-summary-in' type='checkbox' disabled ><label for='section-4d6728a4-b6ce-4003-85d5-2ba5ae2c9504' class='xr-section-summary'  title='Expand/collapse section'>Coordinates: <span>(0)</span></label><div class='xr-section-inline-details'></div><div class='xr-section-details'><ul class='xr-var-list'></ul></div></li><li class='xr-section-item'><input id='section-ae21784a-45e6-4455-a83a-4330f061f36e' class='xr-section-summary-in' type='checkbox' disabled ><label for='section-ae21784a-45e6-4455-a83a-4330f061f36e' class='xr-section-summary'  title='Expand/collapse section'>Indexes: <span>(0)</span></label><div class='xr-section-inline-details'></div><div class='xr-section-details'><ul class='xr-var-list'></ul></div></li><li class='xr-section-item'><input id='section-abc93269-4ace-4ce0-9c34-21ec6ca75acf' class='xr-section-summary-in' type='checkbox' disabled ><label for='section-abc93269-4ace-4ce0-9c34-21ec6ca75acf' class='xr-section-summary'  title='Expand/collapse section'>Attributes: <span>(0)</span></label><div class='xr-section-inline-details'></div><div class='xr-section-details'><dl class='xr-attrs'></dl></div></li></ul></div></div>"
     },
     "execution_count": 68,
     "metadata": {},
     "output_type": "execute_result"
    }
   ],
   "source": [
    "ds_3d[\"fuels-dens\"]"
   ],
   "metadata": {
    "collapsed": false,
    "ExecuteTime": {
     "end_time": "2023-10-10T19:49:45.200445Z",
     "start_time": "2023-10-10T19:49:45.165912Z"
    }
   },
   "id": "cfb204c40dedfd45"
  },
  {
   "cell_type": "code",
   "execution_count": 69,
   "id": "d2787fb3df8932d1",
   "metadata": {
    "collapsed": false,
    "ExecuteTime": {
     "end_time": "2023-10-10T19:49:45.205551Z",
     "start_time": "2023-10-10T19:49:45.172579Z"
    }
   },
   "outputs": [],
   "source": [
    "# Rechunk the full dataset along the time dimension\n",
    "ds_3d_rechunked = ds_3d.chunk({\"time\": 2})"
   ]
  },
  {
   "cell_type": "code",
   "execution_count": 70,
   "id": "21a348b1ede3dc62",
   "metadata": {
    "collapsed": false,
    "ExecuteTime": {
     "end_time": "2023-10-10T19:49:45.205881Z",
     "start_time": "2023-10-10T19:49:45.175075Z"
    }
   },
   "outputs": [
    {
     "name": "stdout",
     "output_type": "stream",
     "text": [
      "<xarray.Dataset>\n",
      "Dimensions:               (time: 2, ny: 100, nx: 100, nz: 57)\n",
      "Dimensions without coordinates: time, ny, nx, nz\n",
      "Data variables:\n",
      "    fire-energy_to_atmos  (time, ny, nx, nz) float64 dask.array<chunksize=(2, 100, 100, 57), meta=np.ndarray>\n",
      "    fire-reaction_rate    (time, ny, nx, nz) float64 dask.array<chunksize=(2, 100, 100, 57), meta=np.ndarray>\n",
      "    fuels-dens            (time, ny, nx, nz) float64 dask.array<chunksize=(2, 100, 100, 57), meta=np.ndarray>\n",
      "    fuels-moist           (time, ny, nx, nz) float64 dask.array<chunksize=(2, 100, 100, 57), meta=np.ndarray>\n",
      "    thermaldose           (time, ny, nx, nz) float64 dask.array<chunksize=(2, 100, 100, 57), meta=np.ndarray>\n",
      "    thermalradiation      (time, ny, nx, nz) float64 dask.array<chunksize=(2, 100, 100, 57), meta=np.ndarray>\n",
      "    windu                 (time, ny, nx, nz) float64 dask.array<chunksize=(2, 100, 100, 57), meta=np.ndarray>\n"
     ]
    }
   ],
   "source": [
    "print(ds_3d_rechunked)"
   ]
  },
  {
   "cell_type": "code",
   "execution_count": 71,
   "id": "6768cce5-bfac-45f2-998b-78b4958bcbb1",
   "metadata": {
    "ExecuteTime": {
     "end_time": "2023-10-10T19:49:45.206657Z",
     "start_time": "2023-10-10T19:49:45.178827Z"
    }
   },
   "outputs": [
    {
     "data": {
      "text/plain": "<xarray.DataArray 'fuels-dens' (time: 2, ny: 100, nx: 100, nz: 57)>\ndask.array<rechunk-merge, shape=(2, 100, 100, 57), dtype=float64, chunksize=(2, 100, 100, 57), chunktype=numpy.ndarray>\nDimensions without coordinates: time, ny, nx, nz",
      "text/html": "<div><svg style=\"position: absolute; width: 0; height: 0; overflow: hidden\">\n<defs>\n<symbol id=\"icon-database\" viewBox=\"0 0 32 32\">\n<path d=\"M16 0c-8.837 0-16 2.239-16 5v4c0 2.761 7.163 5 16 5s16-2.239 16-5v-4c0-2.761-7.163-5-16-5z\"></path>\n<path d=\"M16 17c-8.837 0-16-2.239-16-5v6c0 2.761 7.163 5 16 5s16-2.239 16-5v-6c0 2.761-7.163 5-16 5z\"></path>\n<path d=\"M16 26c-8.837 0-16-2.239-16-5v6c0 2.761 7.163 5 16 5s16-2.239 16-5v-6c0 2.761-7.163 5-16 5z\"></path>\n</symbol>\n<symbol id=\"icon-file-text2\" viewBox=\"0 0 32 32\">\n<path d=\"M28.681 7.159c-0.694-0.947-1.662-2.053-2.724-3.116s-2.169-2.030-3.116-2.724c-1.612-1.182-2.393-1.319-2.841-1.319h-15.5c-1.378 0-2.5 1.121-2.5 2.5v27c0 1.378 1.122 2.5 2.5 2.5h23c1.378 0 2.5-1.122 2.5-2.5v-19.5c0-0.448-0.137-1.23-1.319-2.841zM24.543 5.457c0.959 0.959 1.712 1.825 2.268 2.543h-4.811v-4.811c0.718 0.556 1.584 1.309 2.543 2.268zM28 29.5c0 0.271-0.229 0.5-0.5 0.5h-23c-0.271 0-0.5-0.229-0.5-0.5v-27c0-0.271 0.229-0.5 0.5-0.5 0 0 15.499-0 15.5 0v7c0 0.552 0.448 1 1 1h7v19.5z\"></path>\n<path d=\"M23 26h-14c-0.552 0-1-0.448-1-1s0.448-1 1-1h14c0.552 0 1 0.448 1 1s-0.448 1-1 1z\"></path>\n<path d=\"M23 22h-14c-0.552 0-1-0.448-1-1s0.448-1 1-1h14c0.552 0 1 0.448 1 1s-0.448 1-1 1z\"></path>\n<path d=\"M23 18h-14c-0.552 0-1-0.448-1-1s0.448-1 1-1h14c0.552 0 1 0.448 1 1s-0.448 1-1 1z\"></path>\n</symbol>\n</defs>\n</svg>\n<style>/* CSS stylesheet for displaying xarray objects in jupyterlab.\n *\n */\n\n:root {\n  --xr-font-color0: var(--jp-content-font-color0, rgba(0, 0, 0, 1));\n  --xr-font-color2: var(--jp-content-font-color2, rgba(0, 0, 0, 0.54));\n  --xr-font-color3: var(--jp-content-font-color3, rgba(0, 0, 0, 0.38));\n  --xr-border-color: var(--jp-border-color2, #e0e0e0);\n  --xr-disabled-color: var(--jp-layout-color3, #bdbdbd);\n  --xr-background-color: var(--jp-layout-color0, white);\n  --xr-background-color-row-even: var(--jp-layout-color1, white);\n  --xr-background-color-row-odd: var(--jp-layout-color2, #eeeeee);\n}\n\nhtml[theme=dark],\nbody[data-theme=dark],\nbody.vscode-dark {\n  --xr-font-color0: rgba(255, 255, 255, 1);\n  --xr-font-color2: rgba(255, 255, 255, 0.54);\n  --xr-font-color3: rgba(255, 255, 255, 0.38);\n  --xr-border-color: #1F1F1F;\n  --xr-disabled-color: #515151;\n  --xr-background-color: #111111;\n  --xr-background-color-row-even: #111111;\n  --xr-background-color-row-odd: #313131;\n}\n\n.xr-wrap {\n  display: block !important;\n  min-width: 300px;\n  max-width: 700px;\n}\n\n.xr-text-repr-fallback {\n  /* fallback to plain text repr when CSS is not injected (untrusted notebook) */\n  display: none;\n}\n\n.xr-header {\n  padding-top: 6px;\n  padding-bottom: 6px;\n  margin-bottom: 4px;\n  border-bottom: solid 1px var(--xr-border-color);\n}\n\n.xr-header > div,\n.xr-header > ul {\n  display: inline;\n  margin-top: 0;\n  margin-bottom: 0;\n}\n\n.xr-obj-type,\n.xr-array-name {\n  margin-left: 2px;\n  margin-right: 10px;\n}\n\n.xr-obj-type {\n  color: var(--xr-font-color2);\n}\n\n.xr-sections {\n  padding-left: 0 !important;\n  display: grid;\n  grid-template-columns: 150px auto auto 1fr 20px 20px;\n}\n\n.xr-section-item {\n  display: contents;\n}\n\n.xr-section-item input {\n  display: none;\n}\n\n.xr-section-item input + label {\n  color: var(--xr-disabled-color);\n}\n\n.xr-section-item input:enabled + label {\n  cursor: pointer;\n  color: var(--xr-font-color2);\n}\n\n.xr-section-item input:enabled + label:hover {\n  color: var(--xr-font-color0);\n}\n\n.xr-section-summary {\n  grid-column: 1;\n  color: var(--xr-font-color2);\n  font-weight: 500;\n}\n\n.xr-section-summary > span {\n  display: inline-block;\n  padding-left: 0.5em;\n}\n\n.xr-section-summary-in:disabled + label {\n  color: var(--xr-font-color2);\n}\n\n.xr-section-summary-in + label:before {\n  display: inline-block;\n  content: '►';\n  font-size: 11px;\n  width: 15px;\n  text-align: center;\n}\n\n.xr-section-summary-in:disabled + label:before {\n  color: var(--xr-disabled-color);\n}\n\n.xr-section-summary-in:checked + label:before {\n  content: '▼';\n}\n\n.xr-section-summary-in:checked + label > span {\n  display: none;\n}\n\n.xr-section-summary,\n.xr-section-inline-details {\n  padding-top: 4px;\n  padding-bottom: 4px;\n}\n\n.xr-section-inline-details {\n  grid-column: 2 / -1;\n}\n\n.xr-section-details {\n  display: none;\n  grid-column: 1 / -1;\n  margin-bottom: 5px;\n}\n\n.xr-section-summary-in:checked ~ .xr-section-details {\n  display: contents;\n}\n\n.xr-array-wrap {\n  grid-column: 1 / -1;\n  display: grid;\n  grid-template-columns: 20px auto;\n}\n\n.xr-array-wrap > label {\n  grid-column: 1;\n  vertical-align: top;\n}\n\n.xr-preview {\n  color: var(--xr-font-color3);\n}\n\n.xr-array-preview,\n.xr-array-data {\n  padding: 0 5px !important;\n  grid-column: 2;\n}\n\n.xr-array-data,\n.xr-array-in:checked ~ .xr-array-preview {\n  display: none;\n}\n\n.xr-array-in:checked ~ .xr-array-data,\n.xr-array-preview {\n  display: inline-block;\n}\n\n.xr-dim-list {\n  display: inline-block !important;\n  list-style: none;\n  padding: 0 !important;\n  margin: 0;\n}\n\n.xr-dim-list li {\n  display: inline-block;\n  padding: 0;\n  margin: 0;\n}\n\n.xr-dim-list:before {\n  content: '(';\n}\n\n.xr-dim-list:after {\n  content: ')';\n}\n\n.xr-dim-list li:not(:last-child):after {\n  content: ',';\n  padding-right: 5px;\n}\n\n.xr-has-index {\n  font-weight: bold;\n}\n\n.xr-var-list,\n.xr-var-item {\n  display: contents;\n}\n\n.xr-var-item > div,\n.xr-var-item label,\n.xr-var-item > .xr-var-name span {\n  background-color: var(--xr-background-color-row-even);\n  margin-bottom: 0;\n}\n\n.xr-var-item > .xr-var-name:hover span {\n  padding-right: 5px;\n}\n\n.xr-var-list > li:nth-child(odd) > div,\n.xr-var-list > li:nth-child(odd) > label,\n.xr-var-list > li:nth-child(odd) > .xr-var-name span {\n  background-color: var(--xr-background-color-row-odd);\n}\n\n.xr-var-name {\n  grid-column: 1;\n}\n\n.xr-var-dims {\n  grid-column: 2;\n}\n\n.xr-var-dtype {\n  grid-column: 3;\n  text-align: right;\n  color: var(--xr-font-color2);\n}\n\n.xr-var-preview {\n  grid-column: 4;\n}\n\n.xr-index-preview {\n  grid-column: 2 / 5;\n  color: var(--xr-font-color2);\n}\n\n.xr-var-name,\n.xr-var-dims,\n.xr-var-dtype,\n.xr-preview,\n.xr-attrs dt {\n  white-space: nowrap;\n  overflow: hidden;\n  text-overflow: ellipsis;\n  padding-right: 10px;\n}\n\n.xr-var-name:hover,\n.xr-var-dims:hover,\n.xr-var-dtype:hover,\n.xr-attrs dt:hover {\n  overflow: visible;\n  width: auto;\n  z-index: 1;\n}\n\n.xr-var-attrs,\n.xr-var-data,\n.xr-index-data {\n  display: none;\n  background-color: var(--xr-background-color) !important;\n  padding-bottom: 5px !important;\n}\n\n.xr-var-attrs-in:checked ~ .xr-var-attrs,\n.xr-var-data-in:checked ~ .xr-var-data,\n.xr-index-data-in:checked ~ .xr-index-data {\n  display: block;\n}\n\n.xr-var-data > table {\n  float: right;\n}\n\n.xr-var-name span,\n.xr-var-data,\n.xr-index-name div,\n.xr-index-data,\n.xr-attrs {\n  padding-left: 25px !important;\n}\n\n.xr-attrs,\n.xr-var-attrs,\n.xr-var-data,\n.xr-index-data {\n  grid-column: 1 / -1;\n}\n\ndl.xr-attrs {\n  padding: 0;\n  margin: 0;\n  display: grid;\n  grid-template-columns: 125px auto;\n}\n\n.xr-attrs dt,\n.xr-attrs dd {\n  padding: 0;\n  margin: 0;\n  float: left;\n  padding-right: 10px;\n  width: auto;\n}\n\n.xr-attrs dt {\n  font-weight: normal;\n  grid-column: 1;\n}\n\n.xr-attrs dt:hover span {\n  display: inline-block;\n  background: var(--xr-background-color);\n  padding-right: 10px;\n}\n\n.xr-attrs dd {\n  grid-column: 2;\n  white-space: pre-wrap;\n  word-break: break-all;\n}\n\n.xr-icon-database,\n.xr-icon-file-text2,\n.xr-no-icon {\n  display: inline-block;\n  vertical-align: middle;\n  width: 1em;\n  height: 1.5em !important;\n  stroke-width: 0;\n  stroke: currentColor;\n  fill: currentColor;\n}\n</style><pre class='xr-text-repr-fallback'>&lt;xarray.DataArray &#x27;fuels-dens&#x27; (time: 2, ny: 100, nx: 100, nz: 57)&gt;\ndask.array&lt;rechunk-merge, shape=(2, 100, 100, 57), dtype=float64, chunksize=(2, 100, 100, 57), chunktype=numpy.ndarray&gt;\nDimensions without coordinates: time, ny, nx, nz</pre><div class='xr-wrap' style='display:none'><div class='xr-header'><div class='xr-obj-type'>xarray.DataArray</div><div class='xr-array-name'>'fuels-dens'</div><ul class='xr-dim-list'><li><span>time</span>: 2</li><li><span>ny</span>: 100</li><li><span>nx</span>: 100</li><li><span>nz</span>: 57</li></ul></div><ul class='xr-sections'><li class='xr-section-item'><div class='xr-array-wrap'><input id='section-ffcae6a0-dd8f-4da1-858b-e45cb2696d14' class='xr-array-in' type='checkbox' checked><label for='section-ffcae6a0-dd8f-4da1-858b-e45cb2696d14' title='Show/hide data repr'><svg class='icon xr-icon-database'><use xlink:href='#icon-database'></use></svg></label><div class='xr-array-preview xr-preview'><span>dask.array&lt;chunksize=(2, 100, 100, 57), meta=np.ndarray&gt;</span></div><div class='xr-array-data'><table>\n    <tr>\n        <td>\n            <table style=\"border-collapse: collapse;\">\n                <thead>\n                    <tr>\n                        <td> </td>\n                        <th> Array </th>\n                        <th> Chunk </th>\n                    </tr>\n                </thead>\n                <tbody>\n                    \n                    <tr>\n                        <th> Bytes </th>\n                        <td> 8.70 MiB </td>\n                        <td> 8.70 MiB </td>\n                    </tr>\n                    \n                    <tr>\n                        <th> Shape </th>\n                        <td> (2, 100, 100, 57) </td>\n                        <td> (2, 100, 100, 57) </td>\n                    </tr>\n                    <tr>\n                        <th> Dask graph </th>\n                        <td colspan=\"2\"> 1 chunks in 3 graph layers </td>\n                    </tr>\n                    <tr>\n                        <th> Data type </th>\n                        <td colspan=\"2\"> float64 numpy.ndarray </td>\n                    </tr>\n                </tbody>\n            </table>\n        </td>\n        <td>\n        <svg width=\"386\" height=\"240\" style=\"stroke:rgb(0,0,0);stroke-width:1\" >\n\n  <!-- Horizontal lines -->\n  <line x1=\"0\" y1=\"0\" x2=\"29\" y2=\"0\" style=\"stroke-width:2\" />\n  <line x1=\"0\" y1=\"25\" x2=\"29\" y2=\"25\" style=\"stroke-width:2\" />\n\n  <!-- Vertical lines -->\n  <line x1=\"0\" y1=\"0\" x2=\"0\" y2=\"25\" style=\"stroke-width:2\" />\n  <line x1=\"29\" y1=\"0\" x2=\"29\" y2=\"25\" style=\"stroke-width:2\" />\n\n  <!-- Colored Rectangle -->\n  <polygon points=\"0.0,0.0 29.030629010473877,0.0 29.030629010473877,25.412616514582485 0.0,25.412616514582485\" style=\"fill:#ECB172A0;stroke-width:0\"/>\n\n  <!-- Text -->\n  <text x=\"14.515315\" y=\"45.412617\" font-size=\"1.0rem\" font-weight=\"100\" text-anchor=\"middle\" >2</text>\n  <text x=\"49.030629\" y=\"12.706308\" font-size=\"1.0rem\" font-weight=\"100\" text-anchor=\"middle\" transform=\"rotate(0,49.030629,12.706308)\">1</text>\n\n\n  <!-- Horizontal lines -->\n  <line x1=\"99\" y1=\"0\" x2=\"169\" y2=\"70\" style=\"stroke-width:2\" />\n  <line x1=\"99\" y1=\"120\" x2=\"169\" y2=\"190\" style=\"stroke-width:2\" />\n\n  <!-- Vertical lines -->\n  <line x1=\"99\" y1=\"0\" x2=\"99\" y2=\"120\" style=\"stroke-width:2\" />\n  <line x1=\"169\" y1=\"70\" x2=\"169\" y2=\"190\" style=\"stroke-width:2\" />\n\n  <!-- Colored Rectangle -->\n  <polygon points=\"99.0,0.0 169.58823529411765,70.58823529411765 169.58823529411765,190.58823529411765 99.0,120.0\" style=\"fill:#ECB172A0;stroke-width:0\"/>\n\n  <!-- Horizontal lines -->\n  <line x1=\"99\" y1=\"0\" x2=\"167\" y2=\"0\" style=\"stroke-width:2\" />\n  <line x1=\"169\" y1=\"70\" x2=\"237\" y2=\"70\" style=\"stroke-width:2\" />\n\n  <!-- Vertical lines -->\n  <line x1=\"99\" y1=\"0\" x2=\"169\" y2=\"70\" style=\"stroke-width:2\" />\n  <line x1=\"167\" y1=\"0\" x2=\"237\" y2=\"70\" style=\"stroke-width:2\" />\n\n  <!-- Colored Rectangle -->\n  <polygon points=\"99.0,0.0 167.4,0.0 237.98823529411766,70.58823529411765 169.58823529411765,70.58823529411765\" style=\"fill:#ECB172A0;stroke-width:0\"/>\n\n  <!-- Horizontal lines -->\n  <line x1=\"169\" y1=\"70\" x2=\"237\" y2=\"70\" style=\"stroke-width:2\" />\n  <line x1=\"169\" y1=\"190\" x2=\"237\" y2=\"190\" style=\"stroke-width:2\" />\n\n  <!-- Vertical lines -->\n  <line x1=\"169\" y1=\"70\" x2=\"169\" y2=\"190\" style=\"stroke-width:2\" />\n  <line x1=\"237\" y1=\"70\" x2=\"237\" y2=\"190\" style=\"stroke-width:2\" />\n\n  <!-- Colored Rectangle -->\n  <polygon points=\"169.58823529411765,70.58823529411765 237.98823529411766,70.58823529411765 237.98823529411766,190.58823529411765 169.58823529411765,190.58823529411765\" style=\"fill:#ECB172A0;stroke-width:0\"/>\n\n  <!-- Text -->\n  <text x=\"203.788235\" y=\"210.588235\" font-size=\"1.0rem\" font-weight=\"100\" text-anchor=\"middle\" >57</text>\n  <text x=\"257.988235\" y=\"130.588235\" font-size=\"1.0rem\" font-weight=\"100\" text-anchor=\"middle\" transform=\"rotate(-90,257.988235,130.588235)\">100</text>\n  <text x=\"124.294118\" y=\"175.294118\" font-size=\"1.0rem\" font-weight=\"100\" text-anchor=\"middle\" transform=\"rotate(45,124.294118,175.294118)\">100</text>\n</svg>\n        </td>\n    </tr>\n</table></div></div></li><li class='xr-section-item'><input id='section-63673dd5-5f25-4929-902f-b52c7199e2e4' class='xr-section-summary-in' type='checkbox' disabled ><label for='section-63673dd5-5f25-4929-902f-b52c7199e2e4' class='xr-section-summary'  title='Expand/collapse section'>Coordinates: <span>(0)</span></label><div class='xr-section-inline-details'></div><div class='xr-section-details'><ul class='xr-var-list'></ul></div></li><li class='xr-section-item'><input id='section-d8a92f2a-2ab2-4a91-bc42-05f3a8aa726b' class='xr-section-summary-in' type='checkbox' disabled ><label for='section-d8a92f2a-2ab2-4a91-bc42-05f3a8aa726b' class='xr-section-summary'  title='Expand/collapse section'>Indexes: <span>(0)</span></label><div class='xr-section-inline-details'></div><div class='xr-section-details'><ul class='xr-var-list'></ul></div></li><li class='xr-section-item'><input id='section-25d2aaec-9a99-4370-89e5-ad7ca2c2a996' class='xr-section-summary-in' type='checkbox' disabled ><label for='section-25d2aaec-9a99-4370-89e5-ad7ca2c2a996' class='xr-section-summary'  title='Expand/collapse section'>Attributes: <span>(0)</span></label><div class='xr-section-inline-details'></div><div class='xr-section-details'><dl class='xr-attrs'></dl></div></li></ul></div></div>"
     },
     "execution_count": 71,
     "metadata": {},
     "output_type": "execute_result"
    }
   ],
   "source": [
    "ds_3d_rechunked[\"fuels-dens\"]"
   ]
  },
  {
   "cell_type": "markdown",
   "id": "31073048608b5ef8",
   "metadata": {
    "collapsed": false
   },
   "source": [
    "### Rechunk a single data array in the dataset "
   ]
  },
  {
   "cell_type": "code",
   "execution_count": 72,
   "id": "3b6151985d5f7bbd",
   "metadata": {
    "collapsed": false,
    "ExecuteTime": {
     "end_time": "2023-10-10T19:49:45.207451Z",
     "start_time": "2023-10-10T19:49:45.183549Z"
    }
   },
   "outputs": [
    {
     "data": {
      "text/plain": "<xarray.DataArray 'fuels-dens' (time: 2, ny: 100, nx: 100, nz: 57)>\ndask.array<open_dataset-fuels-dens, shape=(2, 100, 100, 57), dtype=float64, chunksize=(1, 100, 100, 57), chunktype=numpy.ndarray>\nDimensions without coordinates: time, ny, nx, nz",
      "text/html": "<div><svg style=\"position: absolute; width: 0; height: 0; overflow: hidden\">\n<defs>\n<symbol id=\"icon-database\" viewBox=\"0 0 32 32\">\n<path d=\"M16 0c-8.837 0-16 2.239-16 5v4c0 2.761 7.163 5 16 5s16-2.239 16-5v-4c0-2.761-7.163-5-16-5z\"></path>\n<path d=\"M16 17c-8.837 0-16-2.239-16-5v6c0 2.761 7.163 5 16 5s16-2.239 16-5v-6c0 2.761-7.163 5-16 5z\"></path>\n<path d=\"M16 26c-8.837 0-16-2.239-16-5v6c0 2.761 7.163 5 16 5s16-2.239 16-5v-6c0 2.761-7.163 5-16 5z\"></path>\n</symbol>\n<symbol id=\"icon-file-text2\" viewBox=\"0 0 32 32\">\n<path d=\"M28.681 7.159c-0.694-0.947-1.662-2.053-2.724-3.116s-2.169-2.030-3.116-2.724c-1.612-1.182-2.393-1.319-2.841-1.319h-15.5c-1.378 0-2.5 1.121-2.5 2.5v27c0 1.378 1.122 2.5 2.5 2.5h23c1.378 0 2.5-1.122 2.5-2.5v-19.5c0-0.448-0.137-1.23-1.319-2.841zM24.543 5.457c0.959 0.959 1.712 1.825 2.268 2.543h-4.811v-4.811c0.718 0.556 1.584 1.309 2.543 2.268zM28 29.5c0 0.271-0.229 0.5-0.5 0.5h-23c-0.271 0-0.5-0.229-0.5-0.5v-27c0-0.271 0.229-0.5 0.5-0.5 0 0 15.499-0 15.5 0v7c0 0.552 0.448 1 1 1h7v19.5z\"></path>\n<path d=\"M23 26h-14c-0.552 0-1-0.448-1-1s0.448-1 1-1h14c0.552 0 1 0.448 1 1s-0.448 1-1 1z\"></path>\n<path d=\"M23 22h-14c-0.552 0-1-0.448-1-1s0.448-1 1-1h14c0.552 0 1 0.448 1 1s-0.448 1-1 1z\"></path>\n<path d=\"M23 18h-14c-0.552 0-1-0.448-1-1s0.448-1 1-1h14c0.552 0 1 0.448 1 1s-0.448 1-1 1z\"></path>\n</symbol>\n</defs>\n</svg>\n<style>/* CSS stylesheet for displaying xarray objects in jupyterlab.\n *\n */\n\n:root {\n  --xr-font-color0: var(--jp-content-font-color0, rgba(0, 0, 0, 1));\n  --xr-font-color2: var(--jp-content-font-color2, rgba(0, 0, 0, 0.54));\n  --xr-font-color3: var(--jp-content-font-color3, rgba(0, 0, 0, 0.38));\n  --xr-border-color: var(--jp-border-color2, #e0e0e0);\n  --xr-disabled-color: var(--jp-layout-color3, #bdbdbd);\n  --xr-background-color: var(--jp-layout-color0, white);\n  --xr-background-color-row-even: var(--jp-layout-color1, white);\n  --xr-background-color-row-odd: var(--jp-layout-color2, #eeeeee);\n}\n\nhtml[theme=dark],\nbody[data-theme=dark],\nbody.vscode-dark {\n  --xr-font-color0: rgba(255, 255, 255, 1);\n  --xr-font-color2: rgba(255, 255, 255, 0.54);\n  --xr-font-color3: rgba(255, 255, 255, 0.38);\n  --xr-border-color: #1F1F1F;\n  --xr-disabled-color: #515151;\n  --xr-background-color: #111111;\n  --xr-background-color-row-even: #111111;\n  --xr-background-color-row-odd: #313131;\n}\n\n.xr-wrap {\n  display: block !important;\n  min-width: 300px;\n  max-width: 700px;\n}\n\n.xr-text-repr-fallback {\n  /* fallback to plain text repr when CSS is not injected (untrusted notebook) */\n  display: none;\n}\n\n.xr-header {\n  padding-top: 6px;\n  padding-bottom: 6px;\n  margin-bottom: 4px;\n  border-bottom: solid 1px var(--xr-border-color);\n}\n\n.xr-header > div,\n.xr-header > ul {\n  display: inline;\n  margin-top: 0;\n  margin-bottom: 0;\n}\n\n.xr-obj-type,\n.xr-array-name {\n  margin-left: 2px;\n  margin-right: 10px;\n}\n\n.xr-obj-type {\n  color: var(--xr-font-color2);\n}\n\n.xr-sections {\n  padding-left: 0 !important;\n  display: grid;\n  grid-template-columns: 150px auto auto 1fr 20px 20px;\n}\n\n.xr-section-item {\n  display: contents;\n}\n\n.xr-section-item input {\n  display: none;\n}\n\n.xr-section-item input + label {\n  color: var(--xr-disabled-color);\n}\n\n.xr-section-item input:enabled + label {\n  cursor: pointer;\n  color: var(--xr-font-color2);\n}\n\n.xr-section-item input:enabled + label:hover {\n  color: var(--xr-font-color0);\n}\n\n.xr-section-summary {\n  grid-column: 1;\n  color: var(--xr-font-color2);\n  font-weight: 500;\n}\n\n.xr-section-summary > span {\n  display: inline-block;\n  padding-left: 0.5em;\n}\n\n.xr-section-summary-in:disabled + label {\n  color: var(--xr-font-color2);\n}\n\n.xr-section-summary-in + label:before {\n  display: inline-block;\n  content: '►';\n  font-size: 11px;\n  width: 15px;\n  text-align: center;\n}\n\n.xr-section-summary-in:disabled + label:before {\n  color: var(--xr-disabled-color);\n}\n\n.xr-section-summary-in:checked + label:before {\n  content: '▼';\n}\n\n.xr-section-summary-in:checked + label > span {\n  display: none;\n}\n\n.xr-section-summary,\n.xr-section-inline-details {\n  padding-top: 4px;\n  padding-bottom: 4px;\n}\n\n.xr-section-inline-details {\n  grid-column: 2 / -1;\n}\n\n.xr-section-details {\n  display: none;\n  grid-column: 1 / -1;\n  margin-bottom: 5px;\n}\n\n.xr-section-summary-in:checked ~ .xr-section-details {\n  display: contents;\n}\n\n.xr-array-wrap {\n  grid-column: 1 / -1;\n  display: grid;\n  grid-template-columns: 20px auto;\n}\n\n.xr-array-wrap > label {\n  grid-column: 1;\n  vertical-align: top;\n}\n\n.xr-preview {\n  color: var(--xr-font-color3);\n}\n\n.xr-array-preview,\n.xr-array-data {\n  padding: 0 5px !important;\n  grid-column: 2;\n}\n\n.xr-array-data,\n.xr-array-in:checked ~ .xr-array-preview {\n  display: none;\n}\n\n.xr-array-in:checked ~ .xr-array-data,\n.xr-array-preview {\n  display: inline-block;\n}\n\n.xr-dim-list {\n  display: inline-block !important;\n  list-style: none;\n  padding: 0 !important;\n  margin: 0;\n}\n\n.xr-dim-list li {\n  display: inline-block;\n  padding: 0;\n  margin: 0;\n}\n\n.xr-dim-list:before {\n  content: '(';\n}\n\n.xr-dim-list:after {\n  content: ')';\n}\n\n.xr-dim-list li:not(:last-child):after {\n  content: ',';\n  padding-right: 5px;\n}\n\n.xr-has-index {\n  font-weight: bold;\n}\n\n.xr-var-list,\n.xr-var-item {\n  display: contents;\n}\n\n.xr-var-item > div,\n.xr-var-item label,\n.xr-var-item > .xr-var-name span {\n  background-color: var(--xr-background-color-row-even);\n  margin-bottom: 0;\n}\n\n.xr-var-item > .xr-var-name:hover span {\n  padding-right: 5px;\n}\n\n.xr-var-list > li:nth-child(odd) > div,\n.xr-var-list > li:nth-child(odd) > label,\n.xr-var-list > li:nth-child(odd) > .xr-var-name span {\n  background-color: var(--xr-background-color-row-odd);\n}\n\n.xr-var-name {\n  grid-column: 1;\n}\n\n.xr-var-dims {\n  grid-column: 2;\n}\n\n.xr-var-dtype {\n  grid-column: 3;\n  text-align: right;\n  color: var(--xr-font-color2);\n}\n\n.xr-var-preview {\n  grid-column: 4;\n}\n\n.xr-index-preview {\n  grid-column: 2 / 5;\n  color: var(--xr-font-color2);\n}\n\n.xr-var-name,\n.xr-var-dims,\n.xr-var-dtype,\n.xr-preview,\n.xr-attrs dt {\n  white-space: nowrap;\n  overflow: hidden;\n  text-overflow: ellipsis;\n  padding-right: 10px;\n}\n\n.xr-var-name:hover,\n.xr-var-dims:hover,\n.xr-var-dtype:hover,\n.xr-attrs dt:hover {\n  overflow: visible;\n  width: auto;\n  z-index: 1;\n}\n\n.xr-var-attrs,\n.xr-var-data,\n.xr-index-data {\n  display: none;\n  background-color: var(--xr-background-color) !important;\n  padding-bottom: 5px !important;\n}\n\n.xr-var-attrs-in:checked ~ .xr-var-attrs,\n.xr-var-data-in:checked ~ .xr-var-data,\n.xr-index-data-in:checked ~ .xr-index-data {\n  display: block;\n}\n\n.xr-var-data > table {\n  float: right;\n}\n\n.xr-var-name span,\n.xr-var-data,\n.xr-index-name div,\n.xr-index-data,\n.xr-attrs {\n  padding-left: 25px !important;\n}\n\n.xr-attrs,\n.xr-var-attrs,\n.xr-var-data,\n.xr-index-data {\n  grid-column: 1 / -1;\n}\n\ndl.xr-attrs {\n  padding: 0;\n  margin: 0;\n  display: grid;\n  grid-template-columns: 125px auto;\n}\n\n.xr-attrs dt,\n.xr-attrs dd {\n  padding: 0;\n  margin: 0;\n  float: left;\n  padding-right: 10px;\n  width: auto;\n}\n\n.xr-attrs dt {\n  font-weight: normal;\n  grid-column: 1;\n}\n\n.xr-attrs dt:hover span {\n  display: inline-block;\n  background: var(--xr-background-color);\n  padding-right: 10px;\n}\n\n.xr-attrs dd {\n  grid-column: 2;\n  white-space: pre-wrap;\n  word-break: break-all;\n}\n\n.xr-icon-database,\n.xr-icon-file-text2,\n.xr-no-icon {\n  display: inline-block;\n  vertical-align: middle;\n  width: 1em;\n  height: 1.5em !important;\n  stroke-width: 0;\n  stroke: currentColor;\n  fill: currentColor;\n}\n</style><pre class='xr-text-repr-fallback'>&lt;xarray.DataArray &#x27;fuels-dens&#x27; (time: 2, ny: 100, nx: 100, nz: 57)&gt;\ndask.array&lt;open_dataset-fuels-dens, shape=(2, 100, 100, 57), dtype=float64, chunksize=(1, 100, 100, 57), chunktype=numpy.ndarray&gt;\nDimensions without coordinates: time, ny, nx, nz</pre><div class='xr-wrap' style='display:none'><div class='xr-header'><div class='xr-obj-type'>xarray.DataArray</div><div class='xr-array-name'>'fuels-dens'</div><ul class='xr-dim-list'><li><span>time</span>: 2</li><li><span>ny</span>: 100</li><li><span>nx</span>: 100</li><li><span>nz</span>: 57</li></ul></div><ul class='xr-sections'><li class='xr-section-item'><div class='xr-array-wrap'><input id='section-4cbd6aef-19d1-4ed0-bc12-490ac6f12a0c' class='xr-array-in' type='checkbox' checked><label for='section-4cbd6aef-19d1-4ed0-bc12-490ac6f12a0c' title='Show/hide data repr'><svg class='icon xr-icon-database'><use xlink:href='#icon-database'></use></svg></label><div class='xr-array-preview xr-preview'><span>dask.array&lt;chunksize=(1, 100, 100, 57), meta=np.ndarray&gt;</span></div><div class='xr-array-data'><table>\n    <tr>\n        <td>\n            <table style=\"border-collapse: collapse;\">\n                <thead>\n                    <tr>\n                        <td> </td>\n                        <th> Array </th>\n                        <th> Chunk </th>\n                    </tr>\n                </thead>\n                <tbody>\n                    \n                    <tr>\n                        <th> Bytes </th>\n                        <td> 8.70 MiB </td>\n                        <td> 4.35 MiB </td>\n                    </tr>\n                    \n                    <tr>\n                        <th> Shape </th>\n                        <td> (2, 100, 100, 57) </td>\n                        <td> (1, 100, 100, 57) </td>\n                    </tr>\n                    <tr>\n                        <th> Dask graph </th>\n                        <td colspan=\"2\"> 2 chunks in 2 graph layers </td>\n                    </tr>\n                    <tr>\n                        <th> Data type </th>\n                        <td colspan=\"2\"> float64 numpy.ndarray </td>\n                    </tr>\n                </tbody>\n            </table>\n        </td>\n        <td>\n        <svg width=\"386\" height=\"240\" style=\"stroke:rgb(0,0,0);stroke-width:1\" >\n\n  <!-- Horizontal lines -->\n  <line x1=\"0\" y1=\"0\" x2=\"29\" y2=\"0\" style=\"stroke-width:2\" />\n  <line x1=\"0\" y1=\"25\" x2=\"29\" y2=\"25\" style=\"stroke-width:2\" />\n\n  <!-- Vertical lines -->\n  <line x1=\"0\" y1=\"0\" x2=\"0\" y2=\"25\" style=\"stroke-width:2\" />\n  <line x1=\"14\" y1=\"0\" x2=\"14\" y2=\"25\" />\n  <line x1=\"29\" y1=\"0\" x2=\"29\" y2=\"25\" style=\"stroke-width:2\" />\n\n  <!-- Colored Rectangle -->\n  <polygon points=\"0.0,0.0 29.030629010473877,0.0 29.030629010473877,25.412616514582485 0.0,25.412616514582485\" style=\"fill:#ECB172A0;stroke-width:0\"/>\n\n  <!-- Text -->\n  <text x=\"14.515315\" y=\"45.412617\" font-size=\"1.0rem\" font-weight=\"100\" text-anchor=\"middle\" >2</text>\n  <text x=\"49.030629\" y=\"12.706308\" font-size=\"1.0rem\" font-weight=\"100\" text-anchor=\"middle\" transform=\"rotate(0,49.030629,12.706308)\">1</text>\n\n\n  <!-- Horizontal lines -->\n  <line x1=\"99\" y1=\"0\" x2=\"169\" y2=\"70\" style=\"stroke-width:2\" />\n  <line x1=\"99\" y1=\"120\" x2=\"169\" y2=\"190\" style=\"stroke-width:2\" />\n\n  <!-- Vertical lines -->\n  <line x1=\"99\" y1=\"0\" x2=\"99\" y2=\"120\" style=\"stroke-width:2\" />\n  <line x1=\"169\" y1=\"70\" x2=\"169\" y2=\"190\" style=\"stroke-width:2\" />\n\n  <!-- Colored Rectangle -->\n  <polygon points=\"99.0,0.0 169.58823529411765,70.58823529411765 169.58823529411765,190.58823529411765 99.0,120.0\" style=\"fill:#ECB172A0;stroke-width:0\"/>\n\n  <!-- Horizontal lines -->\n  <line x1=\"99\" y1=\"0\" x2=\"167\" y2=\"0\" style=\"stroke-width:2\" />\n  <line x1=\"169\" y1=\"70\" x2=\"237\" y2=\"70\" style=\"stroke-width:2\" />\n\n  <!-- Vertical lines -->\n  <line x1=\"99\" y1=\"0\" x2=\"169\" y2=\"70\" style=\"stroke-width:2\" />\n  <line x1=\"167\" y1=\"0\" x2=\"237\" y2=\"70\" style=\"stroke-width:2\" />\n\n  <!-- Colored Rectangle -->\n  <polygon points=\"99.0,0.0 167.4,0.0 237.98823529411766,70.58823529411765 169.58823529411765,70.58823529411765\" style=\"fill:#ECB172A0;stroke-width:0\"/>\n\n  <!-- Horizontal lines -->\n  <line x1=\"169\" y1=\"70\" x2=\"237\" y2=\"70\" style=\"stroke-width:2\" />\n  <line x1=\"169\" y1=\"190\" x2=\"237\" y2=\"190\" style=\"stroke-width:2\" />\n\n  <!-- Vertical lines -->\n  <line x1=\"169\" y1=\"70\" x2=\"169\" y2=\"190\" style=\"stroke-width:2\" />\n  <line x1=\"237\" y1=\"70\" x2=\"237\" y2=\"190\" style=\"stroke-width:2\" />\n\n  <!-- Colored Rectangle -->\n  <polygon points=\"169.58823529411765,70.58823529411765 237.98823529411766,70.58823529411765 237.98823529411766,190.58823529411765 169.58823529411765,190.58823529411765\" style=\"fill:#ECB172A0;stroke-width:0\"/>\n\n  <!-- Text -->\n  <text x=\"203.788235\" y=\"210.588235\" font-size=\"1.0rem\" font-weight=\"100\" text-anchor=\"middle\" >57</text>\n  <text x=\"257.988235\" y=\"130.588235\" font-size=\"1.0rem\" font-weight=\"100\" text-anchor=\"middle\" transform=\"rotate(-90,257.988235,130.588235)\">100</text>\n  <text x=\"124.294118\" y=\"175.294118\" font-size=\"1.0rem\" font-weight=\"100\" text-anchor=\"middle\" transform=\"rotate(45,124.294118,175.294118)\">100</text>\n</svg>\n        </td>\n    </tr>\n</table></div></div></li><li class='xr-section-item'><input id='section-3115038b-0f79-40f5-a98e-91c68e528ef5' class='xr-section-summary-in' type='checkbox' disabled ><label for='section-3115038b-0f79-40f5-a98e-91c68e528ef5' class='xr-section-summary'  title='Expand/collapse section'>Coordinates: <span>(0)</span></label><div class='xr-section-inline-details'></div><div class='xr-section-details'><ul class='xr-var-list'></ul></div></li><li class='xr-section-item'><input id='section-ea4df21e-f3f4-48f8-939b-41950d323fa7' class='xr-section-summary-in' type='checkbox' disabled ><label for='section-ea4df21e-f3f4-48f8-939b-41950d323fa7' class='xr-section-summary'  title='Expand/collapse section'>Indexes: <span>(0)</span></label><div class='xr-section-inline-details'></div><div class='xr-section-details'><ul class='xr-var-list'></ul></div></li><li class='xr-section-item'><input id='section-9782cd78-581c-43d7-a125-5382f749e6c0' class='xr-section-summary-in' type='checkbox' disabled ><label for='section-9782cd78-581c-43d7-a125-5382f749e6c0' class='xr-section-summary'  title='Expand/collapse section'>Attributes: <span>(0)</span></label><div class='xr-section-inline-details'></div><div class='xr-section-details'><dl class='xr-attrs'></dl></div></li></ul></div></div>"
     },
     "execution_count": 72,
     "metadata": {},
     "output_type": "execute_result"
    }
   ],
   "source": [
    "da_fuels_dens = ds_3d[\"fuels-dens\"]\n",
    "da_fuels_dens"
   ]
  },
  {
   "cell_type": "code",
   "execution_count": 73,
   "id": "8c783c388d760107",
   "metadata": {
    "collapsed": false,
    "ExecuteTime": {
     "end_time": "2023-10-10T19:49:45.208808Z",
     "start_time": "2023-10-10T19:49:45.198325Z"
    }
   },
   "outputs": [
    {
     "data": {
      "text/plain": "<xarray.DataArray 'fuels-dens' (time: 2, ny: 100, nx: 100, nz: 57)>\ndask.array<rechunk-merge, shape=(2, 100, 100, 57), dtype=float64, chunksize=(1, 10, 10, 10), chunktype=numpy.ndarray>\nDimensions without coordinates: time, ny, nx, nz",
      "text/html": "<div><svg style=\"position: absolute; width: 0; height: 0; overflow: hidden\">\n<defs>\n<symbol id=\"icon-database\" viewBox=\"0 0 32 32\">\n<path d=\"M16 0c-8.837 0-16 2.239-16 5v4c0 2.761 7.163 5 16 5s16-2.239 16-5v-4c0-2.761-7.163-5-16-5z\"></path>\n<path d=\"M16 17c-8.837 0-16-2.239-16-5v6c0 2.761 7.163 5 16 5s16-2.239 16-5v-6c0 2.761-7.163 5-16 5z\"></path>\n<path d=\"M16 26c-8.837 0-16-2.239-16-5v6c0 2.761 7.163 5 16 5s16-2.239 16-5v-6c0 2.761-7.163 5-16 5z\"></path>\n</symbol>\n<symbol id=\"icon-file-text2\" viewBox=\"0 0 32 32\">\n<path d=\"M28.681 7.159c-0.694-0.947-1.662-2.053-2.724-3.116s-2.169-2.030-3.116-2.724c-1.612-1.182-2.393-1.319-2.841-1.319h-15.5c-1.378 0-2.5 1.121-2.5 2.5v27c0 1.378 1.122 2.5 2.5 2.5h23c1.378 0 2.5-1.122 2.5-2.5v-19.5c0-0.448-0.137-1.23-1.319-2.841zM24.543 5.457c0.959 0.959 1.712 1.825 2.268 2.543h-4.811v-4.811c0.718 0.556 1.584 1.309 2.543 2.268zM28 29.5c0 0.271-0.229 0.5-0.5 0.5h-23c-0.271 0-0.5-0.229-0.5-0.5v-27c0-0.271 0.229-0.5 0.5-0.5 0 0 15.499-0 15.5 0v7c0 0.552 0.448 1 1 1h7v19.5z\"></path>\n<path d=\"M23 26h-14c-0.552 0-1-0.448-1-1s0.448-1 1-1h14c0.552 0 1 0.448 1 1s-0.448 1-1 1z\"></path>\n<path d=\"M23 22h-14c-0.552 0-1-0.448-1-1s0.448-1 1-1h14c0.552 0 1 0.448 1 1s-0.448 1-1 1z\"></path>\n<path d=\"M23 18h-14c-0.552 0-1-0.448-1-1s0.448-1 1-1h14c0.552 0 1 0.448 1 1s-0.448 1-1 1z\"></path>\n</symbol>\n</defs>\n</svg>\n<style>/* CSS stylesheet for displaying xarray objects in jupyterlab.\n *\n */\n\n:root {\n  --xr-font-color0: var(--jp-content-font-color0, rgba(0, 0, 0, 1));\n  --xr-font-color2: var(--jp-content-font-color2, rgba(0, 0, 0, 0.54));\n  --xr-font-color3: var(--jp-content-font-color3, rgba(0, 0, 0, 0.38));\n  --xr-border-color: var(--jp-border-color2, #e0e0e0);\n  --xr-disabled-color: var(--jp-layout-color3, #bdbdbd);\n  --xr-background-color: var(--jp-layout-color0, white);\n  --xr-background-color-row-even: var(--jp-layout-color1, white);\n  --xr-background-color-row-odd: var(--jp-layout-color2, #eeeeee);\n}\n\nhtml[theme=dark],\nbody[data-theme=dark],\nbody.vscode-dark {\n  --xr-font-color0: rgba(255, 255, 255, 1);\n  --xr-font-color2: rgba(255, 255, 255, 0.54);\n  --xr-font-color3: rgba(255, 255, 255, 0.38);\n  --xr-border-color: #1F1F1F;\n  --xr-disabled-color: #515151;\n  --xr-background-color: #111111;\n  --xr-background-color-row-even: #111111;\n  --xr-background-color-row-odd: #313131;\n}\n\n.xr-wrap {\n  display: block !important;\n  min-width: 300px;\n  max-width: 700px;\n}\n\n.xr-text-repr-fallback {\n  /* fallback to plain text repr when CSS is not injected (untrusted notebook) */\n  display: none;\n}\n\n.xr-header {\n  padding-top: 6px;\n  padding-bottom: 6px;\n  margin-bottom: 4px;\n  border-bottom: solid 1px var(--xr-border-color);\n}\n\n.xr-header > div,\n.xr-header > ul {\n  display: inline;\n  margin-top: 0;\n  margin-bottom: 0;\n}\n\n.xr-obj-type,\n.xr-array-name {\n  margin-left: 2px;\n  margin-right: 10px;\n}\n\n.xr-obj-type {\n  color: var(--xr-font-color2);\n}\n\n.xr-sections {\n  padding-left: 0 !important;\n  display: grid;\n  grid-template-columns: 150px auto auto 1fr 20px 20px;\n}\n\n.xr-section-item {\n  display: contents;\n}\n\n.xr-section-item input {\n  display: none;\n}\n\n.xr-section-item input + label {\n  color: var(--xr-disabled-color);\n}\n\n.xr-section-item input:enabled + label {\n  cursor: pointer;\n  color: var(--xr-font-color2);\n}\n\n.xr-section-item input:enabled + label:hover {\n  color: var(--xr-font-color0);\n}\n\n.xr-section-summary {\n  grid-column: 1;\n  color: var(--xr-font-color2);\n  font-weight: 500;\n}\n\n.xr-section-summary > span {\n  display: inline-block;\n  padding-left: 0.5em;\n}\n\n.xr-section-summary-in:disabled + label {\n  color: var(--xr-font-color2);\n}\n\n.xr-section-summary-in + label:before {\n  display: inline-block;\n  content: '►';\n  font-size: 11px;\n  width: 15px;\n  text-align: center;\n}\n\n.xr-section-summary-in:disabled + label:before {\n  color: var(--xr-disabled-color);\n}\n\n.xr-section-summary-in:checked + label:before {\n  content: '▼';\n}\n\n.xr-section-summary-in:checked + label > span {\n  display: none;\n}\n\n.xr-section-summary,\n.xr-section-inline-details {\n  padding-top: 4px;\n  padding-bottom: 4px;\n}\n\n.xr-section-inline-details {\n  grid-column: 2 / -1;\n}\n\n.xr-section-details {\n  display: none;\n  grid-column: 1 / -1;\n  margin-bottom: 5px;\n}\n\n.xr-section-summary-in:checked ~ .xr-section-details {\n  display: contents;\n}\n\n.xr-array-wrap {\n  grid-column: 1 / -1;\n  display: grid;\n  grid-template-columns: 20px auto;\n}\n\n.xr-array-wrap > label {\n  grid-column: 1;\n  vertical-align: top;\n}\n\n.xr-preview {\n  color: var(--xr-font-color3);\n}\n\n.xr-array-preview,\n.xr-array-data {\n  padding: 0 5px !important;\n  grid-column: 2;\n}\n\n.xr-array-data,\n.xr-array-in:checked ~ .xr-array-preview {\n  display: none;\n}\n\n.xr-array-in:checked ~ .xr-array-data,\n.xr-array-preview {\n  display: inline-block;\n}\n\n.xr-dim-list {\n  display: inline-block !important;\n  list-style: none;\n  padding: 0 !important;\n  margin: 0;\n}\n\n.xr-dim-list li {\n  display: inline-block;\n  padding: 0;\n  margin: 0;\n}\n\n.xr-dim-list:before {\n  content: '(';\n}\n\n.xr-dim-list:after {\n  content: ')';\n}\n\n.xr-dim-list li:not(:last-child):after {\n  content: ',';\n  padding-right: 5px;\n}\n\n.xr-has-index {\n  font-weight: bold;\n}\n\n.xr-var-list,\n.xr-var-item {\n  display: contents;\n}\n\n.xr-var-item > div,\n.xr-var-item label,\n.xr-var-item > .xr-var-name span {\n  background-color: var(--xr-background-color-row-even);\n  margin-bottom: 0;\n}\n\n.xr-var-item > .xr-var-name:hover span {\n  padding-right: 5px;\n}\n\n.xr-var-list > li:nth-child(odd) > div,\n.xr-var-list > li:nth-child(odd) > label,\n.xr-var-list > li:nth-child(odd) > .xr-var-name span {\n  background-color: var(--xr-background-color-row-odd);\n}\n\n.xr-var-name {\n  grid-column: 1;\n}\n\n.xr-var-dims {\n  grid-column: 2;\n}\n\n.xr-var-dtype {\n  grid-column: 3;\n  text-align: right;\n  color: var(--xr-font-color2);\n}\n\n.xr-var-preview {\n  grid-column: 4;\n}\n\n.xr-index-preview {\n  grid-column: 2 / 5;\n  color: var(--xr-font-color2);\n}\n\n.xr-var-name,\n.xr-var-dims,\n.xr-var-dtype,\n.xr-preview,\n.xr-attrs dt {\n  white-space: nowrap;\n  overflow: hidden;\n  text-overflow: ellipsis;\n  padding-right: 10px;\n}\n\n.xr-var-name:hover,\n.xr-var-dims:hover,\n.xr-var-dtype:hover,\n.xr-attrs dt:hover {\n  overflow: visible;\n  width: auto;\n  z-index: 1;\n}\n\n.xr-var-attrs,\n.xr-var-data,\n.xr-index-data {\n  display: none;\n  background-color: var(--xr-background-color) !important;\n  padding-bottom: 5px !important;\n}\n\n.xr-var-attrs-in:checked ~ .xr-var-attrs,\n.xr-var-data-in:checked ~ .xr-var-data,\n.xr-index-data-in:checked ~ .xr-index-data {\n  display: block;\n}\n\n.xr-var-data > table {\n  float: right;\n}\n\n.xr-var-name span,\n.xr-var-data,\n.xr-index-name div,\n.xr-index-data,\n.xr-attrs {\n  padding-left: 25px !important;\n}\n\n.xr-attrs,\n.xr-var-attrs,\n.xr-var-data,\n.xr-index-data {\n  grid-column: 1 / -1;\n}\n\ndl.xr-attrs {\n  padding: 0;\n  margin: 0;\n  display: grid;\n  grid-template-columns: 125px auto;\n}\n\n.xr-attrs dt,\n.xr-attrs dd {\n  padding: 0;\n  margin: 0;\n  float: left;\n  padding-right: 10px;\n  width: auto;\n}\n\n.xr-attrs dt {\n  font-weight: normal;\n  grid-column: 1;\n}\n\n.xr-attrs dt:hover span {\n  display: inline-block;\n  background: var(--xr-background-color);\n  padding-right: 10px;\n}\n\n.xr-attrs dd {\n  grid-column: 2;\n  white-space: pre-wrap;\n  word-break: break-all;\n}\n\n.xr-icon-database,\n.xr-icon-file-text2,\n.xr-no-icon {\n  display: inline-block;\n  vertical-align: middle;\n  width: 1em;\n  height: 1.5em !important;\n  stroke-width: 0;\n  stroke: currentColor;\n  fill: currentColor;\n}\n</style><pre class='xr-text-repr-fallback'>&lt;xarray.DataArray &#x27;fuels-dens&#x27; (time: 2, ny: 100, nx: 100, nz: 57)&gt;\ndask.array&lt;rechunk-merge, shape=(2, 100, 100, 57), dtype=float64, chunksize=(1, 10, 10, 10), chunktype=numpy.ndarray&gt;\nDimensions without coordinates: time, ny, nx, nz</pre><div class='xr-wrap' style='display:none'><div class='xr-header'><div class='xr-obj-type'>xarray.DataArray</div><div class='xr-array-name'>'fuels-dens'</div><ul class='xr-dim-list'><li><span>time</span>: 2</li><li><span>ny</span>: 100</li><li><span>nx</span>: 100</li><li><span>nz</span>: 57</li></ul></div><ul class='xr-sections'><li class='xr-section-item'><div class='xr-array-wrap'><input id='section-3a1f58e7-c8e2-4011-9511-82c7fc338356' class='xr-array-in' type='checkbox' checked><label for='section-3a1f58e7-c8e2-4011-9511-82c7fc338356' title='Show/hide data repr'><svg class='icon xr-icon-database'><use xlink:href='#icon-database'></use></svg></label><div class='xr-array-preview xr-preview'><span>dask.array&lt;chunksize=(1, 10, 10, 10), meta=np.ndarray&gt;</span></div><div class='xr-array-data'><table>\n    <tr>\n        <td>\n            <table style=\"border-collapse: collapse;\">\n                <thead>\n                    <tr>\n                        <td> </td>\n                        <th> Array </th>\n                        <th> Chunk </th>\n                    </tr>\n                </thead>\n                <tbody>\n                    \n                    <tr>\n                        <th> Bytes </th>\n                        <td> 8.70 MiB </td>\n                        <td> 7.81 kiB </td>\n                    </tr>\n                    \n                    <tr>\n                        <th> Shape </th>\n                        <td> (2, 100, 100, 57) </td>\n                        <td> (1, 10, 10, 10) </td>\n                    </tr>\n                    <tr>\n                        <th> Dask graph </th>\n                        <td colspan=\"2\"> 1200 chunks in 3 graph layers </td>\n                    </tr>\n                    <tr>\n                        <th> Data type </th>\n                        <td colspan=\"2\"> float64 numpy.ndarray </td>\n                    </tr>\n                </tbody>\n            </table>\n        </td>\n        <td>\n        <svg width=\"386\" height=\"240\" style=\"stroke:rgb(0,0,0);stroke-width:1\" >\n\n  <!-- Horizontal lines -->\n  <line x1=\"0\" y1=\"0\" x2=\"29\" y2=\"0\" style=\"stroke-width:2\" />\n  <line x1=\"0\" y1=\"25\" x2=\"29\" y2=\"25\" style=\"stroke-width:2\" />\n\n  <!-- Vertical lines -->\n  <line x1=\"0\" y1=\"0\" x2=\"0\" y2=\"25\" style=\"stroke-width:2\" />\n  <line x1=\"14\" y1=\"0\" x2=\"14\" y2=\"25\" />\n  <line x1=\"29\" y1=\"0\" x2=\"29\" y2=\"25\" style=\"stroke-width:2\" />\n\n  <!-- Colored Rectangle -->\n  <polygon points=\"0.0,0.0 29.030629010473877,0.0 29.030629010473877,25.412616514582485 0.0,25.412616514582485\" style=\"fill:#ECB172A0;stroke-width:0\"/>\n\n  <!-- Text -->\n  <text x=\"14.515315\" y=\"45.412617\" font-size=\"1.0rem\" font-weight=\"100\" text-anchor=\"middle\" >2</text>\n  <text x=\"49.030629\" y=\"12.706308\" font-size=\"1.0rem\" font-weight=\"100\" text-anchor=\"middle\" transform=\"rotate(0,49.030629,12.706308)\">1</text>\n\n\n  <!-- Horizontal lines -->\n  <line x1=\"99\" y1=\"0\" x2=\"169\" y2=\"70\" style=\"stroke-width:2\" />\n  <line x1=\"99\" y1=\"12\" x2=\"169\" y2=\"82\" />\n  <line x1=\"99\" y1=\"24\" x2=\"169\" y2=\"94\" />\n  <line x1=\"99\" y1=\"36\" x2=\"169\" y2=\"106\" />\n  <line x1=\"99\" y1=\"48\" x2=\"169\" y2=\"118\" />\n  <line x1=\"99\" y1=\"60\" x2=\"169\" y2=\"130\" />\n  <line x1=\"99\" y1=\"72\" x2=\"169\" y2=\"142\" />\n  <line x1=\"99\" y1=\"84\" x2=\"169\" y2=\"154\" />\n  <line x1=\"99\" y1=\"96\" x2=\"169\" y2=\"166\" />\n  <line x1=\"99\" y1=\"108\" x2=\"169\" y2=\"178\" />\n  <line x1=\"99\" y1=\"120\" x2=\"169\" y2=\"190\" style=\"stroke-width:2\" />\n\n  <!-- Vertical lines -->\n  <line x1=\"99\" y1=\"0\" x2=\"99\" y2=\"120\" style=\"stroke-width:2\" />\n  <line x1=\"106\" y1=\"7\" x2=\"106\" y2=\"127\" />\n  <line x1=\"113\" y1=\"14\" x2=\"113\" y2=\"134\" />\n  <line x1=\"120\" y1=\"21\" x2=\"120\" y2=\"141\" />\n  <line x1=\"127\" y1=\"28\" x2=\"127\" y2=\"148\" />\n  <line x1=\"134\" y1=\"35\" x2=\"134\" y2=\"155\" />\n  <line x1=\"141\" y1=\"42\" x2=\"141\" y2=\"162\" />\n  <line x1=\"148\" y1=\"49\" x2=\"148\" y2=\"169\" />\n  <line x1=\"155\" y1=\"56\" x2=\"155\" y2=\"176\" />\n  <line x1=\"162\" y1=\"63\" x2=\"162\" y2=\"183\" />\n  <line x1=\"169\" y1=\"70\" x2=\"169\" y2=\"190\" style=\"stroke-width:2\" />\n\n  <!-- Colored Rectangle -->\n  <polygon points=\"99.0,0.0 169.58823529411765,70.58823529411765 169.58823529411765,190.58823529411765 99.0,120.0\" style=\"fill:#ECB172A0;stroke-width:0\"/>\n\n  <!-- Horizontal lines -->\n  <line x1=\"99\" y1=\"0\" x2=\"167\" y2=\"0\" style=\"stroke-width:2\" />\n  <line x1=\"106\" y1=\"7\" x2=\"174\" y2=\"7\" />\n  <line x1=\"113\" y1=\"14\" x2=\"181\" y2=\"14\" />\n  <line x1=\"120\" y1=\"21\" x2=\"188\" y2=\"21\" />\n  <line x1=\"127\" y1=\"28\" x2=\"195\" y2=\"28\" />\n  <line x1=\"134\" y1=\"35\" x2=\"202\" y2=\"35\" />\n  <line x1=\"141\" y1=\"42\" x2=\"209\" y2=\"42\" />\n  <line x1=\"148\" y1=\"49\" x2=\"216\" y2=\"49\" />\n  <line x1=\"155\" y1=\"56\" x2=\"223\" y2=\"56\" />\n  <line x1=\"162\" y1=\"63\" x2=\"230\" y2=\"63\" />\n  <line x1=\"169\" y1=\"70\" x2=\"237\" y2=\"70\" style=\"stroke-width:2\" />\n\n  <!-- Vertical lines -->\n  <line x1=\"99\" y1=\"0\" x2=\"169\" y2=\"70\" style=\"stroke-width:2\" />\n  <line x1=\"111\" y1=\"0\" x2=\"181\" y2=\"70\" />\n  <line x1=\"123\" y1=\"0\" x2=\"193\" y2=\"70\" />\n  <line x1=\"135\" y1=\"0\" x2=\"205\" y2=\"70\" />\n  <line x1=\"147\" y1=\"0\" x2=\"217\" y2=\"70\" />\n  <line x1=\"159\" y1=\"0\" x2=\"229\" y2=\"70\" />\n  <line x1=\"167\" y1=\"0\" x2=\"237\" y2=\"70\" style=\"stroke-width:2\" />\n\n  <!-- Colored Rectangle -->\n  <polygon points=\"99.0,0.0 167.4,0.0 237.98823529411766,70.58823529411765 169.58823529411765,70.58823529411765\" style=\"fill:#ECB172A0;stroke-width:0\"/>\n\n  <!-- Horizontal lines -->\n  <line x1=\"169\" y1=\"70\" x2=\"237\" y2=\"70\" style=\"stroke-width:2\" />\n  <line x1=\"169\" y1=\"82\" x2=\"237\" y2=\"82\" />\n  <line x1=\"169\" y1=\"94\" x2=\"237\" y2=\"94\" />\n  <line x1=\"169\" y1=\"106\" x2=\"237\" y2=\"106\" />\n  <line x1=\"169\" y1=\"118\" x2=\"237\" y2=\"118\" />\n  <line x1=\"169\" y1=\"130\" x2=\"237\" y2=\"130\" />\n  <line x1=\"169\" y1=\"142\" x2=\"237\" y2=\"142\" />\n  <line x1=\"169\" y1=\"154\" x2=\"237\" y2=\"154\" />\n  <line x1=\"169\" y1=\"166\" x2=\"237\" y2=\"166\" />\n  <line x1=\"169\" y1=\"178\" x2=\"237\" y2=\"178\" />\n  <line x1=\"169\" y1=\"190\" x2=\"237\" y2=\"190\" style=\"stroke-width:2\" />\n\n  <!-- Vertical lines -->\n  <line x1=\"169\" y1=\"70\" x2=\"169\" y2=\"190\" style=\"stroke-width:2\" />\n  <line x1=\"181\" y1=\"70\" x2=\"181\" y2=\"190\" />\n  <line x1=\"193\" y1=\"70\" x2=\"193\" y2=\"190\" />\n  <line x1=\"205\" y1=\"70\" x2=\"205\" y2=\"190\" />\n  <line x1=\"217\" y1=\"70\" x2=\"217\" y2=\"190\" />\n  <line x1=\"229\" y1=\"70\" x2=\"229\" y2=\"190\" />\n  <line x1=\"237\" y1=\"70\" x2=\"237\" y2=\"190\" style=\"stroke-width:2\" />\n\n  <!-- Colored Rectangle -->\n  <polygon points=\"169.58823529411765,70.58823529411765 237.98823529411766,70.58823529411765 237.98823529411766,190.58823529411765 169.58823529411765,190.58823529411765\" style=\"fill:#ECB172A0;stroke-width:0\"/>\n\n  <!-- Text -->\n  <text x=\"203.788235\" y=\"210.588235\" font-size=\"1.0rem\" font-weight=\"100\" text-anchor=\"middle\" >57</text>\n  <text x=\"257.988235\" y=\"130.588235\" font-size=\"1.0rem\" font-weight=\"100\" text-anchor=\"middle\" transform=\"rotate(-90,257.988235,130.588235)\">100</text>\n  <text x=\"124.294118\" y=\"175.294118\" font-size=\"1.0rem\" font-weight=\"100\" text-anchor=\"middle\" transform=\"rotate(45,124.294118,175.294118)\">100</text>\n</svg>\n        </td>\n    </tr>\n</table></div></div></li><li class='xr-section-item'><input id='section-67cad364-ed36-48f6-ac0f-7794c829d8db' class='xr-section-summary-in' type='checkbox' disabled ><label for='section-67cad364-ed36-48f6-ac0f-7794c829d8db' class='xr-section-summary'  title='Expand/collapse section'>Coordinates: <span>(0)</span></label><div class='xr-section-inline-details'></div><div class='xr-section-details'><ul class='xr-var-list'></ul></div></li><li class='xr-section-item'><input id='section-26f22feb-535d-4123-9562-c05455a3f69c' class='xr-section-summary-in' type='checkbox' disabled ><label for='section-26f22feb-535d-4123-9562-c05455a3f69c' class='xr-section-summary'  title='Expand/collapse section'>Indexes: <span>(0)</span></label><div class='xr-section-inline-details'></div><div class='xr-section-details'><ul class='xr-var-list'></ul></div></li><li class='xr-section-item'><input id='section-a3b5e53c-8c55-4b22-91ef-1bc0e2733f72' class='xr-section-summary-in' type='checkbox' disabled ><label for='section-a3b5e53c-8c55-4b22-91ef-1bc0e2733f72' class='xr-section-summary'  title='Expand/collapse section'>Attributes: <span>(0)</span></label><div class='xr-section-inline-details'></div><div class='xr-section-details'><dl class='xr-attrs'></dl></div></li></ul></div></div>"
     },
     "execution_count": 73,
     "metadata": {},
     "output_type": "execute_result"
    }
   ],
   "source": [
    "da_fuels_dens_rechunked = da_fuels_dens.chunk({\"nx\": 10, \"ny\": 10, \"nz\": 10})\n",
    "da_fuels_dens_rechunked"
   ]
  },
  {
   "cell_type": "markdown",
   "id": "a2a35a175a94afd8",
   "metadata": {
    "collapsed": false
   },
   "source": [
    "### Just the mburnt_integ array in a dataset"
   ]
  },
  {
   "cell_type": "code",
   "execution_count": 74,
   "id": "823cfd7f3b9811b7",
   "metadata": {
    "collapsed": false,
    "ExecuteTime": {
     "end_time": "2023-10-10T19:49:45.217276Z",
     "start_time": "2023-10-10T19:49:45.204028Z"
    }
   },
   "outputs": [],
   "source": [
    "output_name = \"mburnt_integ\"\n",
    "dropped_variables = [var for var in zarr_simulation_outputs if var != output_name]\n",
    "ds_2d = xr.open_zarr(\n",
    "    DATA_PATH / \"tmp/test.zarr\",\n",
    "    drop_variables=dropped_variables,\n",
    "    consolidated=False,\n",
    ")"
   ]
  },
  {
   "cell_type": "code",
   "execution_count": 75,
   "id": "d0305f56b1163064",
   "metadata": {
    "collapsed": false,
    "ExecuteTime": {
     "end_time": "2023-10-10T19:49:45.218280Z",
     "start_time": "2023-10-10T19:49:45.209213Z"
    }
   },
   "outputs": [
    {
     "name": "stdout",
     "output_type": "stream",
     "text": [
      "<xarray.Dataset>\n",
      "Dimensions:       (time: 2, ny: 100, nx: 100, nz: 1)\n",
      "Dimensions without coordinates: time, ny, nx, nz\n",
      "Data variables:\n",
      "    mburnt_integ  (time, ny, nx, nz) float64 dask.array<chunksize=(1, 100, 100, 1), meta=np.ndarray>\n"
     ]
    }
   ],
   "source": [
    "print(ds_2d)"
   ]
  },
  {
   "cell_type": "code",
   "execution_count": 76,
   "outputs": [
    {
     "data": {
      "text/plain": "<xarray.DataArray 'mburnt_integ' (time: 2, ny: 100, nx: 100, nz: 1)>\ndask.array<open_dataset-mburnt_integ, shape=(2, 100, 100, 1), dtype=float64, chunksize=(1, 100, 100, 1), chunktype=numpy.ndarray>\nDimensions without coordinates: time, ny, nx, nz",
      "text/html": "<div><svg style=\"position: absolute; width: 0; height: 0; overflow: hidden\">\n<defs>\n<symbol id=\"icon-database\" viewBox=\"0 0 32 32\">\n<path d=\"M16 0c-8.837 0-16 2.239-16 5v4c0 2.761 7.163 5 16 5s16-2.239 16-5v-4c0-2.761-7.163-5-16-5z\"></path>\n<path d=\"M16 17c-8.837 0-16-2.239-16-5v6c0 2.761 7.163 5 16 5s16-2.239 16-5v-6c0 2.761-7.163 5-16 5z\"></path>\n<path d=\"M16 26c-8.837 0-16-2.239-16-5v6c0 2.761 7.163 5 16 5s16-2.239 16-5v-6c0 2.761-7.163 5-16 5z\"></path>\n</symbol>\n<symbol id=\"icon-file-text2\" viewBox=\"0 0 32 32\">\n<path d=\"M28.681 7.159c-0.694-0.947-1.662-2.053-2.724-3.116s-2.169-2.030-3.116-2.724c-1.612-1.182-2.393-1.319-2.841-1.319h-15.5c-1.378 0-2.5 1.121-2.5 2.5v27c0 1.378 1.122 2.5 2.5 2.5h23c1.378 0 2.5-1.122 2.5-2.5v-19.5c0-0.448-0.137-1.23-1.319-2.841zM24.543 5.457c0.959 0.959 1.712 1.825 2.268 2.543h-4.811v-4.811c0.718 0.556 1.584 1.309 2.543 2.268zM28 29.5c0 0.271-0.229 0.5-0.5 0.5h-23c-0.271 0-0.5-0.229-0.5-0.5v-27c0-0.271 0.229-0.5 0.5-0.5 0 0 15.499-0 15.5 0v7c0 0.552 0.448 1 1 1h7v19.5z\"></path>\n<path d=\"M23 26h-14c-0.552 0-1-0.448-1-1s0.448-1 1-1h14c0.552 0 1 0.448 1 1s-0.448 1-1 1z\"></path>\n<path d=\"M23 22h-14c-0.552 0-1-0.448-1-1s0.448-1 1-1h14c0.552 0 1 0.448 1 1s-0.448 1-1 1z\"></path>\n<path d=\"M23 18h-14c-0.552 0-1-0.448-1-1s0.448-1 1-1h14c0.552 0 1 0.448 1 1s-0.448 1-1 1z\"></path>\n</symbol>\n</defs>\n</svg>\n<style>/* CSS stylesheet for displaying xarray objects in jupyterlab.\n *\n */\n\n:root {\n  --xr-font-color0: var(--jp-content-font-color0, rgba(0, 0, 0, 1));\n  --xr-font-color2: var(--jp-content-font-color2, rgba(0, 0, 0, 0.54));\n  --xr-font-color3: var(--jp-content-font-color3, rgba(0, 0, 0, 0.38));\n  --xr-border-color: var(--jp-border-color2, #e0e0e0);\n  --xr-disabled-color: var(--jp-layout-color3, #bdbdbd);\n  --xr-background-color: var(--jp-layout-color0, white);\n  --xr-background-color-row-even: var(--jp-layout-color1, white);\n  --xr-background-color-row-odd: var(--jp-layout-color2, #eeeeee);\n}\n\nhtml[theme=dark],\nbody[data-theme=dark],\nbody.vscode-dark {\n  --xr-font-color0: rgba(255, 255, 255, 1);\n  --xr-font-color2: rgba(255, 255, 255, 0.54);\n  --xr-font-color3: rgba(255, 255, 255, 0.38);\n  --xr-border-color: #1F1F1F;\n  --xr-disabled-color: #515151;\n  --xr-background-color: #111111;\n  --xr-background-color-row-even: #111111;\n  --xr-background-color-row-odd: #313131;\n}\n\n.xr-wrap {\n  display: block !important;\n  min-width: 300px;\n  max-width: 700px;\n}\n\n.xr-text-repr-fallback {\n  /* fallback to plain text repr when CSS is not injected (untrusted notebook) */\n  display: none;\n}\n\n.xr-header {\n  padding-top: 6px;\n  padding-bottom: 6px;\n  margin-bottom: 4px;\n  border-bottom: solid 1px var(--xr-border-color);\n}\n\n.xr-header > div,\n.xr-header > ul {\n  display: inline;\n  margin-top: 0;\n  margin-bottom: 0;\n}\n\n.xr-obj-type,\n.xr-array-name {\n  margin-left: 2px;\n  margin-right: 10px;\n}\n\n.xr-obj-type {\n  color: var(--xr-font-color2);\n}\n\n.xr-sections {\n  padding-left: 0 !important;\n  display: grid;\n  grid-template-columns: 150px auto auto 1fr 20px 20px;\n}\n\n.xr-section-item {\n  display: contents;\n}\n\n.xr-section-item input {\n  display: none;\n}\n\n.xr-section-item input + label {\n  color: var(--xr-disabled-color);\n}\n\n.xr-section-item input:enabled + label {\n  cursor: pointer;\n  color: var(--xr-font-color2);\n}\n\n.xr-section-item input:enabled + label:hover {\n  color: var(--xr-font-color0);\n}\n\n.xr-section-summary {\n  grid-column: 1;\n  color: var(--xr-font-color2);\n  font-weight: 500;\n}\n\n.xr-section-summary > span {\n  display: inline-block;\n  padding-left: 0.5em;\n}\n\n.xr-section-summary-in:disabled + label {\n  color: var(--xr-font-color2);\n}\n\n.xr-section-summary-in + label:before {\n  display: inline-block;\n  content: '►';\n  font-size: 11px;\n  width: 15px;\n  text-align: center;\n}\n\n.xr-section-summary-in:disabled + label:before {\n  color: var(--xr-disabled-color);\n}\n\n.xr-section-summary-in:checked + label:before {\n  content: '▼';\n}\n\n.xr-section-summary-in:checked + label > span {\n  display: none;\n}\n\n.xr-section-summary,\n.xr-section-inline-details {\n  padding-top: 4px;\n  padding-bottom: 4px;\n}\n\n.xr-section-inline-details {\n  grid-column: 2 / -1;\n}\n\n.xr-section-details {\n  display: none;\n  grid-column: 1 / -1;\n  margin-bottom: 5px;\n}\n\n.xr-section-summary-in:checked ~ .xr-section-details {\n  display: contents;\n}\n\n.xr-array-wrap {\n  grid-column: 1 / -1;\n  display: grid;\n  grid-template-columns: 20px auto;\n}\n\n.xr-array-wrap > label {\n  grid-column: 1;\n  vertical-align: top;\n}\n\n.xr-preview {\n  color: var(--xr-font-color3);\n}\n\n.xr-array-preview,\n.xr-array-data {\n  padding: 0 5px !important;\n  grid-column: 2;\n}\n\n.xr-array-data,\n.xr-array-in:checked ~ .xr-array-preview {\n  display: none;\n}\n\n.xr-array-in:checked ~ .xr-array-data,\n.xr-array-preview {\n  display: inline-block;\n}\n\n.xr-dim-list {\n  display: inline-block !important;\n  list-style: none;\n  padding: 0 !important;\n  margin: 0;\n}\n\n.xr-dim-list li {\n  display: inline-block;\n  padding: 0;\n  margin: 0;\n}\n\n.xr-dim-list:before {\n  content: '(';\n}\n\n.xr-dim-list:after {\n  content: ')';\n}\n\n.xr-dim-list li:not(:last-child):after {\n  content: ',';\n  padding-right: 5px;\n}\n\n.xr-has-index {\n  font-weight: bold;\n}\n\n.xr-var-list,\n.xr-var-item {\n  display: contents;\n}\n\n.xr-var-item > div,\n.xr-var-item label,\n.xr-var-item > .xr-var-name span {\n  background-color: var(--xr-background-color-row-even);\n  margin-bottom: 0;\n}\n\n.xr-var-item > .xr-var-name:hover span {\n  padding-right: 5px;\n}\n\n.xr-var-list > li:nth-child(odd) > div,\n.xr-var-list > li:nth-child(odd) > label,\n.xr-var-list > li:nth-child(odd) > .xr-var-name span {\n  background-color: var(--xr-background-color-row-odd);\n}\n\n.xr-var-name {\n  grid-column: 1;\n}\n\n.xr-var-dims {\n  grid-column: 2;\n}\n\n.xr-var-dtype {\n  grid-column: 3;\n  text-align: right;\n  color: var(--xr-font-color2);\n}\n\n.xr-var-preview {\n  grid-column: 4;\n}\n\n.xr-index-preview {\n  grid-column: 2 / 5;\n  color: var(--xr-font-color2);\n}\n\n.xr-var-name,\n.xr-var-dims,\n.xr-var-dtype,\n.xr-preview,\n.xr-attrs dt {\n  white-space: nowrap;\n  overflow: hidden;\n  text-overflow: ellipsis;\n  padding-right: 10px;\n}\n\n.xr-var-name:hover,\n.xr-var-dims:hover,\n.xr-var-dtype:hover,\n.xr-attrs dt:hover {\n  overflow: visible;\n  width: auto;\n  z-index: 1;\n}\n\n.xr-var-attrs,\n.xr-var-data,\n.xr-index-data {\n  display: none;\n  background-color: var(--xr-background-color) !important;\n  padding-bottom: 5px !important;\n}\n\n.xr-var-attrs-in:checked ~ .xr-var-attrs,\n.xr-var-data-in:checked ~ .xr-var-data,\n.xr-index-data-in:checked ~ .xr-index-data {\n  display: block;\n}\n\n.xr-var-data > table {\n  float: right;\n}\n\n.xr-var-name span,\n.xr-var-data,\n.xr-index-name div,\n.xr-index-data,\n.xr-attrs {\n  padding-left: 25px !important;\n}\n\n.xr-attrs,\n.xr-var-attrs,\n.xr-var-data,\n.xr-index-data {\n  grid-column: 1 / -1;\n}\n\ndl.xr-attrs {\n  padding: 0;\n  margin: 0;\n  display: grid;\n  grid-template-columns: 125px auto;\n}\n\n.xr-attrs dt,\n.xr-attrs dd {\n  padding: 0;\n  margin: 0;\n  float: left;\n  padding-right: 10px;\n  width: auto;\n}\n\n.xr-attrs dt {\n  font-weight: normal;\n  grid-column: 1;\n}\n\n.xr-attrs dt:hover span {\n  display: inline-block;\n  background: var(--xr-background-color);\n  padding-right: 10px;\n}\n\n.xr-attrs dd {\n  grid-column: 2;\n  white-space: pre-wrap;\n  word-break: break-all;\n}\n\n.xr-icon-database,\n.xr-icon-file-text2,\n.xr-no-icon {\n  display: inline-block;\n  vertical-align: middle;\n  width: 1em;\n  height: 1.5em !important;\n  stroke-width: 0;\n  stroke: currentColor;\n  fill: currentColor;\n}\n</style><pre class='xr-text-repr-fallback'>&lt;xarray.DataArray &#x27;mburnt_integ&#x27; (time: 2, ny: 100, nx: 100, nz: 1)&gt;\ndask.array&lt;open_dataset-mburnt_integ, shape=(2, 100, 100, 1), dtype=float64, chunksize=(1, 100, 100, 1), chunktype=numpy.ndarray&gt;\nDimensions without coordinates: time, ny, nx, nz</pre><div class='xr-wrap' style='display:none'><div class='xr-header'><div class='xr-obj-type'>xarray.DataArray</div><div class='xr-array-name'>'mburnt_integ'</div><ul class='xr-dim-list'><li><span>time</span>: 2</li><li><span>ny</span>: 100</li><li><span>nx</span>: 100</li><li><span>nz</span>: 1</li></ul></div><ul class='xr-sections'><li class='xr-section-item'><div class='xr-array-wrap'><input id='section-48435610-26b5-43ee-aa4e-6743fd636441' class='xr-array-in' type='checkbox' checked><label for='section-48435610-26b5-43ee-aa4e-6743fd636441' title='Show/hide data repr'><svg class='icon xr-icon-database'><use xlink:href='#icon-database'></use></svg></label><div class='xr-array-preview xr-preview'><span>dask.array&lt;chunksize=(1, 100, 100, 1), meta=np.ndarray&gt;</span></div><div class='xr-array-data'><table>\n    <tr>\n        <td>\n            <table style=\"border-collapse: collapse;\">\n                <thead>\n                    <tr>\n                        <td> </td>\n                        <th> Array </th>\n                        <th> Chunk </th>\n                    </tr>\n                </thead>\n                <tbody>\n                    \n                    <tr>\n                        <th> Bytes </th>\n                        <td> 156.25 kiB </td>\n                        <td> 78.12 kiB </td>\n                    </tr>\n                    \n                    <tr>\n                        <th> Shape </th>\n                        <td> (2, 100, 100, 1) </td>\n                        <td> (1, 100, 100, 1) </td>\n                    </tr>\n                    <tr>\n                        <th> Dask graph </th>\n                        <td colspan=\"2\"> 2 chunks in 2 graph layers </td>\n                    </tr>\n                    <tr>\n                        <th> Data type </th>\n                        <td colspan=\"2\"> float64 numpy.ndarray </td>\n                    </tr>\n                </tbody>\n            </table>\n        </td>\n        <td>\n        <svg width=\"344\" height=\"240\" style=\"stroke:rgb(0,0,0);stroke-width:1\" >\n\n  <!-- Horizontal lines -->\n  <line x1=\"0\" y1=\"0\" x2=\"29\" y2=\"0\" style=\"stroke-width:2\" />\n  <line x1=\"0\" y1=\"25\" x2=\"29\" y2=\"25\" style=\"stroke-width:2\" />\n\n  <!-- Vertical lines -->\n  <line x1=\"0\" y1=\"0\" x2=\"0\" y2=\"25\" style=\"stroke-width:2\" />\n  <line x1=\"14\" y1=\"0\" x2=\"14\" y2=\"25\" />\n  <line x1=\"29\" y1=\"0\" x2=\"29\" y2=\"25\" style=\"stroke-width:2\" />\n\n  <!-- Colored Rectangle -->\n  <polygon points=\"0.0,0.0 29.030629010473877,0.0 29.030629010473877,25.412616514582485 0.0,25.412616514582485\" style=\"fill:#ECB172A0;stroke-width:0\"/>\n\n  <!-- Text -->\n  <text x=\"14.515315\" y=\"45.412617\" font-size=\"1.0rem\" font-weight=\"100\" text-anchor=\"middle\" >2</text>\n  <text x=\"49.030629\" y=\"12.706308\" font-size=\"1.0rem\" font-weight=\"100\" text-anchor=\"middle\" transform=\"rotate(0,49.030629,12.706308)\">1</text>\n\n\n  <!-- Horizontal lines -->\n  <line x1=\"99\" y1=\"0\" x2=\"169\" y2=\"70\" style=\"stroke-width:2\" />\n  <line x1=\"99\" y1=\"120\" x2=\"169\" y2=\"190\" style=\"stroke-width:2\" />\n\n  <!-- Vertical lines -->\n  <line x1=\"99\" y1=\"0\" x2=\"99\" y2=\"120\" style=\"stroke-width:2\" />\n  <line x1=\"169\" y1=\"70\" x2=\"169\" y2=\"190\" style=\"stroke-width:2\" />\n\n  <!-- Colored Rectangle -->\n  <polygon points=\"99.0,0.0 169.58823529411765,70.58823529411765 169.58823529411765,190.58823529411765 99.0,120.0\" style=\"fill:#ECB172A0;stroke-width:0\"/>\n\n  <!-- Horizontal lines -->\n  <line x1=\"99\" y1=\"0\" x2=\"124\" y2=\"0\" style=\"stroke-width:2\" />\n  <line x1=\"169\" y1=\"70\" x2=\"195\" y2=\"70\" style=\"stroke-width:2\" />\n\n  <!-- Vertical lines -->\n  <line x1=\"99\" y1=\"0\" x2=\"169\" y2=\"70\" style=\"stroke-width:2\" />\n  <line x1=\"124\" y1=\"0\" x2=\"195\" y2=\"70\" style=\"stroke-width:2\" />\n\n  <!-- Colored Rectangle -->\n  <polygon points=\"99.0,0.0 124.41261651458248,0.0 195.00085180870013,70.58823529411765 169.58823529411765,70.58823529411765\" style=\"fill:#ECB172A0;stroke-width:0\"/>\n\n  <!-- Horizontal lines -->\n  <line x1=\"169\" y1=\"70\" x2=\"195\" y2=\"70\" style=\"stroke-width:2\" />\n  <line x1=\"169\" y1=\"190\" x2=\"195\" y2=\"190\" style=\"stroke-width:2\" />\n\n  <!-- Vertical lines -->\n  <line x1=\"169\" y1=\"70\" x2=\"169\" y2=\"190\" style=\"stroke-width:2\" />\n  <line x1=\"195\" y1=\"70\" x2=\"195\" y2=\"190\" style=\"stroke-width:2\" />\n\n  <!-- Colored Rectangle -->\n  <polygon points=\"169.58823529411765,70.58823529411765 195.00085180870013,70.58823529411765 195.00085180870013,190.58823529411765 169.58823529411765,190.58823529411765\" style=\"fill:#ECB172A0;stroke-width:0\"/>\n\n  <!-- Text -->\n  <text x=\"182.294544\" y=\"210.588235\" font-size=\"1.0rem\" font-weight=\"100\" text-anchor=\"middle\" >1</text>\n  <text x=\"215.000852\" y=\"130.588235\" font-size=\"1.0rem\" font-weight=\"100\" text-anchor=\"middle\" transform=\"rotate(-90,215.000852,130.588235)\">100</text>\n  <text x=\"124.294118\" y=\"175.294118\" font-size=\"1.0rem\" font-weight=\"100\" text-anchor=\"middle\" transform=\"rotate(45,124.294118,175.294118)\">100</text>\n</svg>\n        </td>\n    </tr>\n</table></div></div></li><li class='xr-section-item'><input id='section-f8558298-d9b6-461f-8e64-7cb80be80727' class='xr-section-summary-in' type='checkbox' disabled ><label for='section-f8558298-d9b6-461f-8e64-7cb80be80727' class='xr-section-summary'  title='Expand/collapse section'>Coordinates: <span>(0)</span></label><div class='xr-section-inline-details'></div><div class='xr-section-details'><ul class='xr-var-list'></ul></div></li><li class='xr-section-item'><input id='section-fb9df693-8425-45c8-a0cd-46a9ead9f978' class='xr-section-summary-in' type='checkbox' disabled ><label for='section-fb9df693-8425-45c8-a0cd-46a9ead9f978' class='xr-section-summary'  title='Expand/collapse section'>Indexes: <span>(0)</span></label><div class='xr-section-inline-details'></div><div class='xr-section-details'><ul class='xr-var-list'></ul></div></li><li class='xr-section-item'><input id='section-5d0a8fa6-b569-4f5e-a204-1fbb49371ba6' class='xr-section-summary-in' type='checkbox' disabled ><label for='section-5d0a8fa6-b569-4f5e-a204-1fbb49371ba6' class='xr-section-summary'  title='Expand/collapse section'>Attributes: <span>(0)</span></label><div class='xr-section-inline-details'></div><div class='xr-section-details'><dl class='xr-attrs'></dl></div></li></ul></div></div>"
     },
     "execution_count": 76,
     "metadata": {},
     "output_type": "execute_result"
    }
   ],
   "source": [
    "ds_2d[\"mburnt_integ\"]"
   ],
   "metadata": {
    "collapsed": false,
    "ExecuteTime": {
     "end_time": "2023-10-10T19:49:45.219885Z",
     "start_time": "2023-10-10T19:49:45.213171Z"
    }
   },
   "id": "29294d19fd60b919"
  },
  {
   "cell_type": "code",
   "execution_count": 77,
   "id": "36646c4116efba2c",
   "metadata": {
    "collapsed": false,
    "ExecuteTime": {
     "end_time": "2023-10-10T19:49:45.225180Z",
     "start_time": "2023-10-10T19:49:45.218717Z"
    }
   },
   "outputs": [],
   "source": [
    "# Rechunk the ds along the time dimension\n",
    "ds_2d_rechunked = ds_2d.chunk({\"time\": -1})"
   ]
  },
  {
   "cell_type": "code",
   "execution_count": 78,
   "id": "41a940cc3df96ac8",
   "metadata": {
    "collapsed": false,
    "ExecuteTime": {
     "end_time": "2023-10-10T19:49:45.253906Z",
     "start_time": "2023-10-10T19:49:45.221229Z"
    }
   },
   "outputs": [
    {
     "name": "stdout",
     "output_type": "stream",
     "text": [
      "<xarray.Dataset>\n",
      "Dimensions:       (time: 2, ny: 100, nx: 100, nz: 1)\n",
      "Dimensions without coordinates: time, ny, nx, nz\n",
      "Data variables:\n",
      "    mburnt_integ  (time, ny, nx, nz) float64 dask.array<chunksize=(2, 100, 100, 1), meta=np.ndarray>\n"
     ]
    }
   ],
   "source": [
    "print(ds_2d_rechunked)"
   ]
  },
  {
   "cell_type": "code",
   "execution_count": 79,
   "outputs": [
    {
     "data": {
      "text/plain": "<xarray.DataArray 'mburnt_integ' (time: 2, ny: 100, nx: 100, nz: 1)>\ndask.array<rechunk-merge, shape=(2, 100, 100, 1), dtype=float64, chunksize=(2, 100, 100, 1), chunktype=numpy.ndarray>\nDimensions without coordinates: time, ny, nx, nz",
      "text/html": "<div><svg style=\"position: absolute; width: 0; height: 0; overflow: hidden\">\n<defs>\n<symbol id=\"icon-database\" viewBox=\"0 0 32 32\">\n<path d=\"M16 0c-8.837 0-16 2.239-16 5v4c0 2.761 7.163 5 16 5s16-2.239 16-5v-4c0-2.761-7.163-5-16-5z\"></path>\n<path d=\"M16 17c-8.837 0-16-2.239-16-5v6c0 2.761 7.163 5 16 5s16-2.239 16-5v-6c0 2.761-7.163 5-16 5z\"></path>\n<path d=\"M16 26c-8.837 0-16-2.239-16-5v6c0 2.761 7.163 5 16 5s16-2.239 16-5v-6c0 2.761-7.163 5-16 5z\"></path>\n</symbol>\n<symbol id=\"icon-file-text2\" viewBox=\"0 0 32 32\">\n<path d=\"M28.681 7.159c-0.694-0.947-1.662-2.053-2.724-3.116s-2.169-2.030-3.116-2.724c-1.612-1.182-2.393-1.319-2.841-1.319h-15.5c-1.378 0-2.5 1.121-2.5 2.5v27c0 1.378 1.122 2.5 2.5 2.5h23c1.378 0 2.5-1.122 2.5-2.5v-19.5c0-0.448-0.137-1.23-1.319-2.841zM24.543 5.457c0.959 0.959 1.712 1.825 2.268 2.543h-4.811v-4.811c0.718 0.556 1.584 1.309 2.543 2.268zM28 29.5c0 0.271-0.229 0.5-0.5 0.5h-23c-0.271 0-0.5-0.229-0.5-0.5v-27c0-0.271 0.229-0.5 0.5-0.5 0 0 15.499-0 15.5 0v7c0 0.552 0.448 1 1 1h7v19.5z\"></path>\n<path d=\"M23 26h-14c-0.552 0-1-0.448-1-1s0.448-1 1-1h14c0.552 0 1 0.448 1 1s-0.448 1-1 1z\"></path>\n<path d=\"M23 22h-14c-0.552 0-1-0.448-1-1s0.448-1 1-1h14c0.552 0 1 0.448 1 1s-0.448 1-1 1z\"></path>\n<path d=\"M23 18h-14c-0.552 0-1-0.448-1-1s0.448-1 1-1h14c0.552 0 1 0.448 1 1s-0.448 1-1 1z\"></path>\n</symbol>\n</defs>\n</svg>\n<style>/* CSS stylesheet for displaying xarray objects in jupyterlab.\n *\n */\n\n:root {\n  --xr-font-color0: var(--jp-content-font-color0, rgba(0, 0, 0, 1));\n  --xr-font-color2: var(--jp-content-font-color2, rgba(0, 0, 0, 0.54));\n  --xr-font-color3: var(--jp-content-font-color3, rgba(0, 0, 0, 0.38));\n  --xr-border-color: var(--jp-border-color2, #e0e0e0);\n  --xr-disabled-color: var(--jp-layout-color3, #bdbdbd);\n  --xr-background-color: var(--jp-layout-color0, white);\n  --xr-background-color-row-even: var(--jp-layout-color1, white);\n  --xr-background-color-row-odd: var(--jp-layout-color2, #eeeeee);\n}\n\nhtml[theme=dark],\nbody[data-theme=dark],\nbody.vscode-dark {\n  --xr-font-color0: rgba(255, 255, 255, 1);\n  --xr-font-color2: rgba(255, 255, 255, 0.54);\n  --xr-font-color3: rgba(255, 255, 255, 0.38);\n  --xr-border-color: #1F1F1F;\n  --xr-disabled-color: #515151;\n  --xr-background-color: #111111;\n  --xr-background-color-row-even: #111111;\n  --xr-background-color-row-odd: #313131;\n}\n\n.xr-wrap {\n  display: block !important;\n  min-width: 300px;\n  max-width: 700px;\n}\n\n.xr-text-repr-fallback {\n  /* fallback to plain text repr when CSS is not injected (untrusted notebook) */\n  display: none;\n}\n\n.xr-header {\n  padding-top: 6px;\n  padding-bottom: 6px;\n  margin-bottom: 4px;\n  border-bottom: solid 1px var(--xr-border-color);\n}\n\n.xr-header > div,\n.xr-header > ul {\n  display: inline;\n  margin-top: 0;\n  margin-bottom: 0;\n}\n\n.xr-obj-type,\n.xr-array-name {\n  margin-left: 2px;\n  margin-right: 10px;\n}\n\n.xr-obj-type {\n  color: var(--xr-font-color2);\n}\n\n.xr-sections {\n  padding-left: 0 !important;\n  display: grid;\n  grid-template-columns: 150px auto auto 1fr 20px 20px;\n}\n\n.xr-section-item {\n  display: contents;\n}\n\n.xr-section-item input {\n  display: none;\n}\n\n.xr-section-item input + label {\n  color: var(--xr-disabled-color);\n}\n\n.xr-section-item input:enabled + label {\n  cursor: pointer;\n  color: var(--xr-font-color2);\n}\n\n.xr-section-item input:enabled + label:hover {\n  color: var(--xr-font-color0);\n}\n\n.xr-section-summary {\n  grid-column: 1;\n  color: var(--xr-font-color2);\n  font-weight: 500;\n}\n\n.xr-section-summary > span {\n  display: inline-block;\n  padding-left: 0.5em;\n}\n\n.xr-section-summary-in:disabled + label {\n  color: var(--xr-font-color2);\n}\n\n.xr-section-summary-in + label:before {\n  display: inline-block;\n  content: '►';\n  font-size: 11px;\n  width: 15px;\n  text-align: center;\n}\n\n.xr-section-summary-in:disabled + label:before {\n  color: var(--xr-disabled-color);\n}\n\n.xr-section-summary-in:checked + label:before {\n  content: '▼';\n}\n\n.xr-section-summary-in:checked + label > span {\n  display: none;\n}\n\n.xr-section-summary,\n.xr-section-inline-details {\n  padding-top: 4px;\n  padding-bottom: 4px;\n}\n\n.xr-section-inline-details {\n  grid-column: 2 / -1;\n}\n\n.xr-section-details {\n  display: none;\n  grid-column: 1 / -1;\n  margin-bottom: 5px;\n}\n\n.xr-section-summary-in:checked ~ .xr-section-details {\n  display: contents;\n}\n\n.xr-array-wrap {\n  grid-column: 1 / -1;\n  display: grid;\n  grid-template-columns: 20px auto;\n}\n\n.xr-array-wrap > label {\n  grid-column: 1;\n  vertical-align: top;\n}\n\n.xr-preview {\n  color: var(--xr-font-color3);\n}\n\n.xr-array-preview,\n.xr-array-data {\n  padding: 0 5px !important;\n  grid-column: 2;\n}\n\n.xr-array-data,\n.xr-array-in:checked ~ .xr-array-preview {\n  display: none;\n}\n\n.xr-array-in:checked ~ .xr-array-data,\n.xr-array-preview {\n  display: inline-block;\n}\n\n.xr-dim-list {\n  display: inline-block !important;\n  list-style: none;\n  padding: 0 !important;\n  margin: 0;\n}\n\n.xr-dim-list li {\n  display: inline-block;\n  padding: 0;\n  margin: 0;\n}\n\n.xr-dim-list:before {\n  content: '(';\n}\n\n.xr-dim-list:after {\n  content: ')';\n}\n\n.xr-dim-list li:not(:last-child):after {\n  content: ',';\n  padding-right: 5px;\n}\n\n.xr-has-index {\n  font-weight: bold;\n}\n\n.xr-var-list,\n.xr-var-item {\n  display: contents;\n}\n\n.xr-var-item > div,\n.xr-var-item label,\n.xr-var-item > .xr-var-name span {\n  background-color: var(--xr-background-color-row-even);\n  margin-bottom: 0;\n}\n\n.xr-var-item > .xr-var-name:hover span {\n  padding-right: 5px;\n}\n\n.xr-var-list > li:nth-child(odd) > div,\n.xr-var-list > li:nth-child(odd) > label,\n.xr-var-list > li:nth-child(odd) > .xr-var-name span {\n  background-color: var(--xr-background-color-row-odd);\n}\n\n.xr-var-name {\n  grid-column: 1;\n}\n\n.xr-var-dims {\n  grid-column: 2;\n}\n\n.xr-var-dtype {\n  grid-column: 3;\n  text-align: right;\n  color: var(--xr-font-color2);\n}\n\n.xr-var-preview {\n  grid-column: 4;\n}\n\n.xr-index-preview {\n  grid-column: 2 / 5;\n  color: var(--xr-font-color2);\n}\n\n.xr-var-name,\n.xr-var-dims,\n.xr-var-dtype,\n.xr-preview,\n.xr-attrs dt {\n  white-space: nowrap;\n  overflow: hidden;\n  text-overflow: ellipsis;\n  padding-right: 10px;\n}\n\n.xr-var-name:hover,\n.xr-var-dims:hover,\n.xr-var-dtype:hover,\n.xr-attrs dt:hover {\n  overflow: visible;\n  width: auto;\n  z-index: 1;\n}\n\n.xr-var-attrs,\n.xr-var-data,\n.xr-index-data {\n  display: none;\n  background-color: var(--xr-background-color) !important;\n  padding-bottom: 5px !important;\n}\n\n.xr-var-attrs-in:checked ~ .xr-var-attrs,\n.xr-var-data-in:checked ~ .xr-var-data,\n.xr-index-data-in:checked ~ .xr-index-data {\n  display: block;\n}\n\n.xr-var-data > table {\n  float: right;\n}\n\n.xr-var-name span,\n.xr-var-data,\n.xr-index-name div,\n.xr-index-data,\n.xr-attrs {\n  padding-left: 25px !important;\n}\n\n.xr-attrs,\n.xr-var-attrs,\n.xr-var-data,\n.xr-index-data {\n  grid-column: 1 / -1;\n}\n\ndl.xr-attrs {\n  padding: 0;\n  margin: 0;\n  display: grid;\n  grid-template-columns: 125px auto;\n}\n\n.xr-attrs dt,\n.xr-attrs dd {\n  padding: 0;\n  margin: 0;\n  float: left;\n  padding-right: 10px;\n  width: auto;\n}\n\n.xr-attrs dt {\n  font-weight: normal;\n  grid-column: 1;\n}\n\n.xr-attrs dt:hover span {\n  display: inline-block;\n  background: var(--xr-background-color);\n  padding-right: 10px;\n}\n\n.xr-attrs dd {\n  grid-column: 2;\n  white-space: pre-wrap;\n  word-break: break-all;\n}\n\n.xr-icon-database,\n.xr-icon-file-text2,\n.xr-no-icon {\n  display: inline-block;\n  vertical-align: middle;\n  width: 1em;\n  height: 1.5em !important;\n  stroke-width: 0;\n  stroke: currentColor;\n  fill: currentColor;\n}\n</style><pre class='xr-text-repr-fallback'>&lt;xarray.DataArray &#x27;mburnt_integ&#x27; (time: 2, ny: 100, nx: 100, nz: 1)&gt;\ndask.array&lt;rechunk-merge, shape=(2, 100, 100, 1), dtype=float64, chunksize=(2, 100, 100, 1), chunktype=numpy.ndarray&gt;\nDimensions without coordinates: time, ny, nx, nz</pre><div class='xr-wrap' style='display:none'><div class='xr-header'><div class='xr-obj-type'>xarray.DataArray</div><div class='xr-array-name'>'mburnt_integ'</div><ul class='xr-dim-list'><li><span>time</span>: 2</li><li><span>ny</span>: 100</li><li><span>nx</span>: 100</li><li><span>nz</span>: 1</li></ul></div><ul class='xr-sections'><li class='xr-section-item'><div class='xr-array-wrap'><input id='section-e1fbe564-2007-43f9-a784-51587e44d669' class='xr-array-in' type='checkbox' checked><label for='section-e1fbe564-2007-43f9-a784-51587e44d669' title='Show/hide data repr'><svg class='icon xr-icon-database'><use xlink:href='#icon-database'></use></svg></label><div class='xr-array-preview xr-preview'><span>dask.array&lt;chunksize=(2, 100, 100, 1), meta=np.ndarray&gt;</span></div><div class='xr-array-data'><table>\n    <tr>\n        <td>\n            <table style=\"border-collapse: collapse;\">\n                <thead>\n                    <tr>\n                        <td> </td>\n                        <th> Array </th>\n                        <th> Chunk </th>\n                    </tr>\n                </thead>\n                <tbody>\n                    \n                    <tr>\n                        <th> Bytes </th>\n                        <td> 156.25 kiB </td>\n                        <td> 156.25 kiB </td>\n                    </tr>\n                    \n                    <tr>\n                        <th> Shape </th>\n                        <td> (2, 100, 100, 1) </td>\n                        <td> (2, 100, 100, 1) </td>\n                    </tr>\n                    <tr>\n                        <th> Dask graph </th>\n                        <td colspan=\"2\"> 1 chunks in 3 graph layers </td>\n                    </tr>\n                    <tr>\n                        <th> Data type </th>\n                        <td colspan=\"2\"> float64 numpy.ndarray </td>\n                    </tr>\n                </tbody>\n            </table>\n        </td>\n        <td>\n        <svg width=\"344\" height=\"240\" style=\"stroke:rgb(0,0,0);stroke-width:1\" >\n\n  <!-- Horizontal lines -->\n  <line x1=\"0\" y1=\"0\" x2=\"29\" y2=\"0\" style=\"stroke-width:2\" />\n  <line x1=\"0\" y1=\"25\" x2=\"29\" y2=\"25\" style=\"stroke-width:2\" />\n\n  <!-- Vertical lines -->\n  <line x1=\"0\" y1=\"0\" x2=\"0\" y2=\"25\" style=\"stroke-width:2\" />\n  <line x1=\"29\" y1=\"0\" x2=\"29\" y2=\"25\" style=\"stroke-width:2\" />\n\n  <!-- Colored Rectangle -->\n  <polygon points=\"0.0,0.0 29.030629010473877,0.0 29.030629010473877,25.412616514582485 0.0,25.412616514582485\" style=\"fill:#ECB172A0;stroke-width:0\"/>\n\n  <!-- Text -->\n  <text x=\"14.515315\" y=\"45.412617\" font-size=\"1.0rem\" font-weight=\"100\" text-anchor=\"middle\" >2</text>\n  <text x=\"49.030629\" y=\"12.706308\" font-size=\"1.0rem\" font-weight=\"100\" text-anchor=\"middle\" transform=\"rotate(0,49.030629,12.706308)\">1</text>\n\n\n  <!-- Horizontal lines -->\n  <line x1=\"99\" y1=\"0\" x2=\"169\" y2=\"70\" style=\"stroke-width:2\" />\n  <line x1=\"99\" y1=\"120\" x2=\"169\" y2=\"190\" style=\"stroke-width:2\" />\n\n  <!-- Vertical lines -->\n  <line x1=\"99\" y1=\"0\" x2=\"99\" y2=\"120\" style=\"stroke-width:2\" />\n  <line x1=\"169\" y1=\"70\" x2=\"169\" y2=\"190\" style=\"stroke-width:2\" />\n\n  <!-- Colored Rectangle -->\n  <polygon points=\"99.0,0.0 169.58823529411765,70.58823529411765 169.58823529411765,190.58823529411765 99.0,120.0\" style=\"fill:#ECB172A0;stroke-width:0\"/>\n\n  <!-- Horizontal lines -->\n  <line x1=\"99\" y1=\"0\" x2=\"124\" y2=\"0\" style=\"stroke-width:2\" />\n  <line x1=\"169\" y1=\"70\" x2=\"195\" y2=\"70\" style=\"stroke-width:2\" />\n\n  <!-- Vertical lines -->\n  <line x1=\"99\" y1=\"0\" x2=\"169\" y2=\"70\" style=\"stroke-width:2\" />\n  <line x1=\"124\" y1=\"0\" x2=\"195\" y2=\"70\" style=\"stroke-width:2\" />\n\n  <!-- Colored Rectangle -->\n  <polygon points=\"99.0,0.0 124.41261651458248,0.0 195.00085180870013,70.58823529411765 169.58823529411765,70.58823529411765\" style=\"fill:#ECB172A0;stroke-width:0\"/>\n\n  <!-- Horizontal lines -->\n  <line x1=\"169\" y1=\"70\" x2=\"195\" y2=\"70\" style=\"stroke-width:2\" />\n  <line x1=\"169\" y1=\"190\" x2=\"195\" y2=\"190\" style=\"stroke-width:2\" />\n\n  <!-- Vertical lines -->\n  <line x1=\"169\" y1=\"70\" x2=\"169\" y2=\"190\" style=\"stroke-width:2\" />\n  <line x1=\"195\" y1=\"70\" x2=\"195\" y2=\"190\" style=\"stroke-width:2\" />\n\n  <!-- Colored Rectangle -->\n  <polygon points=\"169.58823529411765,70.58823529411765 195.00085180870013,70.58823529411765 195.00085180870013,190.58823529411765 169.58823529411765,190.58823529411765\" style=\"fill:#ECB172A0;stroke-width:0\"/>\n\n  <!-- Text -->\n  <text x=\"182.294544\" y=\"210.588235\" font-size=\"1.0rem\" font-weight=\"100\" text-anchor=\"middle\" >1</text>\n  <text x=\"215.000852\" y=\"130.588235\" font-size=\"1.0rem\" font-weight=\"100\" text-anchor=\"middle\" transform=\"rotate(-90,215.000852,130.588235)\">100</text>\n  <text x=\"124.294118\" y=\"175.294118\" font-size=\"1.0rem\" font-weight=\"100\" text-anchor=\"middle\" transform=\"rotate(45,124.294118,175.294118)\">100</text>\n</svg>\n        </td>\n    </tr>\n</table></div></div></li><li class='xr-section-item'><input id='section-d0285b4d-c7ea-4e66-9c32-fa5782761097' class='xr-section-summary-in' type='checkbox' disabled ><label for='section-d0285b4d-c7ea-4e66-9c32-fa5782761097' class='xr-section-summary'  title='Expand/collapse section'>Coordinates: <span>(0)</span></label><div class='xr-section-inline-details'></div><div class='xr-section-details'><ul class='xr-var-list'></ul></div></li><li class='xr-section-item'><input id='section-0d6347d2-60a6-48c6-bde6-b56c344b625b' class='xr-section-summary-in' type='checkbox' disabled ><label for='section-0d6347d2-60a6-48c6-bde6-b56c344b625b' class='xr-section-summary'  title='Expand/collapse section'>Indexes: <span>(0)</span></label><div class='xr-section-inline-details'></div><div class='xr-section-details'><ul class='xr-var-list'></ul></div></li><li class='xr-section-item'><input id='section-92687055-778d-4a8b-9046-1714ae872d1c' class='xr-section-summary-in' type='checkbox' disabled ><label for='section-92687055-778d-4a8b-9046-1714ae872d1c' class='xr-section-summary'  title='Expand/collapse section'>Attributes: <span>(0)</span></label><div class='xr-section-inline-details'></div><div class='xr-section-details'><dl class='xr-attrs'></dl></div></li></ul></div></div>"
     },
     "execution_count": 79,
     "metadata": {},
     "output_type": "execute_result"
    }
   ],
   "source": [
    "ds_2d_rechunked[\"mburnt_integ\"]"
   ],
   "metadata": {
    "collapsed": false,
    "ExecuteTime": {
     "end_time": "2023-10-10T19:49:45.255628Z",
     "start_time": "2023-10-10T19:49:45.225249Z"
    }
   },
   "id": "af784a18cf705a3e"
  },
  {
   "cell_type": "markdown",
   "id": "59434f75f9561fe3",
   "metadata": {
    "collapsed": false
   },
   "source": [
    "# Dask rechunking"
   ]
  },
  {
   "cell_type": "code",
   "execution_count": 80,
   "id": "bc72404ca51b22e0",
   "metadata": {
    "collapsed": false,
    "ExecuteTime": {
     "end_time": "2023-10-10T19:49:45.255720Z",
     "start_time": "2023-10-10T19:49:45.230278Z"
    }
   },
   "outputs": [],
   "source": [
    "dask_array = sim_outputs.to_dask(\"mburnt_integ\")"
   ]
  },
  {
   "cell_type": "code",
   "execution_count": 81,
   "id": "509038d94f672d47",
   "metadata": {
    "collapsed": false,
    "ExecuteTime": {
     "end_time": "2023-10-10T19:49:45.256Z",
     "start_time": "2023-10-10T19:49:45.234667Z"
    }
   },
   "outputs": [
    {
     "data": {
      "text/plain": "<IPython.core.display.HTML object>",
      "text/html": "<table>\n    <tr>\n        <td>\n            <table style=\"border-collapse: collapse;\">\n                <thead>\n                    <tr>\n                        <td> </td>\n                        <th> Array </th>\n                        <th> Chunk </th>\n                    </tr>\n                </thead>\n                <tbody>\n                    \n                    <tr>\n                        <th> Bytes </th>\n                        <td> 156.25 kiB </td>\n                        <td> 78.12 kiB </td>\n                    </tr>\n                    \n                    <tr>\n                        <th> Shape </th>\n                        <td> (2, 100, 100, 1) </td>\n                        <td> (1, 100, 100, 1) </td>\n                    </tr>\n                    <tr>\n                        <th> Dask graph </th>\n                        <td colspan=\"2\"> 2 chunks in 3 graph layers </td>\n                    </tr>\n                    <tr>\n                        <th> Data type </th>\n                        <td colspan=\"2\"> float64 numpy.ndarray </td>\n                    </tr>\n                </tbody>\n            </table>\n        </td>\n        <td>\n        <svg width=\"344\" height=\"240\" style=\"stroke:rgb(0,0,0);stroke-width:1\" >\n\n  <!-- Horizontal lines -->\n  <line x1=\"0\" y1=\"0\" x2=\"29\" y2=\"0\" style=\"stroke-width:2\" />\n  <line x1=\"0\" y1=\"25\" x2=\"29\" y2=\"25\" style=\"stroke-width:2\" />\n\n  <!-- Vertical lines -->\n  <line x1=\"0\" y1=\"0\" x2=\"0\" y2=\"25\" style=\"stroke-width:2\" />\n  <line x1=\"14\" y1=\"0\" x2=\"14\" y2=\"25\" />\n  <line x1=\"29\" y1=\"0\" x2=\"29\" y2=\"25\" style=\"stroke-width:2\" />\n\n  <!-- Colored Rectangle -->\n  <polygon points=\"0.0,0.0 29.030629010473877,0.0 29.030629010473877,25.412616514582485 0.0,25.412616514582485\" style=\"fill:#ECB172A0;stroke-width:0\"/>\n\n  <!-- Text -->\n  <text x=\"14.515315\" y=\"45.412617\" font-size=\"1.0rem\" font-weight=\"100\" text-anchor=\"middle\" >2</text>\n  <text x=\"49.030629\" y=\"12.706308\" font-size=\"1.0rem\" font-weight=\"100\" text-anchor=\"middle\" transform=\"rotate(0,49.030629,12.706308)\">1</text>\n\n\n  <!-- Horizontal lines -->\n  <line x1=\"99\" y1=\"0\" x2=\"169\" y2=\"70\" style=\"stroke-width:2\" />\n  <line x1=\"99\" y1=\"120\" x2=\"169\" y2=\"190\" style=\"stroke-width:2\" />\n\n  <!-- Vertical lines -->\n  <line x1=\"99\" y1=\"0\" x2=\"99\" y2=\"120\" style=\"stroke-width:2\" />\n  <line x1=\"169\" y1=\"70\" x2=\"169\" y2=\"190\" style=\"stroke-width:2\" />\n\n  <!-- Colored Rectangle -->\n  <polygon points=\"99.0,0.0 169.58823529411765,70.58823529411765 169.58823529411765,190.58823529411765 99.0,120.0\" style=\"fill:#ECB172A0;stroke-width:0\"/>\n\n  <!-- Horizontal lines -->\n  <line x1=\"99\" y1=\"0\" x2=\"124\" y2=\"0\" style=\"stroke-width:2\" />\n  <line x1=\"169\" y1=\"70\" x2=\"195\" y2=\"70\" style=\"stroke-width:2\" />\n\n  <!-- Vertical lines -->\n  <line x1=\"99\" y1=\"0\" x2=\"169\" y2=\"70\" style=\"stroke-width:2\" />\n  <line x1=\"124\" y1=\"0\" x2=\"195\" y2=\"70\" style=\"stroke-width:2\" />\n\n  <!-- Colored Rectangle -->\n  <polygon points=\"99.0,0.0 124.41261651458248,0.0 195.00085180870013,70.58823529411765 169.58823529411765,70.58823529411765\" style=\"fill:#ECB172A0;stroke-width:0\"/>\n\n  <!-- Horizontal lines -->\n  <line x1=\"169\" y1=\"70\" x2=\"195\" y2=\"70\" style=\"stroke-width:2\" />\n  <line x1=\"169\" y1=\"190\" x2=\"195\" y2=\"190\" style=\"stroke-width:2\" />\n\n  <!-- Vertical lines -->\n  <line x1=\"169\" y1=\"70\" x2=\"169\" y2=\"190\" style=\"stroke-width:2\" />\n  <line x1=\"195\" y1=\"70\" x2=\"195\" y2=\"190\" style=\"stroke-width:2\" />\n\n  <!-- Colored Rectangle -->\n  <polygon points=\"169.58823529411765,70.58823529411765 195.00085180870013,70.58823529411765 195.00085180870013,190.58823529411765 169.58823529411765,190.58823529411765\" style=\"fill:#ECB172A0;stroke-width:0\"/>\n\n  <!-- Text -->\n  <text x=\"182.294544\" y=\"210.588235\" font-size=\"1.0rem\" font-weight=\"100\" text-anchor=\"middle\" >1</text>\n  <text x=\"215.000852\" y=\"130.588235\" font-size=\"1.0rem\" font-weight=\"100\" text-anchor=\"middle\" transform=\"rotate(-90,215.000852,130.588235)\">100</text>\n  <text x=\"124.294118\" y=\"175.294118\" font-size=\"1.0rem\" font-weight=\"100\" text-anchor=\"middle\" transform=\"rotate(45,124.294118,175.294118)\">100</text>\n</svg>\n        </td>\n    </tr>\n</table>"
     },
     "metadata": {},
     "output_type": "display_data"
    }
   ],
   "source": [
    "display(HTML(dask_array._repr_html_()))"
   ]
  },
  {
   "cell_type": "code",
   "execution_count": 82,
   "id": "e1f5d8ead65b6b12",
   "metadata": {
    "collapsed": false,
    "ExecuteTime": {
     "end_time": "2023-10-10T19:49:45.256452Z",
     "start_time": "2023-10-10T19:49:45.240057Z"
    }
   },
   "outputs": [],
   "source": [
    "dask_array_rechunked = dask_array.rechunk((2, 100, 100, 57))"
   ]
  },
  {
   "cell_type": "code",
   "execution_count": 83,
   "id": "6ef05fe8-c5b6-429c-8d75-2e8b4c3063ed",
   "metadata": {
    "ExecuteTime": {
     "end_time": "2023-10-10T19:49:45.256747Z",
     "start_time": "2023-10-10T19:49:45.243904Z"
    }
   },
   "outputs": [
    {
     "data": {
      "text/plain": "<IPython.core.display.HTML object>",
      "text/html": "<table>\n    <tr>\n        <td>\n            <table style=\"border-collapse: collapse;\">\n                <thead>\n                    <tr>\n                        <td> </td>\n                        <th> Array </th>\n                        <th> Chunk </th>\n                    </tr>\n                </thead>\n                <tbody>\n                    \n                    <tr>\n                        <th> Bytes </th>\n                        <td> 156.25 kiB </td>\n                        <td> 156.25 kiB </td>\n                    </tr>\n                    \n                    <tr>\n                        <th> Shape </th>\n                        <td> (2, 100, 100, 1) </td>\n                        <td> (2, 100, 100, 1) </td>\n                    </tr>\n                    <tr>\n                        <th> Dask graph </th>\n                        <td colspan=\"2\"> 1 chunks in 4 graph layers </td>\n                    </tr>\n                    <tr>\n                        <th> Data type </th>\n                        <td colspan=\"2\"> float64 numpy.ndarray </td>\n                    </tr>\n                </tbody>\n            </table>\n        </td>\n        <td>\n        <svg width=\"344\" height=\"240\" style=\"stroke:rgb(0,0,0);stroke-width:1\" >\n\n  <!-- Horizontal lines -->\n  <line x1=\"0\" y1=\"0\" x2=\"29\" y2=\"0\" style=\"stroke-width:2\" />\n  <line x1=\"0\" y1=\"25\" x2=\"29\" y2=\"25\" style=\"stroke-width:2\" />\n\n  <!-- Vertical lines -->\n  <line x1=\"0\" y1=\"0\" x2=\"0\" y2=\"25\" style=\"stroke-width:2\" />\n  <line x1=\"29\" y1=\"0\" x2=\"29\" y2=\"25\" style=\"stroke-width:2\" />\n\n  <!-- Colored Rectangle -->\n  <polygon points=\"0.0,0.0 29.030629010473877,0.0 29.030629010473877,25.412616514582485 0.0,25.412616514582485\" style=\"fill:#ECB172A0;stroke-width:0\"/>\n\n  <!-- Text -->\n  <text x=\"14.515315\" y=\"45.412617\" font-size=\"1.0rem\" font-weight=\"100\" text-anchor=\"middle\" >2</text>\n  <text x=\"49.030629\" y=\"12.706308\" font-size=\"1.0rem\" font-weight=\"100\" text-anchor=\"middle\" transform=\"rotate(0,49.030629,12.706308)\">1</text>\n\n\n  <!-- Horizontal lines -->\n  <line x1=\"99\" y1=\"0\" x2=\"169\" y2=\"70\" style=\"stroke-width:2\" />\n  <line x1=\"99\" y1=\"120\" x2=\"169\" y2=\"190\" style=\"stroke-width:2\" />\n\n  <!-- Vertical lines -->\n  <line x1=\"99\" y1=\"0\" x2=\"99\" y2=\"120\" style=\"stroke-width:2\" />\n  <line x1=\"169\" y1=\"70\" x2=\"169\" y2=\"190\" style=\"stroke-width:2\" />\n\n  <!-- Colored Rectangle -->\n  <polygon points=\"99.0,0.0 169.58823529411765,70.58823529411765 169.58823529411765,190.58823529411765 99.0,120.0\" style=\"fill:#ECB172A0;stroke-width:0\"/>\n\n  <!-- Horizontal lines -->\n  <line x1=\"99\" y1=\"0\" x2=\"124\" y2=\"0\" style=\"stroke-width:2\" />\n  <line x1=\"169\" y1=\"70\" x2=\"195\" y2=\"70\" style=\"stroke-width:2\" />\n\n  <!-- Vertical lines -->\n  <line x1=\"99\" y1=\"0\" x2=\"169\" y2=\"70\" style=\"stroke-width:2\" />\n  <line x1=\"124\" y1=\"0\" x2=\"195\" y2=\"70\" style=\"stroke-width:2\" />\n\n  <!-- Colored Rectangle -->\n  <polygon points=\"99.0,0.0 124.41261651458248,0.0 195.00085180870013,70.58823529411765 169.58823529411765,70.58823529411765\" style=\"fill:#ECB172A0;stroke-width:0\"/>\n\n  <!-- Horizontal lines -->\n  <line x1=\"169\" y1=\"70\" x2=\"195\" y2=\"70\" style=\"stroke-width:2\" />\n  <line x1=\"169\" y1=\"190\" x2=\"195\" y2=\"190\" style=\"stroke-width:2\" />\n\n  <!-- Vertical lines -->\n  <line x1=\"169\" y1=\"70\" x2=\"169\" y2=\"190\" style=\"stroke-width:2\" />\n  <line x1=\"195\" y1=\"70\" x2=\"195\" y2=\"190\" style=\"stroke-width:2\" />\n\n  <!-- Colored Rectangle -->\n  <polygon points=\"169.58823529411765,70.58823529411765 195.00085180870013,70.58823529411765 195.00085180870013,190.58823529411765 169.58823529411765,190.58823529411765\" style=\"fill:#ECB172A0;stroke-width:0\"/>\n\n  <!-- Text -->\n  <text x=\"182.294544\" y=\"210.588235\" font-size=\"1.0rem\" font-weight=\"100\" text-anchor=\"middle\" >1</text>\n  <text x=\"215.000852\" y=\"130.588235\" font-size=\"1.0rem\" font-weight=\"100\" text-anchor=\"middle\" transform=\"rotate(-90,215.000852,130.588235)\">100</text>\n  <text x=\"124.294118\" y=\"175.294118\" font-size=\"1.0rem\" font-weight=\"100\" text-anchor=\"middle\" transform=\"rotate(45,124.294118,175.294118)\">100</text>\n</svg>\n        </td>\n    </tr>\n</table>"
     },
     "metadata": {},
     "output_type": "display_data"
    }
   ],
   "source": [
    "display(HTML(dask_array_rechunked._repr_html_()))"
   ]
  },
  {
   "cell_type": "code",
   "execution_count": 83,
   "id": "1215e2e2-6f7c-41ba-8011-3906286fbb54",
   "metadata": {
    "ExecuteTime": {
     "end_time": "2023-10-10T19:49:45.256784Z",
     "start_time": "2023-10-10T19:49:45.248907Z"
    }
   },
   "outputs": [],
   "source": []
  }
 ],
 "metadata": {
  "kernelspec": {
   "display_name": "Python 3 (ipykernel)",
   "language": "python",
   "name": "python3"
  },
  "language_info": {
   "codemirror_mode": {
    "name": "ipython",
    "version": 3
   },
   "file_extension": ".py",
   "mimetype": "text/x-python",
   "name": "python",
   "nbconvert_exporter": "python",
   "pygments_lexer": "ipython3",
   "version": "3.11.6"
  }
 },
 "nbformat": 4,
 "nbformat_minor": 5
}
