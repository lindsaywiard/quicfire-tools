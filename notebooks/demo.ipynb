{
 "cells": [
  {
   "cell_type": "markdown",
   "metadata": {},
   "source": [
    "# quicfire-tools Package"
   ]
  },
  {
   "cell_type": "code",
   "execution_count": 26,
   "metadata": {
    "ExecuteTime": {
     "end_time": "2024-01-22T16:18:53.825079Z",
     "start_time": "2024-01-22T16:18:53.777874Z"
    }
   },
   "outputs": [],
   "source": [
    "from quicfire_tools import SimulationInputs, SimulationOutputs"
   ]
  },
  {
   "cell_type": "code",
   "execution_count": 27,
   "metadata": {
    "ExecuteTime": {
     "end_time": "2024-01-22T16:18:53.839738Z",
     "start_time": "2024-01-22T16:18:53.781030Z"
    }
   },
   "outputs": [],
   "source": [
    "import matplotlib.pyplot as plt"
   ]
  },
  {
   "cell_type": "markdown",
   "metadata": {},
   "source": [
    "# Inputs Module"
   ]
  },
  {
   "cell_type": "code",
   "execution_count": 28,
   "metadata": {
    "ExecuteTime": {
     "end_time": "2024-01-22T16:18:53.848897Z",
     "start_time": "2024-01-22T16:18:53.785362Z"
    }
   },
   "outputs": [],
   "source": [
    "# Creating an object representing a complete QUIC-Fire simulation requires just a few inputs\n",
    "simple_simulation = SimulationInputs.create_simulation(\n",
    "    nx=100, ny=100, fire_nz=1, wind_speed=2.75, wind_direction=270, simulation_time=600\n",
    ")"
   ]
  },
  {
   "cell_type": "code",
   "execution_count": 29,
   "metadata": {
    "ExecuteTime": {
     "end_time": "2024-01-22T16:18:53.851864Z",
     "start_time": "2024-01-22T16:18:53.787832Z"
    }
   },
   "outputs": [],
   "source": [
    "# One line of user facing code writes the entirety of a QUIC-Fire input file deck to a directory\n",
    "simple_simulation.write_inputs(\"simulation\")"
   ]
  },
  {
   "cell_type": "code",
   "execution_count": 30,
   "metadata": {
    "ExecuteTime": {
     "end_time": "2024-01-22T16:18:53.894429Z",
     "start_time": "2024-01-22T16:18:53.794224Z"
    }
   },
   "outputs": [
    {
     "data": {
      "text/plain": "QUIC_fire(name='QUIC_fire', fire_flag=1, random_seed=-1, time_now=1705940333, sim_time=600, fire_time_step=1, quic_time_step=1, out_time_fire=30, out_time_wind=30, out_time_emis_rad=30, out_time_wind_avg=30, nz=1, stretch_grid_flag=0, dz=1, dz_array=[], fuel_density_flag=1, fuel_density=0.5, fuel_moisture_flag=1, fuel_moisture=0.1, fuel_height_flag=1, fuel_height=1.0, size_scale_flag=0, size_scale=0.0005, patch_and_gap_flag=0, patch_size=0, gap_size=0, ignition=RectangleIgnition(ignition_flag=<IgnitionSources.rectangle: 1>, x_min=20.0, y_min=20.0, x_length=10.0, y_length=160.0), ignitions_per_cell=2, firebrand_flag=0, auto_kill=1, eng_to_atm_out=0, react_rate_out=0, fuel_dens_out=1, qf_wind_out=0, qu_wind_inst_out=1, qu_wind_avg_out=0, fuel_moist_out=0, mass_burnt_out=0, firebrand_out=0, emissions_out=0, radiation_out=0, surf_eng_out=0)"
     },
     "execution_count": 30,
     "metadata": {},
     "output_type": "execute_result"
    }
   ],
   "source": [
    "# Individual objects representing each input file can be accessed from the simulation\n",
    "simple_simulation.quic_fire"
   ]
  },
  {
   "cell_type": "markdown",
   "metadata": {
    "collapsed": false
   },
   "source": [
    "Don't remember what any of these attributes mean? Neither do we! Look at the reference documentation for a description of each input.\n",
    "\n",
    "https://silvxlabs.github.io/quicfire-tools/reference/#quicfire_tools.inputs.QUIC_fire\n",
    "\n"
   ]
  },
  {
   "cell_type": "code",
   "execution_count": 31,
   "metadata": {
    "ExecuteTime": {
     "end_time": "2024-01-22T16:18:53.895400Z",
     "start_time": "2024-01-22T16:18:53.798442Z"
    }
   },
   "outputs": [
    {
     "name": "stdout",
     "output_type": "stream",
     "text": [
      "Old simulation time: 600\n",
      "New simulation time: 1200\n"
     ]
    }
   ],
   "source": [
    "# Inputs can be updated for each input file\n",
    "print(f\"Old simulation time: {simple_simulation.quic_fire.sim_time}\")\n",
    "simple_simulation.quic_fire.sim_time = 1200\n",
    "print(f\"New simulation time: {simple_simulation.quic_fire.sim_time}\")"
   ]
  },
  {
   "cell_type": "code",
   "execution_count": 32,
   "metadata": {
    "ExecuteTime": {
     "end_time": "2024-01-22T16:18:53.896032Z",
     "start_time": "2024-01-22T16:18:53.800798Z"
    }
   },
   "outputs": [
    {
     "name": "stdout",
     "output_type": "stream",
     "text": [
      "Casted simulation time: 999\n"
     ]
    }
   ],
   "source": [
    "# Can handle data type casting for easy conversion\n",
    "simple_simulation.quic_fire.sim_time = \"999\"\n",
    "print(f\"Casted simulation time: {simple_simulation.quic_fire.sim_time}\")"
   ]
  },
  {
   "cell_type": "code",
   "execution_count": 33,
   "metadata": {
    "ExecuteTime": {
     "end_time": "2024-01-22T16:18:53.896086Z",
     "start_time": "2024-01-22T16:18:53.803306Z"
    }
   },
   "outputs": [],
   "source": [
    "# Set methods are provided off of the SimulationInputs object to quickly change frequently accessed inputs\n",
    "simple_simulation.set_output_files(eng_to_atm=True, fuel_dens=True, mass_burnt=True)"
   ]
  },
  {
   "cell_type": "code",
   "execution_count": 34,
   "metadata": {
    "ExecuteTime": {
     "end_time": "2024-01-22T16:18:53.896468Z",
     "start_time": "2024-01-22T16:18:53.806360Z"
    }
   },
   "outputs": [],
   "source": [
    "# Convert input files and entire simulations to common Python data types\n",
    "quic_fire_dict = simple_simulation.quic_fire.to_dict()\n",
    "simulation_dict = simple_simulation.to_dict()"
   ]
  },
  {
   "cell_type": "code",
   "execution_count": 35,
   "metadata": {
    "ExecuteTime": {
     "end_time": "2024-01-22T16:18:53.896541Z",
     "start_time": "2024-01-22T16:18:53.809434Z"
    }
   },
   "outputs": [],
   "source": [
    "# Write an entire simulation to a JSON representation for version control.\n",
    "# Can share an entire QUIC-Fire simulation with one file.\n",
    "simple_simulation.to_json(\"simulation/simulation.json\")"
   ]
  },
  {
   "cell_type": "code",
   "execution_count": 36,
   "metadata": {
    "ExecuteTime": {
     "end_time": "2024-01-22T16:18:53.896939Z",
     "start_time": "2024-01-22T16:18:53.814241Z"
    }
   },
   "outputs": [],
   "source": [
    "# Read in a new SimulationInputs object from a JSON file\n",
    "new_simulation = SimulationInputs.from_json(\"simulation/simulation.json\")"
   ]
  },
  {
   "cell_type": "code",
   "execution_count": 37,
   "metadata": {
    "ExecuteTime": {
     "end_time": "2024-01-22T16:18:53.897133Z",
     "start_time": "2024-01-22T16:18:53.816932Z"
    }
   },
   "outputs": [
    {
     "name": "stdout",
     "output_type": "stream",
     "text": [
      "sensor1 !Site Name\n",
      "\n",
      "0 !Upper level flag (1 = use this profile for upper level winds)\n",
      "\n",
      "50 !Upper level height (meters)\n",
      "\n",
      "1 !Site Coordinate Flag (1=QUIC, 2=UTM, 3=Lat/Lon)\n",
      "\n",
      "1 !X coordinate (meters)\n",
      "\n",
      "1 !Y coordinate (meters)\n",
      "\n",
      "1705940333 !Begining of time step in Unix Epoch time\n",
      "\n",
      "1 !site boundary layer flag (1 = log, 2 = exp, 3 = urban canopy, 4 = discrete data points)\n",
      "\n",
      "0.1 !site zo\n",
      "\n",
      "0. ! 1/L (default = 0)\n",
      "\n",
      "!Height (m), Speed (m/s), Direction (deg relative to true N)\n",
      "\n",
      "6.1 2.75 270\n"
     ]
    }
   ],
   "source": [
    "# Don't have a JSON file for a simulation?\n",
    "# Read in the simulation from the input files in a directory.\n",
    "new_simulation_from_dir = SimulationInputs.from_directory(\"simulation\")"
   ]
  },
  {
   "cell_type": "markdown",
   "metadata": {},
   "source": [
    "## Create a simulation with .dat files"
   ]
  },
  {
   "cell_type": "code",
   "execution_count": 38,
   "metadata": {
    "ExecuteTime": {
     "end_time": "2024-01-22T16:18:53.897206Z",
     "start_time": "2024-01-22T16:18:53.820770Z"
    }
   },
   "outputs": [],
   "source": [
    "# Start out creating a simulation with the minimum viable set of data\n",
    "custom_simple_simulation = SimulationInputs.create_simulation(\n",
    "    nx=200, ny=200, fire_nz=50, wind_speed=2.75, wind_direction=270, simulation_time=600\n",
    ")"
   ]
  },
  {
   "cell_type": "code",
   "execution_count": 39,
   "metadata": {
    "ExecuteTime": {
     "end_time": "2024-01-22T16:18:53.897271Z",
     "start_time": "2024-01-22T16:18:53.823531Z"
    }
   },
   "outputs": [],
   "source": [
    "# Set all fuel, ignition, and topography flags to read from .dat files\n",
    "custom_simple_simulation.set_custom_simulation()"
   ]
  },
  {
   "cell_type": "code",
   "execution_count": 40,
   "metadata": {
    "ExecuteTime": {
     "end_time": "2024-01-22T16:18:53.897732Z",
     "start_time": "2024-01-22T16:18:53.825546Z"
    }
   },
   "outputs": [],
   "source": [
    "# Write the simulation input deck to a directory\n",
    "custom_simple_simulation.write_inputs(\"simulation\")"
   ]
  },
  {
   "cell_type": "markdown",
   "metadata": {},
   "source": [
    "### What if we want all .dat file inputs, except for topography, which we want as uniform?"
   ]
  },
  {
   "cell_type": "code",
   "execution_count": 41,
   "metadata": {
    "ExecuteTime": {
     "end_time": "2024-01-22T16:18:53.897781Z",
     "start_time": "2024-01-22T16:18:53.830366Z"
    }
   },
   "outputs": [],
   "source": [
    "custom_simulation_flat_topo = SimulationInputs.create_simulation(\n",
    "    nx=200, ny=200, fire_nz=50, wind_speed=2.75, wind_direction=270, simulation_time=600\n",
    ")\n",
    "custom_simulation_flat_topo.set_custom_simulation(topo=False)"
   ]
  },
  {
   "cell_type": "code",
   "execution_count": 42,
   "metadata": {
    "ExecuteTime": {
     "end_time": "2024-01-22T16:18:53.897899Z",
     "start_time": "2024-01-22T16:18:53.832786Z"
    }
   },
   "outputs": [
    {
     "data": {
      "text/plain": "TopoType(topo_flag=<TopoFlags.flat: 0>)"
     },
     "execution_count": 42,
     "metadata": {},
     "output_type": "execute_result"
    }
   ],
   "source": [
    "custom_simulation_flat_topo.qu_topoinputs.topography"
   ]
  },
  {
   "cell_type": "markdown",
   "metadata": {},
   "source": [
    "### What if there's something I don't know how to do?\n",
    "\n",
    "Check out our full documentation with tutorials, how to guides, and explanations.\n",
    "\n",
    "https://silvxlabs.github.io/quicfire-tools/"
   ]
  },
  {
   "cell_type": "markdown",
   "metadata": {},
   "source": [
    "# Outputs Module"
   ]
  },
  {
   "cell_type": "code",
   "execution_count": 43,
   "metadata": {
    "ExecuteTime": {
     "end_time": "2024-01-22T16:18:53.897973Z",
     "start_time": "2024-01-22T16:18:53.835253Z"
    }
   },
   "outputs": [],
   "source": [
    "# Create an outputs object with the minimum amount of information needed.\n",
    "outputs = SimulationOutputs(\"example-linefire-output/Output\", nz=1, ny=200, nx=200)"
   ]
  },
  {
   "cell_type": "code",
   "execution_count": 44,
   "metadata": {
    "ExecuteTime": {
     "end_time": "2024-01-22T16:18:53.898441Z",
     "start_time": "2024-01-22T16:18:53.838847Z"
    }
   },
   "outputs": [
    {
     "data": {
      "text/plain": "['fuels-dens', 'groundfuelheight', 'mburnt_integ']"
     },
     "execution_count": 44,
     "metadata": {},
     "output_type": "execute_result"
    }
   ],
   "source": [
    "# Look at what outputs are available for the simulation. NOT which outputs are in the QUIC_fire.inp file\n",
    "# But which outputs are actually present\n",
    "outputs.list_available_outputs()"
   ]
  },
  {
   "cell_type": "code",
   "execution_count": 45,
   "metadata": {
    "collapsed": false,
    "ExecuteTime": {
     "end_time": "2024-01-22T16:18:53.898498Z",
     "start_time": "2024-01-22T16:18:53.841337Z"
    }
   },
   "outputs": [],
   "source": [
    "# Get fuels-dens as a numpy array.\n",
    "fuels_dens_np = outputs.to_numpy(\"fuels-dens\")"
   ]
  },
  {
   "cell_type": "code",
   "execution_count": 46,
   "metadata": {
    "collapsed": false,
    "ExecuteTime": {
     "end_time": "2024-01-22T16:18:53.898585Z",
     "start_time": "2024-01-22T16:18:53.847552Z"
    }
   },
   "outputs": [
    {
     "name": "stdout",
     "output_type": "stream",
     "text": [
      "(7, 2, 200, 200)\n"
     ]
    }
   ],
   "source": [
    "# All output arrays are 4D with dimensions: time, z, y, x\n",
    "print(fuels_dens_np.shape)"
   ]
  },
  {
   "cell_type": "code",
   "execution_count": 47,
   "metadata": {
    "ExecuteTime": {
     "end_time": "2024-01-22T16:18:53.899350Z",
     "start_time": "2024-01-22T16:18:53.850131Z"
    }
   },
   "outputs": [
    {
     "name": "stdout",
     "output_type": "stream",
     "text": [
      "(1, 2, 200, 200)\n"
     ]
    }
   ],
   "source": [
    "# Everything at once? That could be more data than what I can fit into memory.\n",
    "# Can specify a single timestep or a range of timesteps to limit the amount of data in memory.\n",
    "fuels_dens_np = outputs.to_numpy(\"fuels-dens\", timestep=5)\n",
    "print(fuels_dens_np.shape)"
   ]
  },
  {
   "cell_type": "code",
   "execution_count": 48,
   "metadata": {
    "ExecuteTime": {
     "end_time": "2024-01-22T16:18:53.996518Z",
     "start_time": "2024-01-22T16:18:53.859634Z"
    }
   },
   "outputs": [
    {
     "data": {
      "text/plain": "<Figure size 640x480 with 2 Axes>",
      "image/png": "[encoded data removed]"
     },
     "metadata": {},
     "output_type": "display_data"
    }
   ],
   "source": [
    "# Look at the data as an image plot. No need to copy/paste 8 drawfire files.\n",
    "plt.imshow(fuels_dens_np[0, 0, ...], origin=\"lower\", cmap=\"jet\")\n",
    "plt.colorbar()\n",
    "plt.show()"
   ]
  },
  {
   "cell_type": "code",
   "execution_count": 49,
   "metadata": {
    "ExecuteTime": {
     "end_time": "2024-01-22T16:18:53.997951Z",
     "start_time": "2024-01-22T16:18:53.934564Z"
    }
   },
   "outputs": [
    {
     "data": {
      "text/plain": "<Figure size 640x480 with 1 Axes>",
      "image/png": "[encoded data removed]"
     },
     "metadata": {},
     "output_type": "display_data"
    }
   ],
   "source": [
    "# Look at fuel density over time for point (100, 75)\n",
    "fuels_dens = outputs.get_output(\"fuels-dens\")\n",
    "fuels_dens_np = fuels_dens.to_numpy()\n",
    "plt.plot(fuels_dens.times, fuels_dens_np[:, 0, 75, 100], lw=3)\n",
    "plt.grid()\n",
    "plt.xlabel(\"Time (s)\")\n",
    "plt.ylabel(\"Fuel Density (kg/m^3)\")\n",
    "plt.title(\"Fuel Density Over Time at Point (100, 75)\")\n",
    "plt.show()"
   ]
  },
  {
   "cell_type": "code",
   "execution_count": 50,
   "metadata": {
    "ExecuteTime": {
     "end_time": "2024-01-22T16:18:54.013447Z",
     "start_time": "2024-01-22T16:18:53.997694Z"
    }
   },
   "outputs": [
    {
     "name": "stdout",
     "output_type": "stream",
     "text": [
      "A dataset for fuels-dens already exists in the zarr file.\n",
      " Set over_write flag to True if you would like to rebuild the zarr.\n",
      "A dataset for groundfuelheight already exists in the zarr file.\n",
      " Set over_write flag to True if you would like to rebuild the zarr.\n",
      "A dataset for mburnt_integ already exists in the zarr file.\n",
      " Set over_write flag to True if you would like to rebuild the zarr.\n"
     ]
    }
   ],
   "source": [
    "# Can also get the data as a dask array or zarr array\n",
    "fuels_dens_da = outputs.to_dask(\"fuels-dens\")\n",
    "zarr_array = outputs.to_zarr(\"simulation/zarray\")"
   ]
  }
 ],
 "metadata": {
  "kernelspec": {
   "display_name": "quicfire-tools",
   "language": "python",
   "name": "python3"
  },
  "language_info": {
   "codemirror_mode": {
    "name": "ipython",
    "version": 3
   },
   "file_extension": ".py",
   "mimetype": "text/x-python",
   "name": "python",
   "nbconvert_exporter": "python",
   "pygments_lexer": "ipython3",
   "version": "3.11.6"
  }
 },
 "nbformat": 4,
 "nbformat_minor": 2
}
