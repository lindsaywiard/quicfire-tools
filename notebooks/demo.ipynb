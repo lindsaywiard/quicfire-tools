{
 "cells": [
  {
   "cell_type": "code",
   "execution_count": 1,
   "metadata": {
    "ExecuteTime": {
     "end_time": "2024-01-12T19:08:20.347945Z",
     "start_time": "2024-01-12T19:08:18.738932Z"
    }
   },
   "outputs": [
    {
     "name": "stdout",
     "output_type": "stream",
     "text": [
      "Requirement already satisfied: quicfire-tools in /Users/anthony/mambaforge/envs/quicfire-tools-dev/lib/python3.11/site-packages (0.5.1)\r\n",
      "Requirement already satisfied: numpy<2 in /Users/anthony/mambaforge/envs/quicfire-tools-dev/lib/python3.11/site-packages (from quicfire-tools) (1.26.0)\r\n",
      "Requirement already satisfied: dask in /Users/anthony/mambaforge/envs/quicfire-tools-dev/lib/python3.11/site-packages (from quicfire-tools) (2023.9.3)\r\n",
      "Requirement already satisfied: pydantic>=2 in /Users/anthony/mambaforge/envs/quicfire-tools-dev/lib/python3.11/site-packages (from quicfire-tools) (2.4.2)\r\n",
      "Requirement already satisfied: zarr>=2 in /Users/anthony/mambaforge/envs/quicfire-tools-dev/lib/python3.11/site-packages (from quicfire-tools) (2.16.1)\r\n",
      "Requirement already satisfied: annotated-types>=0.4.0 in /Users/anthony/mambaforge/envs/quicfire-tools-dev/lib/python3.11/site-packages (from pydantic>=2->quicfire-tools) (0.6.0)\r\n",
      "Requirement already satisfied: pydantic-core==2.10.1 in /Users/anthony/mambaforge/envs/quicfire-tools-dev/lib/python3.11/site-packages (from pydantic>=2->quicfire-tools) (2.10.1)\r\n",
      "Requirement already satisfied: typing-extensions>=4.6.1 in /Users/anthony/mambaforge/envs/quicfire-tools-dev/lib/python3.11/site-packages (from pydantic>=2->quicfire-tools) (4.8.0)\r\n",
      "Requirement already satisfied: asciitree in /Users/anthony/mambaforge/envs/quicfire-tools-dev/lib/python3.11/site-packages (from zarr>=2->quicfire-tools) (0.3.3)\r\n",
      "Requirement already satisfied: fasteners in /Users/anthony/mambaforge/envs/quicfire-tools-dev/lib/python3.11/site-packages (from zarr>=2->quicfire-tools) (0.17.3)\r\n",
      "Requirement already satisfied: numcodecs>=0.10.0 in /Users/anthony/mambaforge/envs/quicfire-tools-dev/lib/python3.11/site-packages (from zarr>=2->quicfire-tools) (0.12.0)\r\n",
      "Requirement already satisfied: click>=8.0 in /Users/anthony/mambaforge/envs/quicfire-tools-dev/lib/python3.11/site-packages (from dask->quicfire-tools) (8.1.7)\r\n",
      "Requirement already satisfied: cloudpickle>=1.5.0 in /Users/anthony/mambaforge/envs/quicfire-tools-dev/lib/python3.11/site-packages (from dask->quicfire-tools) (2.2.1)\r\n",
      "Requirement already satisfied: fsspec>=2021.09.0 in /Users/anthony/mambaforge/envs/quicfire-tools-dev/lib/python3.11/site-packages (from dask->quicfire-tools) (2023.9.2)\r\n",
      "Requirement already satisfied: packaging>=20.0 in /Users/anthony/mambaforge/envs/quicfire-tools-dev/lib/python3.11/site-packages (from dask->quicfire-tools) (23.2)\r\n",
      "Requirement already satisfied: partd>=1.2.0 in /Users/anthony/mambaforge/envs/quicfire-tools-dev/lib/python3.11/site-packages (from dask->quicfire-tools) (1.4.1)\r\n",
      "Requirement already satisfied: pyyaml>=5.3.1 in /Users/anthony/mambaforge/envs/quicfire-tools-dev/lib/python3.11/site-packages (from dask->quicfire-tools) (6.0.1)\r\n",
      "Requirement already satisfied: toolz>=0.10.0 in /Users/anthony/mambaforge/envs/quicfire-tools-dev/lib/python3.11/site-packages (from dask->quicfire-tools) (0.12.0)\r\n",
      "Requirement already satisfied: importlib-metadata>=4.13.0 in /Users/anthony/mambaforge/envs/quicfire-tools-dev/lib/python3.11/site-packages (from dask->quicfire-tools) (6.8.0)\r\n",
      "Requirement already satisfied: zipp>=0.5 in /Users/anthony/mambaforge/envs/quicfire-tools-dev/lib/python3.11/site-packages (from importlib-metadata>=4.13.0->dask->quicfire-tools) (3.17.0)\r\n",
      "Requirement already satisfied: locket in /Users/anthony/mambaforge/envs/quicfire-tools-dev/lib/python3.11/site-packages (from partd>=1.2.0->dask->quicfire-tools) (1.0.0)\r\n"
     ]
    }
   ],
   "source": [
    "!pip install quicfire-tools"
   ]
  },
  {
   "cell_type": "code",
   "execution_count": 2,
   "metadata": {
    "ExecuteTime": {
     "end_time": "2024-01-12T19:08:20.805485Z",
     "start_time": "2024-01-12T19:08:20.349494Z"
    }
   },
   "outputs": [],
   "source": [
    "from quicfire_tools import SimulationInputs, SimulationOutputs"
   ]
  },
  {
   "cell_type": "code",
   "execution_count": 3,
   "metadata": {
    "ExecuteTime": {
     "end_time": "2024-01-12T19:08:20.806325Z",
     "start_time": "2024-01-12T19:08:20.804365Z"
    }
   },
   "outputs": [],
   "source": [
    "from pathlib import Path"
   ]
  },
  {
   "cell_type": "code",
   "execution_count": 4,
   "metadata": {
    "ExecuteTime": {
     "end_time": "2024-01-12T19:08:20.813434Z",
     "start_time": "2024-01-12T19:08:20.807193Z"
    }
   },
   "outputs": [],
   "source": [
    "current_dir = Path.cwd()\n",
    "simulation_dir = Path(\"simulation\")\n",
    "simulation_dir.mkdir(exist_ok=True)"
   ]
  },
  {
   "cell_type": "markdown",
   "metadata": {},
   "source": [
    "# Inputs Module"
   ]
  },
  {
   "cell_type": "code",
   "execution_count": 5,
   "metadata": {
    "ExecuteTime": {
     "end_time": "2024-01-12T19:08:20.813577Z",
     "start_time": "2024-01-12T19:08:20.810605Z"
    }
   },
   "outputs": [],
   "source": [
    "# Creating an object representing a complete QUIC-Fire simulation requires just a few inputs\n",
    "simple_simulation = SimulationInputs.create_simulation(nx=100, ny=100, fire_nz=1, wind_speed=2.75, wind_direction=270, simulation_time=600)"
   ]
  },
  {
   "cell_type": "code",
   "execution_count": 6,
   "metadata": {
    "ExecuteTime": {
     "end_time": "2024-01-12T19:08:20.821455Z",
     "start_time": "2024-01-12T19:08:20.811918Z"
    }
   },
   "outputs": [],
   "source": [
    "# One line of user facing code writes the entirety of a QUIC-Fire input file deck to a directory\n",
    "simple_simulation.write_inputs(\"simulation\")"
   ]
  },
  {
   "cell_type": "code",
   "execution_count": 7,
   "metadata": {
    "ExecuteTime": {
     "end_time": "2024-01-12T19:08:21.059902Z",
     "start_time": "2024-01-12T19:08:21.054922Z"
    }
   },
   "outputs": [
    {
     "data": {
      "text/plain": "QUIC_fire(name='QUIC_fire', fire_flag=1, random_seed=-1, time_now=1705086500, sim_time=600, fire_time_step=1, quic_time_step=1, out_time_fire=30, out_time_wind=30, out_time_emis_rad=30, out_time_wind_avg=30, nz=1, stretch_grid_flag=0, dz=1, dz_array=[], fuel_density_flag=1, fuel_density=0.5, fuel_moisture_flag=1, fuel_moisture=0.1, fuel_height_flag=1, fuel_height=1.0, size_scale_flag=0, size_scale=0.0005, patch_and_gap_flag=0, patch_size=0, gap_size=0, ignition_type=RectangleIgnition(ignition_flag=<IgnitionSources.rectangle: 1>, x_min=20.0, y_min=20.0, x_length=10.0, y_length=160.0), ignitions_per_cell=2, firebrand_flag=0, auto_kill=1, eng_to_atm_out=0, react_rate_out=0, fuel_dens_out=1, qf_wind_out=0, qu_wind_inst_out=1, qu_wind_avg_out=0, fuel_moist_out=0, mass_burnt_out=0, firebrand_out=0, emissions_out=0, radiation_out=0, surf_eng_out=0)"
     },
     "execution_count": 7,
     "metadata": {},
     "output_type": "execute_result"
    }
   ],
   "source": [
    "# Individual objects representing each input file can be accessed from the simulation\n",
    "simple_simulation.quic_fire"
   ]
  },
  {
   "cell_type": "markdown",
   "source": [
    "Don't remember what any of these attributes mean? Either do we! Look at the reference documentation for a description of each input.\n",
    "\n",
    "https://silvxlabs.github.io/quicfire-tools/reference/#quicfire_tools.inputs.QUIC_fire\n",
    "\n"
   ],
   "metadata": {
    "collapsed": false
   }
  },
  {
   "cell_type": "code",
   "execution_count": 8,
   "metadata": {
    "ExecuteTime": {
     "end_time": "2024-01-12T19:08:22.055532Z",
     "start_time": "2024-01-12T19:08:22.053638Z"
    }
   },
   "outputs": [
    {
     "name": "stdout",
     "output_type": "stream",
     "text": [
      "Old simulation time: 600\n",
      "New simulation time: 1200\n"
     ]
    }
   ],
   "source": [
    "# Inputs can be updated for each input file\n",
    "print(f\"Old simulation time: {simple_simulation.quic_fire.sim_time}\")\n",
    "simple_simulation.quic_fire.sim_time = 1200\n",
    "print(f\"New simulation time: {simple_simulation.quic_fire.sim_time}\")"
   ]
  },
  {
   "cell_type": "code",
   "execution_count": 9,
   "metadata": {
    "ExecuteTime": {
     "end_time": "2024-01-12T19:08:22.561217Z",
     "start_time": "2024-01-12T19:08:22.558Z"
    }
   },
   "outputs": [
    {
     "name": "stdout",
     "output_type": "stream",
     "text": [
      "Casted simulation time: 999\n"
     ]
    }
   ],
   "source": [
    "# Can handle data type casting for easy conversion\n",
    "simple_simulation.quic_fire.sim_time = \"999\"\n",
    "print(f\"Casted simulation time: {simple_simulation.quic_fire.sim_time}\")"
   ]
  },
  {
   "cell_type": "code",
   "execution_count": 10,
   "metadata": {
    "ExecuteTime": {
     "end_time": "2024-01-12T19:08:23.165556Z",
     "start_time": "2024-01-12T19:08:23.002278Z"
    }
   },
   "outputs": [
    {
     "ename": "ValidationError",
     "evalue": "1 validation error for QUIC_fire\nsim_time\n  Input should be a valid integer, unable to parse string as an integer [type=int_parsing, input_value='not_a_number', input_type=str]\n    For further information visit https://errors.pydantic.dev/2.4/v/int_parsing",
     "output_type": "error",
     "traceback": [
      "\u001B[0;31m---------------------------------------------------------------------------\u001B[0m",
      "\u001B[0;31mValidationError\u001B[0m                           Traceback (most recent call last)",
      "Cell \u001B[0;32mIn[10], line 2\u001B[0m\n\u001B[1;32m      1\u001B[0m \u001B[38;5;66;03m# Validates data based on data type\u001B[39;00m\n\u001B[0;32m----> 2\u001B[0m \u001B[43msimple_simulation\u001B[49m\u001B[38;5;241;43m.\u001B[39;49m\u001B[43mquic_fire\u001B[49m\u001B[38;5;241;43m.\u001B[39;49m\u001B[43msim_time\u001B[49m \u001B[38;5;241m=\u001B[39m \u001B[38;5;124m\"\u001B[39m\u001B[38;5;124mnot_a_number\u001B[39m\u001B[38;5;124m\"\u001B[39m\n",
      "File \u001B[0;32m~/mambaforge/envs/quicfire-tools-dev/lib/python3.11/site-packages/pydantic/main.py:796\u001B[0m, in \u001B[0;36mBaseModel.__setattr__\u001B[0;34m(self, name, value)\u001B[0m\n\u001B[1;32m    794\u001B[0m     attr\u001B[38;5;241m.\u001B[39m\u001B[38;5;21m__set__\u001B[39m(\u001B[38;5;28mself\u001B[39m, value)\n\u001B[1;32m    795\u001B[0m \u001B[38;5;28;01melif\u001B[39;00m \u001B[38;5;28mself\u001B[39m\u001B[38;5;241m.\u001B[39mmodel_config\u001B[38;5;241m.\u001B[39mget(\u001B[38;5;124m'\u001B[39m\u001B[38;5;124mvalidate_assignment\u001B[39m\u001B[38;5;124m'\u001B[39m, \u001B[38;5;28;01mNone\u001B[39;00m):\n\u001B[0;32m--> 796\u001B[0m     \u001B[38;5;28mself\u001B[39m\u001B[38;5;241m.\u001B[39m__pydantic_validator__\u001B[38;5;241m.\u001B[39mvalidate_assignment(\u001B[38;5;28mself\u001B[39m, name, value)\n\u001B[1;32m    797\u001B[0m \u001B[38;5;28;01melif\u001B[39;00m \u001B[38;5;28mself\u001B[39m\u001B[38;5;241m.\u001B[39mmodel_config\u001B[38;5;241m.\u001B[39mget(\u001B[38;5;124m'\u001B[39m\u001B[38;5;124mextra\u001B[39m\u001B[38;5;124m'\u001B[39m) \u001B[38;5;241m!=\u001B[39m \u001B[38;5;124m'\u001B[39m\u001B[38;5;124mallow\u001B[39m\u001B[38;5;124m'\u001B[39m \u001B[38;5;129;01mand\u001B[39;00m name \u001B[38;5;129;01mnot\u001B[39;00m \u001B[38;5;129;01min\u001B[39;00m \u001B[38;5;28mself\u001B[39m\u001B[38;5;241m.\u001B[39mmodel_fields:\n\u001B[1;32m    798\u001B[0m     \u001B[38;5;66;03m# TODO - matching error\u001B[39;00m\n\u001B[1;32m    799\u001B[0m     \u001B[38;5;28;01mraise\u001B[39;00m \u001B[38;5;167;01mValueError\u001B[39;00m(\u001B[38;5;124mf\u001B[39m\u001B[38;5;124m'\u001B[39m\u001B[38;5;124m\"\u001B[39m\u001B[38;5;132;01m{\u001B[39;00m\u001B[38;5;28mself\u001B[39m\u001B[38;5;241m.\u001B[39m\u001B[38;5;18m__class__\u001B[39m\u001B[38;5;241m.\u001B[39m\u001B[38;5;18m__name__\u001B[39m\u001B[38;5;132;01m}\u001B[39;00m\u001B[38;5;124m\"\u001B[39m\u001B[38;5;124m object has no field \u001B[39m\u001B[38;5;124m\"\u001B[39m\u001B[38;5;132;01m{\u001B[39;00mname\u001B[38;5;132;01m}\u001B[39;00m\u001B[38;5;124m\"\u001B[39m\u001B[38;5;124m'\u001B[39m)\n",
      "\u001B[0;31mValidationError\u001B[0m: 1 validation error for QUIC_fire\nsim_time\n  Input should be a valid integer, unable to parse string as an integer [type=int_parsing, input_value='not_a_number', input_type=str]\n    For further information visit https://errors.pydantic.dev/2.4/v/int_parsing"
     ]
    }
   ],
   "source": [
    "# Validates data based on data type\n",
    "simple_simulation.quic_fire.sim_time = \"not_a_number\""
   ]
  },
  {
   "cell_type": "code",
   "execution_count": 11,
   "metadata": {
    "ExecuteTime": {
     "end_time": "2024-01-12T19:08:23.558319Z",
     "start_time": "2024-01-12T19:08:23.548416Z"
    }
   },
   "outputs": [
    {
     "ename": "ValidationError",
     "evalue": "1 validation error for QUIC_fire\nsim_time\n  Input should be greater than 0 [type=greater_than, input_value=-1, input_type=int]\n    For further information visit https://errors.pydantic.dev/2.4/v/greater_than",
     "output_type": "error",
     "traceback": [
      "\u001B[0;31m---------------------------------------------------------------------------\u001B[0m",
      "\u001B[0;31mValidationError\u001B[0m                           Traceback (most recent call last)",
      "Cell \u001B[0;32mIn[11], line 2\u001B[0m\n\u001B[1;32m      1\u001B[0m \u001B[38;5;66;03m# Also validates data based on value\u001B[39;00m\n\u001B[0;32m----> 2\u001B[0m \u001B[43msimple_simulation\u001B[49m\u001B[38;5;241;43m.\u001B[39;49m\u001B[43mquic_fire\u001B[49m\u001B[38;5;241;43m.\u001B[39;49m\u001B[43msim_time\u001B[49m \u001B[38;5;241m=\u001B[39m \u001B[38;5;241m-\u001B[39m\u001B[38;5;241m1\u001B[39m\n",
      "File \u001B[0;32m~/mambaforge/envs/quicfire-tools-dev/lib/python3.11/site-packages/pydantic/main.py:796\u001B[0m, in \u001B[0;36mBaseModel.__setattr__\u001B[0;34m(self, name, value)\u001B[0m\n\u001B[1;32m    794\u001B[0m     attr\u001B[38;5;241m.\u001B[39m\u001B[38;5;21m__set__\u001B[39m(\u001B[38;5;28mself\u001B[39m, value)\n\u001B[1;32m    795\u001B[0m \u001B[38;5;28;01melif\u001B[39;00m \u001B[38;5;28mself\u001B[39m\u001B[38;5;241m.\u001B[39mmodel_config\u001B[38;5;241m.\u001B[39mget(\u001B[38;5;124m'\u001B[39m\u001B[38;5;124mvalidate_assignment\u001B[39m\u001B[38;5;124m'\u001B[39m, \u001B[38;5;28;01mNone\u001B[39;00m):\n\u001B[0;32m--> 796\u001B[0m     \u001B[38;5;28mself\u001B[39m\u001B[38;5;241m.\u001B[39m__pydantic_validator__\u001B[38;5;241m.\u001B[39mvalidate_assignment(\u001B[38;5;28mself\u001B[39m, name, value)\n\u001B[1;32m    797\u001B[0m \u001B[38;5;28;01melif\u001B[39;00m \u001B[38;5;28mself\u001B[39m\u001B[38;5;241m.\u001B[39mmodel_config\u001B[38;5;241m.\u001B[39mget(\u001B[38;5;124m'\u001B[39m\u001B[38;5;124mextra\u001B[39m\u001B[38;5;124m'\u001B[39m) \u001B[38;5;241m!=\u001B[39m \u001B[38;5;124m'\u001B[39m\u001B[38;5;124mallow\u001B[39m\u001B[38;5;124m'\u001B[39m \u001B[38;5;129;01mand\u001B[39;00m name \u001B[38;5;129;01mnot\u001B[39;00m \u001B[38;5;129;01min\u001B[39;00m \u001B[38;5;28mself\u001B[39m\u001B[38;5;241m.\u001B[39mmodel_fields:\n\u001B[1;32m    798\u001B[0m     \u001B[38;5;66;03m# TODO - matching error\u001B[39;00m\n\u001B[1;32m    799\u001B[0m     \u001B[38;5;28;01mraise\u001B[39;00m \u001B[38;5;167;01mValueError\u001B[39;00m(\u001B[38;5;124mf\u001B[39m\u001B[38;5;124m'\u001B[39m\u001B[38;5;124m\"\u001B[39m\u001B[38;5;132;01m{\u001B[39;00m\u001B[38;5;28mself\u001B[39m\u001B[38;5;241m.\u001B[39m\u001B[38;5;18m__class__\u001B[39m\u001B[38;5;241m.\u001B[39m\u001B[38;5;18m__name__\u001B[39m\u001B[38;5;132;01m}\u001B[39;00m\u001B[38;5;124m\"\u001B[39m\u001B[38;5;124m object has no field \u001B[39m\u001B[38;5;124m\"\u001B[39m\u001B[38;5;132;01m{\u001B[39;00mname\u001B[38;5;132;01m}\u001B[39;00m\u001B[38;5;124m\"\u001B[39m\u001B[38;5;124m'\u001B[39m)\n",
      "\u001B[0;31mValidationError\u001B[0m: 1 validation error for QUIC_fire\nsim_time\n  Input should be greater than 0 [type=greater_than, input_value=-1, input_type=int]\n    For further information visit https://errors.pydantic.dev/2.4/v/greater_than"
     ]
    }
   ],
   "source": [
    "# Also validates data based on value\n",
    "simple_simulation.quic_fire.sim_time = -1"
   ]
  },
  {
   "cell_type": "code",
   "execution_count": 12,
   "metadata": {
    "ExecuteTime": {
     "end_time": "2024-01-12T19:08:24.031341Z",
     "start_time": "2024-01-12T19:08:24.012107Z"
    }
   },
   "outputs": [
    {
     "ename": "ValidationError",
     "evalue": "1 validation error for QUIC_fire\nfuel_density_flag\n  Input should be 1, 2, 3 or 4 [type=literal_error, input_value=7, input_type=int]\n    For further information visit https://errors.pydantic.dev/2.4/v/literal_error",
     "output_type": "error",
     "traceback": [
      "\u001B[0;31m---------------------------------------------------------------------------\u001B[0m",
      "\u001B[0;31mValidationError\u001B[0m                           Traceback (most recent call last)",
      "Cell \u001B[0;32mIn[12], line 2\u001B[0m\n\u001B[1;32m      1\u001B[0m \u001B[38;5;66;03m# Also validates on valid flags for categorical inputs\u001B[39;00m\n\u001B[0;32m----> 2\u001B[0m \u001B[43msimple_simulation\u001B[49m\u001B[38;5;241;43m.\u001B[39;49m\u001B[43mquic_fire\u001B[49m\u001B[38;5;241;43m.\u001B[39;49m\u001B[43mfuel_density_flag\u001B[49m \u001B[38;5;241m=\u001B[39m \u001B[38;5;241m7\u001B[39m\n",
      "File \u001B[0;32m~/mambaforge/envs/quicfire-tools-dev/lib/python3.11/site-packages/pydantic/main.py:796\u001B[0m, in \u001B[0;36mBaseModel.__setattr__\u001B[0;34m(self, name, value)\u001B[0m\n\u001B[1;32m    794\u001B[0m     attr\u001B[38;5;241m.\u001B[39m\u001B[38;5;21m__set__\u001B[39m(\u001B[38;5;28mself\u001B[39m, value)\n\u001B[1;32m    795\u001B[0m \u001B[38;5;28;01melif\u001B[39;00m \u001B[38;5;28mself\u001B[39m\u001B[38;5;241m.\u001B[39mmodel_config\u001B[38;5;241m.\u001B[39mget(\u001B[38;5;124m'\u001B[39m\u001B[38;5;124mvalidate_assignment\u001B[39m\u001B[38;5;124m'\u001B[39m, \u001B[38;5;28;01mNone\u001B[39;00m):\n\u001B[0;32m--> 796\u001B[0m     \u001B[38;5;28mself\u001B[39m\u001B[38;5;241m.\u001B[39m__pydantic_validator__\u001B[38;5;241m.\u001B[39mvalidate_assignment(\u001B[38;5;28mself\u001B[39m, name, value)\n\u001B[1;32m    797\u001B[0m \u001B[38;5;28;01melif\u001B[39;00m \u001B[38;5;28mself\u001B[39m\u001B[38;5;241m.\u001B[39mmodel_config\u001B[38;5;241m.\u001B[39mget(\u001B[38;5;124m'\u001B[39m\u001B[38;5;124mextra\u001B[39m\u001B[38;5;124m'\u001B[39m) \u001B[38;5;241m!=\u001B[39m \u001B[38;5;124m'\u001B[39m\u001B[38;5;124mallow\u001B[39m\u001B[38;5;124m'\u001B[39m \u001B[38;5;129;01mand\u001B[39;00m name \u001B[38;5;129;01mnot\u001B[39;00m \u001B[38;5;129;01min\u001B[39;00m \u001B[38;5;28mself\u001B[39m\u001B[38;5;241m.\u001B[39mmodel_fields:\n\u001B[1;32m    798\u001B[0m     \u001B[38;5;66;03m# TODO - matching error\u001B[39;00m\n\u001B[1;32m    799\u001B[0m     \u001B[38;5;28;01mraise\u001B[39;00m \u001B[38;5;167;01mValueError\u001B[39;00m(\u001B[38;5;124mf\u001B[39m\u001B[38;5;124m'\u001B[39m\u001B[38;5;124m\"\u001B[39m\u001B[38;5;132;01m{\u001B[39;00m\u001B[38;5;28mself\u001B[39m\u001B[38;5;241m.\u001B[39m\u001B[38;5;18m__class__\u001B[39m\u001B[38;5;241m.\u001B[39m\u001B[38;5;18m__name__\u001B[39m\u001B[38;5;132;01m}\u001B[39;00m\u001B[38;5;124m\"\u001B[39m\u001B[38;5;124m object has no field \u001B[39m\u001B[38;5;124m\"\u001B[39m\u001B[38;5;132;01m{\u001B[39;00mname\u001B[38;5;132;01m}\u001B[39;00m\u001B[38;5;124m\"\u001B[39m\u001B[38;5;124m'\u001B[39m)\n",
      "\u001B[0;31mValidationError\u001B[0m: 1 validation error for QUIC_fire\nfuel_density_flag\n  Input should be 1, 2, 3 or 4 [type=literal_error, input_value=7, input_type=int]\n    For further information visit https://errors.pydantic.dev/2.4/v/literal_error"
     ]
    }
   ],
   "source": [
    "# Also validates on valid flags for categorical inputs\n",
    "simple_simulation.quic_fire.fuel_density_flag = 7"
   ]
  },
  {
   "cell_type": "code",
   "execution_count": 13,
   "metadata": {
    "ExecuteTime": {
     "end_time": "2024-01-12T19:08:24.452029Z",
     "start_time": "2024-01-12T19:08:24.443447Z"
    }
   },
   "outputs": [],
   "source": [
    "# Set methods are provided off of the SimulationInputs object to quickly change frequently accessed inputs\n",
    "simple_simulation.set_output_files(eng_to_atm=True, fuel_dens=True, mass_burnt=True)"
   ]
  },
  {
   "cell_type": "code",
   "execution_count": 14,
   "metadata": {
    "ExecuteTime": {
     "end_time": "2024-01-12T19:08:24.841259Z",
     "start_time": "2024-01-12T19:08:24.834530Z"
    }
   },
   "outputs": [],
   "source": [
    " # Convert input files and entire simulations to common Python data types\n",
    "quic_fire_dict = simple_simulation.quic_fire.to_dict()\n",
    "simulation_dict = simple_simulation.to_dict()"
   ]
  },
  {
   "cell_type": "code",
   "execution_count": 15,
   "metadata": {
    "ExecuteTime": {
     "end_time": "2024-01-12T19:08:25.342662Z",
     "start_time": "2024-01-12T19:08:25.334903Z"
    }
   },
   "outputs": [],
   "source": [
    "# Write an entire simulation to a JSON representation for version control.\n",
    "# Can easily share an entire QUIC-Fire simulation with one file.\n",
    "simple_simulation.to_json(\"simulation/simulation.json\")"
   ]
  },
  {
   "cell_type": "code",
   "execution_count": 16,
   "metadata": {
    "ExecuteTime": {
     "end_time": "2024-01-12T19:08:25.696640Z",
     "start_time": "2024-01-12T19:08:25.694669Z"
    }
   },
   "outputs": [],
   "source": [
    "# Read in a new SimulationInputs object from a JSON file\n",
    "new_simulation = SimulationInputs.from_json(simulation_dir / \"simulation.json\")"
   ]
  },
  {
   "cell_type": "code",
   "execution_count": 17,
   "metadata": {
    "ExecuteTime": {
     "end_time": "2024-01-12T19:08:26.112381Z",
     "start_time": "2024-01-12T19:08:26.107053Z"
    }
   },
   "outputs": [
    {
     "name": "stdout",
     "output_type": "stream",
     "text": [
      "sensor1 !Site Name\n",
      "\n",
      "0 !Upper level flag (1 = use this profile for upper level winds)\n",
      "\n",
      "50 !Upper level height (meters)\n",
      "\n",
      "1 !Site Coordinate Flag (1=QUIC, 2=UTM, 3=Lat/Lon)\n",
      "\n",
      "1 !X coordinate (meters)\n",
      "\n",
      "1 !Y coordinate (meters)\n",
      "\n",
      "1705086500 !Begining of time step in Unix Epoch time\n",
      "\n",
      "1 !site boundary layer flag (1 = log, 2 = exp, 3 = urban canopy, 4 = discrete data points)\n",
      "\n",
      "0.1 !site zo\n",
      "\n",
      "0. ! 1/L (default = 0)\n",
      "\n",
      "!Height (m), Speed (m/s), Direction (deg relative to true N)\n",
      "\n",
      "6.1 2.75 270\n"
     ]
    }
   ],
   "source": [
    "# Don't have a JSON file for a simulation?\n",
    "# Read in the simulation from the input files in a directory.\n",
    "new_simulation_from_dir = SimulationInputs.from_directory(simulation_dir)"
   ]
  },
  {
   "cell_type": "markdown",
   "metadata": {},
   "source": [
    "## Create a simulation with .dat files"
   ]
  },
  {
   "cell_type": "code",
   "execution_count": null,
   "metadata": {},
   "outputs": [],
   "source": [
    "custom_simple_simulation = SimulationInputs.create_simulation(nx = 200, ny=200, fire_nz=50, wind_speed=2.75, wind_direction=270, simulation_time=600)"
   ]
  },
  {
   "cell_type": "code",
   "execution_count": null,
   "metadata": {},
   "outputs": [],
   "source": [
    "custom_simple_simulation.set_custom_simulation()"
   ]
  },
  {
   "cell_type": "code",
   "execution_count": null,
   "metadata": {},
   "outputs": [],
   "source": [
    "custom_simple_simulation.write_inputs(\"simulation\")"
   ]
  },
  {
   "cell_type": "markdown",
   "metadata": {},
   "source": [
    "### How do I change which output files get written in the simulation?"
   ]
  },
  {
   "cell_type": "code",
   "execution_count": null,
   "metadata": {},
   "outputs": [],
   "source": []
  },
  {
   "cell_type": "markdown",
   "metadata": {},
   "source": [
    "### What if we want all .dat file inputs, except for topography, which we want as uniform?"
   ]
  },
  {
   "cell_type": "code",
   "execution_count": null,
   "metadata": {},
   "outputs": [],
   "source": [
    "custom_simulation_flat_topo = SimulationInputs.create_simulation(nx = 200, ny=200, fire_nz=50, wind_speed=2.75, wind_direction=270, simulation_time=600)\n",
    "custom_simulation_flat_topo.set_custom_simulation(topo=False)"
   ]
  },
  {
   "cell_type": "code",
   "execution_count": null,
   "metadata": {},
   "outputs": [],
   "source": [
    "custom_simulation_flat_topo.qu_topoinputs"
   ]
  },
  {
   "cell_type": "markdown",
   "metadata": {},
   "source": [
    "### How do I change advanced parameters that are not in a set method?"
   ]
  },
  {
   "cell_type": "code",
   "execution_count": null,
   "metadata": {},
   "outputs": [],
   "source": [
    "custom_simple_simulation.runtime_advanced_user_inputs.use_acw = 1\n",
    "custom_simple_simulation.runtime_advanced_user_inputs.num_cpus = 8"
   ]
  },
  {
   "cell_type": "markdown",
   "metadata": {},
   "source": [
    "### What if there's something I don't know how to do?\n",
    "\n",
    "documentation_link"
   ]
  },
  {
   "cell_type": "markdown",
   "metadata": {},
   "source": [
    "# Outputs Module"
   ]
  },
  {
   "cell_type": "code",
   "execution_count": null,
   "metadata": {},
   "outputs": [],
   "source": [
    "outputs = SimulationOutputs(simulation_dir, nz=50, ny=200, nx=200)"
   ]
  },
  {
   "cell_type": "code",
   "execution_count": null,
   "metadata": {},
   "outputs": [],
   "source": [
    "outputs.list_available_outputs()"
   ]
  },
  {
   "cell_type": "code",
   "execution_count": null,
   "metadata": {},
   "outputs": [],
   "source": [
    "eng_to_atm = outputs.get_output(\"eng_to_atm\")"
   ]
  },
  {
   "cell_type": "code",
   "execution_count": null,
   "metadata": {},
   "outputs": [],
   "source": [
    "eng_to_atm_np = eng_to_atm.to_numpy()"
   ]
  },
  {
   "cell_type": "code",
   "execution_count": null,
   "metadata": {},
   "outputs": [],
   "source": [
    "eng_to_atm_np = eng_to_atm.to_numpy(timestep=2)"
   ]
  },
  {
   "cell_type": "code",
   "execution_count": null,
   "metadata": {},
   "outputs": [],
   "source": [
    "fig, ax = plt.subplots(figsize=(10,10))\n",
    "ax.imshow(eng_to_atm_np, origin=\"lower\")\n",
    "plt.show()"
   ]
  }
 ],
 "metadata": {
  "kernelspec": {
   "display_name": "quicfire-tools",
   "language": "python",
   "name": "python3"
  },
  "language_info": {
   "codemirror_mode": {
    "name": "ipython",
    "version": 3
   },
   "file_extension": ".py",
   "mimetype": "text/x-python",
   "name": "python",
   "nbconvert_exporter": "python",
   "pygments_lexer": "ipython3",
   "version": "3.11.6"
  }
 },
 "nbformat": 4,
 "nbformat_minor": 2
}
